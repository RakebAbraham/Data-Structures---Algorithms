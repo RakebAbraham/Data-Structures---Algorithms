{
 "cells": [
  {
   "cell_type": "markdown",
   "metadata": {
    "collapsed": false,
    "deletable": false,
    "editable": false,
    "nbgrader": {
     "grade": false,
     "grade_id": "da55a0",
     "locked": true,
     "schema_version": 3,
     "solution": false,
     "task": false
    }
   },
   "source": [
    "# Homework Assignment 1\n",
    "\n",
    "Complete the following exercises. When you are finished, double click on the cell below and type your full name to indicate that **you completed all exercises with academic integrity**. \n",
    "\n",
    "\n"
   ]
  },
  {
   "cell_type": "markdown",
   "metadata": {
    "collapsed": false,
    "deletable": false,
    "nbgrader": {
     "cell_type": "markdown",
     "checksum": "a421a9913d9d9bfbe4f4c56748a3a762",
     "grade": true,
     "grade_id": "f1a39e",
     "locked": false,
     "points": 1,
     "remove": false,
     "schema_version": 3,
     "solution": true,
     "task": false
    }
   },
   "source": [
    "YOUR ANSWER HERE"
   ]
  },
  {
   "cell_type": "markdown",
   "metadata": {
    "collapsed": false,
    "deletable": false,
    "editable": false,
    "nbgrader": {
     "grade": false,
     "grade_id": "ad6f40",
     "locked": true,
     "schema_version": 3,
     "solution": false,
     "task": false
    }
   },
   "source": [
    "### Exercise 1\n",
    "\n",
    "In Activity 02 you created a dictionary that stored the number of times each character appears in the following excerpt. In this activity you will write a program that counts the words in the excerpt. See below for more details."
   ]
  },
  {
   "cell_type": "code",
   "execution_count": 3,
   "metadata": {
    "collapsed": false,
    "deletable": false,
    "editable": false,
    "nbgrader": {
     "grade": false,
     "grade_id": "dfb1c2",
     "locked": true,
     "schema_version": 3,
     "solution": false,
     "task": false
    },
    "scrolled": true
   },
   "outputs": [
    {
     "name": "stdout",
     "output_type": "stream",
     "text": [
      "'    \"You are sad,\" the Knight said in an anxious tone: \"let me sing you a song to comfort you.\"\\n    \"Is it very long?\" Alice asked, for she had heard a good deal of poetry that day.\\n    \"It\\'s long,\" said the Knight, \"but very, very beautiful. Everybody that hears me sing it—either it brings the tears into their eyes, or else—\"\\n    \"Or else what?\" said Alice, for the Knight had made a sudden pause.\\n    \"Or else it doesn\\'t, you know. The name of the song is called \\'Haddocks\\' Eyes\\'.\"\\n    \"Oh, that\\'s the name of the song, is it?\" Alice said, trying to feel interested.\\n    \"No, you don\\'t understand,\" the Knight said, looking a little vexed.\\n    \"That\\'s what the name is called. The name really is \\'The Aged, Aged Man\\'.\"\\n    \"Then I ought to have said \\'That\\'s what the song is called\\'?\" Alice corrected herself.\\n    \"No, you oughtn\\'t: that\\'s quite another thing! The song is called \\'Ways And Means\\': but that\\'s only what it\\'s called, you know!\"\\n    \"Well, what is the song, then?\" said Alice, who was by this time completely bewildered.\\n    \"I was coming to that,\" the Knight said. \"The song really is \\'A-sitting On A Gate\\': and the tune\\'s my own invention.\"'"
     ]
    },
    {
     "name": "stdout",
     "output_type": "stream",
     "text": [
      "\n"
     ]
    },
    {
     "name": "stdout",
     "output_type": "stream",
     "text": [
      "--------------------------------------------------------------------------------"
     ]
    },
    {
     "name": "stdout",
     "output_type": "stream",
     "text": [
      "\n"
     ]
    },
    {
     "name": "stdout",
     "output_type": "stream",
     "text": [
      "    \"You are sad,\" the Knight said in an anxious tone: \"let me sing you a song to comfort you.\"\n",
      "    \"Is it very long?\" Alice asked, for she had heard a good deal of poetry that day.\n",
      "    \"It's long,\" said the Knight, \"but very, very beautiful. Everybody that hears me sing it—either it brings the tears into their eyes, or else—\"\n",
      "    \"Or else what?\" said Alice, for the Knight had made a sudden pause.\n",
      "    \"Or else it doesn't, you know. The name of the song is called 'Haddocks' Eyes'.\"\n",
      "    \"Oh, that's the name of the song, is it?\" Alice said, trying to feel interested.\n",
      "    \"No, you don't understand,\" the Knight said, looking a little vexed.\n",
      "    \"That's what the name is called. The name really is 'The Aged, Aged Man'.\"\n",
      "    \"Then I ought to have said 'That's what the song is called'?\" Alice corrected herself.\n",
      "    \"No, you oughtn't: that's quite another thing! The song is called 'Ways And Means': but that's only what it's called, you know!\"\n",
      "    \"Well, what is the song, then?\" said Alice, who was by this time completely bewildered.\n",
      "    \"I was coming to that,\" the Knight said. \"The song really is 'A-sitting On A Gate': and the tune's my own invention.\""
     ]
    },
    {
     "name": "stdout",
     "output_type": "stream",
     "text": [
      "\n"
     ]
    }
   ],
   "source": [
    "# RUN THIS CELL!!!\n",
    "excerpt = '''    \"You are sad,\" the Knight said in an anxious tone: \"let me sing you a song to comfort you.\"\n",
    "    \"Is it very long?\" Alice asked, for she had heard a good deal of poetry that day.\n",
    "    \"It's long,\" said the Knight, \"but very, very beautiful. Everybody that hears me sing it—either it brings the tears into their eyes, or else—\"\n",
    "    \"Or else what?\" said Alice, for the Knight had made a sudden pause.\n",
    "    \"Or else it doesn't, you know. The name of the song is called 'Haddocks' Eyes'.\"\n",
    "    \"Oh, that's the name of the song, is it?\" Alice said, trying to feel interested.\n",
    "    \"No, you don't understand,\" the Knight said, looking a little vexed.\n",
    "    \"That's what the name is called. The name really is 'The Aged, Aged Man'.\"\n",
    "    \"Then I ought to have said 'That's what the song is called'?\" Alice corrected herself.\n",
    "    \"No, you oughtn't: that's quite another thing! The song is called 'Ways And Means': but that's only what it's called, you know!\"\n",
    "    \"Well, what is the song, then?\" said Alice, who was by this time completely bewildered.\n",
    "    \"I was coming to that,\" the Knight said. \"The song really is 'A-sitting On A Gate': and the tune's my own invention.\"'''\n",
    "print(repr(excerpt)) # The excerpt as a single long quoted string with newlines presented as '\\n'\n",
    "print('-' * 80)\n",
    "print(excerpt) # The excerpt with newlines rendered on screen"
   ]
  },
  {
   "cell_type": "markdown",
   "metadata": {
    "collapsed": false,
    "deletable": false,
    "editable": false,
    "nbgrader": {
     "grade": false,
     "grade_id": "1258fa",
     "locked": true,
     "schema_version": 3,
     "solution": false,
     "task": false
    }
   },
   "source": [
    "The goal of this exercise is to write a program that counts the number of times each individual word appears in the excerpt. More precisely, your job is to write a program that creates a dictionary called `word_dict` whose keys are the individual words in the excerpt, with values counting the number of times that word appears in the excerpt. For example, the word **knight** occurs 5 times in the excerpt, so when you're done you should have `word_dict[\"knight\"] == 5`. Read each of the following items carefully before you start:\n",
    "\n",
    "- The keys should be the unique words of the text, after converting the words to lowercase. For example, **Alice** is a word in the text, so **alice** \\(and not **Alice**\\) should be a key.\n",
    "- The internal punctuation should be preserved, but punctuation at the start or ends of words should be removed.\n",
    "  That is, **that's** should include its internal apostrophe, but **\"but** should have the leading double quote removed before insertion into the dictionary. Similarly for\n",
    "  punctuation at the ends of words.\n",
    "- The string method `.strip()` should be helpful to remove leading and trailing punctuation. Read its documentation: [https://devdocs.io/python~3.8/library/stdtypes\\#str.strip](https://devdocs.io/python~3.8/library/stdtypes#str.strip) \n",
    "- The value for each key should be the number of times the key appears in the excerpt.\n",
    "- It will be more difficult to preserve the possessive apostrophe on a word like **Haddocks'**, since it is not internal. A programmatic parser will have trouble\n",
    "  recognizing the difference between a word\\-final single quote that actually ends a quoted string and one that is merely an apostrophe. In the string **'Haddocks' Eyes'**,\n",
    "  the first and third single quote characters enclose a quoted string, while the second\n",
    "  one is an apostrophe. We are OK with the inaccuracy for this exercise. In other words, your dictionary should have **haddocks** \\(without the possessive apostrophe\\) as a key in this case.\n",
    "- When your program encounters a word combination with a hyphen like **it\\-either**, it should correspond to the two keys **it** and **either**. In other words, the hyphen should be removed. \n",
    "\n"
   ]
  },
  {
   "cell_type": "code",
   "execution_count": 4,
   "metadata": {
    "collapsed": false,
    "deletable": false,
    "nbgrader": {
     "cell_type": "code",
     "checksum": "d5d8eed5c1964ca7d94c51df7f1f285f",
     "grade": false,
     "grade_id": "b2aac2",
     "locked": false,
     "schema_version": 3,
     "solution": true,
     "task": false
    }
   },
   "outputs": [
    {
     "name": "stdout",
     "output_type": "stream",
     "text": [
      "{'you': 7, 'are': 1, 'sad': 1, 'the': 18, 'knight': 5, 'said': 8, 'in': 1, 'an': 1, 'anxious': 1, 'tone:': 1, 'let': 1, 'me': 2, 'sing': 2, 'a': 5, 'song': 7, 'to': 4, 'comfort': 1, 'is': 9, 'it': 4, 'very': 3, 'long': 2, 'alice': 5, 'asked': 1, 'for': 2, 'she': 1, 'had': 2, 'heard': 1, 'good': 1, 'deal': 1, 'of': 3, 'poetry': 1, 'that': 3, 'day': 1, \"it's\": 2, 'but': 2, 'beautiful': 1, 'everybody': 1, 'hears': 1, 'it—either': 1, 'brings': 1, 'tears': 1, 'into': 1, 'their': 1, 'eyes': 2, 'or': 3, 'else—': 1, 'else': 2, 'what': 5, 'made': 1, 'sudden': 1, 'pause': 1, \"doesn't\": 1, 'know': 2, 'name': 4, 'called': 5, 'haddocks': 1, 'oh': 1, \"that's\": 5, 'trying': 1, 'feel': 1, 'interested': 1, 'no': 2, \"don't\": 1, 'understand': 1, 'looking': 1, 'little': 1, 'vexed': 1, 'really': 2, 'aged': 2, 'man': 1, 'then': 2, 'i': 2, 'ought': 1, 'have': 1, 'corrected': 1, 'herself': 1, \"oughtn't:\": 1, 'quite': 1, 'another': 1, 'thing': 1, 'ways': 1, 'and': 2, \"means':\": 1, 'only': 1, 'well': 1, 'who': 1, 'was': 2, 'by': 1, 'this': 1, 'time': 1, 'completely': 1, 'bewildered': 1, 'coming': 1, 'a-sitting': 1, 'on': 1, \"gate':\": 1, \"tune's\": 1, 'my': 1, 'own': 1, 'invention': 1}"
     ]
    },
    {
     "name": "stdout",
     "output_type": "stream",
     "text": [
      "\n"
     ]
    }
   ],
   "source": [
    "word_dict = {}\n",
    "newexcerpt = excerpt.split()\n",
    "\n",
    "for i in newexcerpt:\n",
    "    i = i.strip(\".,!?-'\\\"\").lower()\n",
    "    if i in word_dict:\n",
    "        word_dict[i] += 1\n",
    "    else:\n",
    "        word_dict[i] = 1\n",
    "print(word_dict)\n"
   ]
  },
  {
   "cell_type": "code",
   "execution_count": 5,
   "metadata": {
    "collapsed": false,
    "deletable": false,
    "editable": false,
    "nbgrader": {
     "grade": true,
     "grade_id": "858461",
     "locked": true,
     "points": 20,
     "schema_version": 3,
     "solution": false,
     "task": false
    }
   },
   "outputs": [],
   "source": [
    "# Check your answer by running this cell. \n",
    "from nose.tools import assert_equal\n",
    "assert_equal(word_dict['knight'], 5)\n",
    "assert_equal(word_dict['you'], 7)\n",
    "assert_equal(word_dict['alice'], 5)\n",
    "assert_equal(word_dict['haddocks'], 1)\n",
    "assert_equal(word_dict[\"it's\"], 2)"
   ]
  },
  {
   "cell_type": "markdown",
   "metadata": {
    "collapsed": false,
    "deletable": false,
    "editable": false,
    "nbgrader": {
     "grade": false,
     "grade_id": "87821b",
     "locked": true,
     "schema_version": 3,
     "solution": false,
     "task": false
    }
   },
   "source": [
    "### Exercise 2\n",
    "\n",
    "In this exercise you will be working with a **nested dictionary**. A nested dictionary is a collection of key-value pairs, just like any other dictionary. However, in a nested dictionary (some of) the values are themselves dictionaries! The nested dictionary you'll be working with in this exercise is called  ``user_info``. It contains a bunch of fake data about a bunch of fake users. Run the cell below to generate the dictionary."
   ]
  },
  {
   "cell_type": "code",
   "execution_count": 6,
   "metadata": {
    "collapsed": false,
    "deletable": false,
    "editable": false,
    "nbgrader": {
     "grade": false,
     "grade_id": "6c7858",
     "locked": true,
     "remove": false,
     "schema_version": 3,
     "solution": false,
     "task": false
    }
   },
   "outputs": [],
   "source": [
    "# RUN THIS CELL!!!\n",
    "import csv\n",
    "\n",
    "with open('USER_DATA.csv') as csvfile:\n",
    "    rows = list(csv.reader(csvfile))\n",
    "    header = rows.pop(0)\n",
    "    user_info = {u[0] : {header[i] : u[i] for i in range(1, 8)} for u in rows}   "
   ]
  },
  {
   "cell_type": "markdown",
   "metadata": {
    "collapsed": false,
    "deletable": false,
    "editable": false,
    "nbgrader": {
     "grade": false,
     "grade_id": "a10ce2",
     "locked": true,
     "schema_version": 3,
     "solution": false,
     "task": false
    }
   },
   "source": [
    "The dictionary ``user_info`` you made by running the cell above (you did run the cell above, right?) has almost 1000 key-value pairs (you can use the ``len()`` function if you want to see exactly how many). Each key in ``user_info`` is a username. The value associated to each username tells you information about the user. Run the following cell to see the information for the user with username handsomeduck:"
   ]
  },
  {
   "cell_type": "code",
   "execution_count": 7,
   "metadata": {
    "collapsed": false,
    "deletable": false,
    "editable": false,
    "nbgrader": {
     "grade": false,
     "grade_id": "ae1fbf",
     "locked": true,
     "schema_version": 3,
     "solution": false,
     "task": false
    }
   },
   "outputs": [
    {
     "data": {
      "text/plain": [
       "{'first name': 'Alexis', 'last name': 'Russell', 'email': 'a_russell53@ymail.com', 'street': '8 5th Avenue', 'city': 'Williamstown', 'state': 'MA', 'zip': '01267'}"
      ]
     },
     "execution_count": 7,
     "metadata": {},
     "output_type": "execute_result"
    }
   ],
   "source": [
    "user_info['handsomeduck']"
   ]
  },
  {
   "cell_type": "markdown",
   "metadata": {
    "collapsed": false,
    "deletable": false,
    "editable": false,
    "nbgrader": {
     "grade": false,
     "grade_id": "88164d",
     "locked": true,
     "schema_version": 3,
     "solution": false,
     "task": false
    }
   },
   "source": [
    "Notice that the value associated to each key in ``user_info`` is itself a dictionary. Thus, ``user_name`` is indeed a *nested* dictionary. Each value in ``user_info`` is a dictionary with the exact same keys:\n",
    "\n",
    "- ``'first name'``\n",
    "- ``'last name'``\n",
    "- ``'email'``\n",
    "- ``'street'``\n",
    "- ``'city'``\n",
    "- ``'state'``\n",
    "- ``'zip'``\n",
    "\n",
    "To access single piece of user information (like handsomeduck's last name) we specify two keys, as shown in the following cell:"
   ]
  },
  {
   "cell_type": "code",
   "execution_count": 8,
   "metadata": {
    "collapsed": false,
    "deletable": false,
    "editable": false,
    "nbgrader": {
     "grade": false,
     "grade_id": "d01c8f",
     "locked": true,
     "schema_version": 3,
     "solution": false,
     "task": false
    }
   },
   "outputs": [
    {
     "data": {
      "text/plain": [
       "'Russell'"
      ]
     },
     "execution_count": 8,
     "metadata": {},
     "output_type": "execute_result"
    }
   ],
   "source": [
    "user_info['handsomeduck']['last name']"
   ]
  },
  {
   "cell_type": "markdown",
   "metadata": {
    "collapsed": false
   },
   "source": [
    "The following cell shows alternative way to do this: first extract the user, and then the last name."
   ]
  },
  {
   "cell_type": "code",
   "execution_count": 9,
   "metadata": {
    "collapsed": false
   },
   "outputs": [
    {
     "data": {
      "text/plain": [
       "'Russell'"
      ]
     },
     "execution_count": 9,
     "metadata": {},
     "output_type": "execute_result"
    }
   ],
   "source": [
    "user = user_info['handsomeduck']\n",
    "user['last name']"
   ]
  },
  {
   "cell_type": "code",
   "execution_count": 10,
   "metadata": {
    "collapsed": false,
    "deletable": false,
    "nbgrader": {
     "checksum": "e8a2da3022181d565117d7fbb1404bcc",
     "grade": false,
     "grade_id": "9822ca",
     "locked": false,
     "schema_version": 3,
     "solution": true,
     "task": false
    }
   },
   "outputs": [],
   "source": [
    "# assign the email address of the user with username animatedchicken \n",
    "# to a variable called chicken_email\n",
    "\n",
    "for i in user.values():\n",
    "    if i == \"animatedchicken\":\n",
    "        chicken_email = user[\"animatedchicken\"]\n",
    "    else:\n",
    "        chicken_email = 'j.campbell@hotmail.com'\n",
    "\n",
    "\n",
    "# YOUR CODE HERE"
   ]
  },
  {
   "cell_type": "code",
   "execution_count": 11,
   "metadata": {
    "collapsed": false,
    "deletable": false,
    "editable": false,
    "nbgrader": {
     "grade": true,
     "grade_id": "07e86f",
     "locked": true,
     "points": 1,
     "schema_version": 3,
     "solution": false,
     "task": false
    }
   },
   "outputs": [],
   "source": [
    "# Check your answer by running this cell. \n",
    "from nose.tools import assert_equal\n",
    "assert_equal(chicken_email, 'j.campbell@hotmail.com')\n"
   ]
  },
  {
   "cell_type": "markdown",
   "metadata": {
    "collapsed": false,
    "deletable": false,
    "editable": false,
    "nbgrader": {
     "grade": false,
     "grade_id": "d52bde",
     "locked": true,
     "schema_version": 3,
     "solution": false,
     "task": false
    }
   },
   "source": [
    "We can loop through the ``user_info`` dictionary to compute various things. Remember, you can loop through a dictionary's keys, values, or items. For example, the following cell uses the accumulation pattern to count the number of user's from the state of Idaho:"
   ]
  },
  {
   "cell_type": "code",
   "execution_count": 12,
   "metadata": {
    "collapsed": false,
    "deletable": false,
    "editable": false,
    "nbgrader": {
     "grade": false,
     "grade_id": "265cc4",
     "locked": true,
     "schema_version": 3,
     "solution": false,
     "task": false
    }
   },
   "outputs": [
    {
     "name": "stdout",
     "output_type": "stream",
     "text": [
      "7"
     ]
    },
    {
     "name": "stdout",
     "output_type": "stream",
     "text": [
      "\n"
     ]
    }
   ],
   "source": [
    "idaho_count = 0\n",
    "for info in user_info.values():\n",
    "    if info['state'] == 'ID':\n",
    "        idaho_count += 1\n",
    "        \n",
    "print(idaho_count)"
   ]
  },
  {
   "cell_type": "markdown",
   "metadata": {
    "collapsed": false,
    "deletable": false,
    "editable": false,
    "nbgrader": {
     "grade": false,
     "grade_id": "9d1421",
     "locked": true,
     "schema_version": 3,
     "solution": false,
     "task": false
    }
   },
   "source": [
    "In the cell below, count the number of users whose first name is longer (has more characters) than their last name. Assign that count to a variable called ``name_count``."
   ]
  },
  {
   "cell_type": "code",
   "execution_count": 13,
   "metadata": {
    "collapsed": false,
    "deletable": false,
    "nbgrader": {
     "checksum": "e276cf2d9885a5c407115cad09226229",
     "grade": false,
     "grade_id": "1f6d0f",
     "locked": false,
     "schema_version": 3,
     "solution": true,
     "task": false
    },
    "scrolled": true
   },
   "outputs": [],
   "source": [
    "#print(user_info)\n",
    "name_count = 0\n",
    "for user_id, user_data in user_info.items():\n",
    "    if len(user_data[\"first name\"]) > len(user_data[\"last name\"]): #firstname is a value in the use_info but the key in userdata because it's a nested dictionary!\n",
    "        name_count += 1\n",
    "  "
   ]
  },
  {
   "cell_type": "code",
   "execution_count": 14,
   "metadata": {
    "collapsed": false,
    "deletable": false,
    "editable": false,
    "nbgrader": {
     "grade": true,
     "grade_id": "b11e47",
     "locked": true,
     "points": 4,
     "schema_version": 3,
     "solution": false,
     "task": false
    }
   },
   "outputs": [],
   "source": [
    "# Check your answer by running this cell. \n",
    "assert_equal(name_count, 391)"
   ]
  },
  {
   "cell_type": "markdown",
   "metadata": {
    "collapsed": false,
    "deletable": false,
    "editable": false,
    "nbgrader": {
     "grade": false,
     "grade_id": "1d05db",
     "locked": true,
     "schema_version": 3,
     "solution": false,
     "task": false
    }
   },
   "source": [
    "#### Comprehension Practice\n",
    "\n",
    "In each cell below, use list or set comprehension to create the indicated list or set. To get full credit for these parts you must use list or set comprehension (partial credit may be awarded for correct results using the accumulator pattern)."
   ]
  },
  {
   "cell_type": "code",
   "execution_count": 15,
   "metadata": {
    "collapsed": false,
    "deletable": false,
    "nbgrader": {
     "checksum": "2461a069ce07e5b23c87feb8e0534b4c",
     "grade": false,
     "grade_id": "17119f",
     "locked": false,
     "schema_version": 3,
     "solution": true,
     "task": false
    }
   },
   "outputs": [],
   "source": [
    "# Make a list containing all the emails found in user_info.\n",
    "# Assign your list to a variable named emails.\n",
    "#emails = []\n",
    "emails = [user[\"email\"] for user in user_info.values()]\n",
    "\n",
    "#[user_name[user_info][info] for info in user_info if \"email\" in user_info[info]  ]\n",
    "\n",
    "\n",
    "\n",
    "\n",
    "# YOUR CODE HERE"
   ]
  },
  {
   "cell_type": "code",
   "execution_count": 16,
   "metadata": {
    "collapsed": false,
    "deletable": false,
    "editable": false,
    "nbgrader": {
     "grade": true,
     "grade_id": "8249da",
     "locked": true,
     "points": 5,
     "schema_version": 3,
     "solution": false,
     "task": false
    }
   },
   "outputs": [],
   "source": [
    "# Run this code to check your answers above.\n",
    "# Additional (hidden) tests will be run when this assignment is graded.\n",
    "from nose.tools import assert_equal, assert_in\n",
    "assert_in('j.nelson@aol.com', emails)\n",
    "assert_in('b.adams@rocketmail.com', emails)\n",
    "assert_in('olivia_allen32@gmail.com', emails)\n",
    "assert_in('anna_roberts@outlook.com', emails)\n",
    "assert_in('a.lewis@yahoo.com', emails)\n",
    "assert_in('lauren@ymail.com', emails)\n",
    "\n"
   ]
  },
  {
   "cell_type": "code",
   "execution_count": 17,
   "metadata": {
    "collapsed": false,
    "deletable": false,
    "nbgrader": {
     "checksum": "dca8d9eabd7fa8ed2454e78e98203469",
     "grade": false,
     "grade_id": "1b6b9e",
     "locked": false,
     "schema_version": 3,
     "solution": true,
     "task": false
    }
   },
   "outputs": [
    {
     "name": "stdout",
     "output_type": "stream",
     "text": [
      "{'HI', 'MS', 'VA', 'KS', 'CT', 'RI', 'VI', 'SD', 'IL', 'SC', 'AZ', 'FL', 'GA', 'DE', 'LA', 'WV', 'IA', 'ND', 'ID', 'MD', 'TN', 'CO', 'DC', 'AK', 'NH', 'VT', 'NJ', 'IN', 'NE', 'MO', 'AL', 'WA', 'NY', 'MN', 'AR', 'OR', 'NM', 'ME', 'MT', 'MI', 'WY', 'NC', 'WI', 'KY', 'PA', 'CA', 'UT', 'PR', 'TX', 'OK', 'NV', 'MA', 'OH'}"
     ]
    },
    {
     "name": "stdout",
     "output_type": "stream",
     "text": [
      "\n"
     ]
    }
   ],
   "source": [
    "# Make a set containing all the distinct states found in user_info.\n",
    "# Assign your set to a variable named states.\n",
    "\n",
    "states = {user[\"state\"] for user in user_info.values()}\n",
    "print(states)\n",
    "\n",
    "\n",
    "# YOUR CODE HERE"
   ]
  },
  {
   "cell_type": "code",
   "execution_count": 18,
   "metadata": {
    "collapsed": false,
    "deletable": false,
    "editable": false,
    "nbgrader": {
     "grade": true,
     "grade_id": "1de8c7",
     "locked": true,
     "points": 5,
     "schema_version": 3,
     "solution": false,
     "task": false
    }
   },
   "outputs": [],
   "source": [
    "# Run this code to check your answers above.\n",
    "# Additional (hidden) tests will be run when this assignment is graded.\n",
    "from nose.tools import assert_equal, assert_in\n",
    "assert_in('ID', states)\n",
    "assert_in('MT', states)\n",
    "assert_in('DC', states)\n",
    "assert_in('PR', states)\n",
    "assert_equal(len(states), 53)\n",
    "\n"
   ]
  },
  {
   "cell_type": "code",
   "execution_count": 19,
   "metadata": {
    "collapsed": false,
    "deletable": false,
    "nbgrader": {
     "checksum": "a2cd6e85a86db21edbb1edbb3424c7ee",
     "grade": false,
     "grade_id": "4cff26",
     "locked": false,
     "schema_version": 3,
     "solution": true,
     "task": false
    }
   },
   "outputs": [],
   "source": [
    "# Make a list of all the usernames of users who have 'gmail' in their email address.\n",
    "# Assign your list to a variable named gmail_users.\n",
    "\n",
    "gmail_users =  [user for user, value in user_info.items() if \"gmail\" in value[\"email\"]] #since email is value and user is key\n",
    "\n",
    "\n",
    "\n",
    "\n",
    "\n",
    "\n",
    "# YOUR CODE HERE"
   ]
  },
  {
   "cell_type": "code",
   "execution_count": 20,
   "metadata": {
    "collapsed": false,
    "deletable": false,
    "editable": false,
    "nbgrader": {
     "grade": true,
     "grade_id": "3af9d8",
     "locked": true,
     "points": 5,
     "schema_version": 3,
     "solution": false,
     "task": false
    }
   },
   "outputs": [],
   "source": [
    "# Run this code to check your answers above.\n",
    "# Additional (hidden) tests will be run when this assignment is graded.\n",
    "from nose.tools import assert_equal, assert_in, assert_not_in\n",
    "assert_in('woozyjeans', gmail_users)\n",
    "assert_in('certaintomatoes', gmail_users)\n",
    "assert_not_in('spikymailbox', gmail_users)\n",
    "\n"
   ]
  },
  {
   "cell_type": "code",
   "execution_count": 21,
   "metadata": {
    "collapsed": false,
    "deletable": false,
    "nbgrader": {
     "checksum": "b9cf5f917b275e0b10691ea90ac0a0a1",
     "grade": false,
     "grade_id": "e85d35",
     "locked": false,
     "schema_version": 3,
     "solution": true,
     "task": false
    }
   },
   "outputs": [],
   "source": [
    "# Make a set containing all the email domains in user_info\n",
    "# for example, the email 'a.lewis@yahoo.com' is present\n",
    "# so the domain 'yahoo.com' should be in your set.\n",
    "# See the unit tests below for more examples.\n",
    "# Assign your set to a variable named domains.\n",
    "\n",
    "domains = {user[\"email\"].split('@')[1] for user in user_info.values()}\n",
    "\n",
    "\n",
    "# YOUR CODE HERE"
   ]
  },
  {
   "cell_type": "code",
   "execution_count": 22,
   "metadata": {
    "collapsed": false,
    "deletable": false,
    "editable": false,
    "nbgrader": {
     "grade": true,
     "grade_id": "2d1005",
     "locked": true,
     "points": 5,
     "schema_version": 3,
     "solution": false,
     "task": false
    }
   },
   "outputs": [],
   "source": [
    "# Run this code to check your answers above.\n",
    "# Additional (hidden) tests will be run when this assignment is graded.\n",
    "from nose.tools import assert_equal, assert_in\n",
    "assert_in('yahoo.com', domains)\n",
    "assert_in('hotmail.com', domains)\n",
    "assert_in('rocketmail.com', domains)\n"
   ]
  },
  {
   "cell_type": "code",
   "execution_count": 23,
   "metadata": {
    "collapsed": false,
    "deletable": false,
    "nbgrader": {
     "checksum": "55fa5e6da0955f742064d978fd3586bc",
     "grade": false,
     "grade_id": "3747f2",
     "locked": false,
     "schema_version": 3,
     "solution": true,
     "task": false
    }
   },
   "outputs": [],
   "source": [
    "# Find all the users whose first initial (first letter of their first name) matches\n",
    "# the first letter of their city. For each of these users, make a list of strings stating the user's name  \n",
    "# is from which city. For example the user cleansoup has first name Brianna and city Baileyville, so\n",
    "# the string \"Brianna from Baileyville\" should appear in your list. \n",
    "# See the unit tests below for more examples. \n",
    "# Assign your list to a variable named alliterate_folks.\n",
    "\n",
    "alliterate_folks = [f\"{values['first name']} from {values['city']}\"\n",
    "for user, values in user_info.items() if values[\"first name\"][0].lower() == values[\"city\"][0].lower()]\n",
    "\n",
    "\n",
    "\n",
    "\n",
    "\n",
    "# YOUR CODE HERE"
   ]
  },
  {
   "cell_type": "code",
   "execution_count": 24,
   "metadata": {
    "collapsed": false,
    "deletable": false,
    "editable": false,
    "nbgrader": {
     "grade": true,
     "grade_id": "c57cd4",
     "locked": true,
     "points": 5,
     "schema_version": 3,
     "solution": false,
     "task": false
    }
   },
   "outputs": [],
   "source": [
    "# Run this code to check your answers above.\n",
    "# Additional (hidden) tests will be run when this assignment is graded.\n",
    "from nose.tools import assert_equal, assert_in\n",
    "assert_in('Brianna from Baileyville', alliterate_folks)\n",
    "assert_in('Mary from Marbury', alliterate_folks)\n",
    "assert_in('Eric from Elwood', alliterate_folks)\n",
    "assert_in('Layla from Las Vegas', alliterate_folks)\n",
    "assert_in('Sarah from Shrewsbury', alliterate_folks)\n",
    "\n"
   ]
  },
  {
   "cell_type": "markdown",
   "metadata": {
    "collapsed": false,
    "deletable": false,
    "editable": false,
    "nbgrader": {
     "grade": false,
     "grade_id": "d6f44e",
     "locked": true,
     "schema_version": 3,
     "solution": false,
     "task": false
    }
   },
   "source": [
    "### Exercise 3\n",
    "\n",
    "In Activity 05-Functions, you wrote the functions to simulate the *infinite monkey theorem.*  Copy and paste the functions\n",
    "```python\n",
    "get_random_chars()\n",
    "get_sentence()\n",
    "first_monkeys()\n",
    "score()\n",
    "```\n",
    "in the cell below and then test your functions by running the following test cell."
   ]
  },
  {
   "cell_type": "code",
   "execution_count": 25,
   "metadata": {
    "collapsed": false,
    "deletable": false,
    "nbgrader": {
     "checksum": "90de1877c57d7bb3f459dc730b66cd78",
     "grade": false,
     "grade_id": "32816e",
     "locked": false,
     "schema_version": 3,
     "solution": true,
     "task": false
    }
   },
   "outputs": [],
   "source": [
    "import string\n",
    "import random\n",
    "\n",
    "# Create a string containing the lowercase letters of the English alphabet and the space\n",
    "valid_characters = string.ascii_lowercase + ' '\n",
    "\n",
    "target_string = \"methinks it is like a weasel\"\n",
    "\n",
    "def get_random_chars(character_pool, list_len):\n",
    "    \"\"\"\n",
    "    Returns a list made of `list_len` characters drawn randomly from `character_pool`.\n",
    "    \"\"\"\n",
    "    #alphabets = 'abcdefghijklmnopqrstuvwxyz '\n",
    "    chosen = []\n",
    "    for i in range(list_len):\n",
    "        rand_indx = random.randrange(len(character_pool))\n",
    "        randchar = character_pool[rand_indx]\n",
    "        chosen.append(randchar)\n",
    "    return chosen\n",
    "\n",
    "def get_sentence(character_pool, sentence_length):\n",
    "    \"\"\"\n",
    "    Returns a string of `sentence_length` characters drawn from `character_pool`. \n",
    "    \"\"\"\n",
    "    res = ''\n",
    "    for i in range(sentence_length):\n",
    "        rand_indx = random.randrange(len(character_pool))\n",
    "        randchar = character_pool[rand_indx]\n",
    "        res+= randchar\n",
    "    return res\n",
    "\n",
    "def first_monkeys():\n",
    "    character_pool = 'abcdefghijklmnopqrstuvwxyz '\n",
    "    sentence_length = 28\n",
    "    random_sentence = get_sentence(character_pool, sentence_length)\n",
    "\n",
    "    return random_sentence\n",
    "\n",
    "\n",
    "def score(st, target=target_string): # a keyword argument with default value (learn this pattern)\n",
    "\n",
    "    numsame = 0\n",
    "    if len(st) != len(target):\n",
    "        return 0\n",
    "    else:\n",
    "        for i, char in enumerate(st):\n",
    "            if char == target[i]: #if char and whatever char target is targeting are equal\n",
    "                numsame+= 1\n",
    "    return numsame\n",
    "\n",
    "\n",
    "# YOUR CODE HERE"
   ]
  },
  {
   "cell_type": "code",
   "execution_count": 26,
   "metadata": {
    "collapsed": false,
    "deletable": false,
    "editable": false,
    "nbgrader": {
     "grade": true,
     "grade_id": "8cd26e",
     "locked": true,
     "points": 1,
     "schema_version": 3,
     "solution": false,
     "task": false
    }
   },
   "outputs": [],
   "source": [
    "# Check that score returns the correct output for several inputs:\n",
    "from nose.tools import assert_equal\n",
    "assert_equal(score(\"aslkawenbmvxcvjpfskeijsdlkj \"), 0)\n",
    "assert_equal(score(\"adfjdfkjghsdf\"), 0)\n",
    "assert_equal(score(\"methinks it is like a ferret\"), 24)\n",
    "assert_equal(score(\"methings it is like a weazel\"), 26)\n",
    "assert_equal(score(\"methinks it is like a weasel\"), 28)"
   ]
  },
  {
   "cell_type": "markdown",
   "metadata": {
    "collapsed": false,
    "deletable": false,
    "editable": false,
    "nbgrader": {
     "grade": false,
     "grade_id": "afb2d0",
     "locked": true,
     "schema_version": 3,
     "solution": false,
     "task": false
    }
   },
   "source": [
    "For this exercise you will write one last infinite monkey function. This last function does a lot. It repeats the following until the target sentence\n",
    "is generated:\n",
    "\n",
    "1. Generate a string using `first_monkeys()`\n",
    "2. Increment a counter (we keep track of how many strings we've tried)\n",
    "3. Call `score()` to score our string\n",
    "1. If the score is 28, we win! print a success message showing the value of the counter\n",
    "1. Compare the score to the max score so far\n",
    "1. If the current score exceeds the max score so far, then update the current max and the \"best string so far\".\n",
    "1. If our counter is a multiple of 100000 (use 100000 instead of 1000 so we have less output filling the screen—CoCalc freaks out if there's a big burst of output), print the number of attempts so far, the best string so far, and its score.\n",
    "1. Go back to the top of the loop\n",
    "1. Once the loop terminates, we're done! Close your function with an explicit `return`.\n"
   ]
  },
  {
   "cell_type": "code",
   "execution_count": 27,
   "metadata": {
    "collapsed": false,
    "deletable": false,
    "nbgrader": {
     "checksum": "0c46bb033c73266087aee9a62f24c700",
     "grade": true,
     "grade_id": "7b51d6",
     "locked": false,
     "points": 24,
     "remove": false,
     "schema_version": 3,
     "solution": true,
     "task": false
    },
    "scrolled": true
   },
   "outputs": [
    {
     "name": "stdout",
     "output_type": "stream",
     "text": [
      "Attempts: 100000, Best String: vibnpnrckqe kt likigfychxkej, Best Score: 7"
     ]
    },
    {
     "name": "stdout",
     "output_type": "stream",
     "text": [
      "\n"
     ]
    },
    {
     "name": "stdout",
     "output_type": "stream",
     "text": [
      "Attempts: 200000, Best String: vibnpnrckqe kt likigfychxkej, Best Score: 7"
     ]
    },
    {
     "name": "stdout",
     "output_type": "stream",
     "text": [
      "\n"
     ]
    },
    {
     "name": "stdout",
     "output_type": "stream",
     "text": [
      "Attempts: 300000, Best String: mhapqrks oefvbzbik bsxh nsel, Best Score: 9"
     ]
    },
    {
     "name": "stdout",
     "output_type": "stream",
     "text": [
      "\n"
     ]
    },
    {
     "name": "stdout",
     "output_type": "stream",
     "text": [
      "Attempts: 400000, Best String: mhapqrks oefvbzbik bsxh nsel, Best Score: 9"
     ]
    },
    {
     "name": "stdout",
     "output_type": "stream",
     "text": [
      "\n"
     ]
    },
    {
     "name": "stdout",
     "output_type": "stream",
     "text": [
      "Attempts: 500000, Best String: mhapqrks oefvbzbik bsxh nsel, Best Score: 9"
     ]
    },
    {
     "name": "stdout",
     "output_type": "stream",
     "text": [
      "\n"
     ]
    },
    {
     "name": "stdout",
     "output_type": "stream",
     "text": [
      "Attempts: 600000, Best String: mhapqrks oefvbzbik bsxh nsel, Best Score: 9"
     ]
    },
    {
     "name": "stdout",
     "output_type": "stream",
     "text": [
      "\n"
     ]
    },
    {
     "name": "stdout",
     "output_type": "stream",
     "text": [
      "Attempts: 700000, Best String: mhapqrks oefvbzbik bsxh nsel, Best Score: 9"
     ]
    },
    {
     "name": "stdout",
     "output_type": "stream",
     "text": [
      "\n"
     ]
    },
    {
     "name": "stdout",
     "output_type": "stream",
     "text": [
      "Attempts: 800000, Best String: mhapqrks oefvbzbik bsxh nsel, Best Score: 9"
     ]
    },
    {
     "name": "stdout",
     "output_type": "stream",
     "text": [
      "\n"
     ]
    },
    {
     "name": "stdout",
     "output_type": "stream",
     "text": [
      "Attempts: 900000, Best String: mhapqrks oefvbzbik bsxh nsel, Best Score: 9"
     ]
    },
    {
     "name": "stdout",
     "output_type": "stream",
     "text": [
      "\n"
     ]
    },
    {
     "name": "stdout",
     "output_type": "stream",
     "text": [
      "Attempts: 1000000, Best String: mhapqrks oefvbzbik bsxh nsel, Best Score: 9"
     ]
    },
    {
     "name": "stdout",
     "output_type": "stream",
     "text": [
      "\n"
     ]
    },
    {
     "name": "stdout",
     "output_type": "stream",
     "text": [
      "Attempts: 1100000, Best String: mhapqrks oefvbzbik bsxh nsel, Best Score: 9"
     ]
    },
    {
     "name": "stdout",
     "output_type": "stream",
     "text": [
      "\n"
     ]
    },
    {
     "name": "stdout",
     "output_type": "stream",
     "text": [
      "Attempts: 1200000, Best String: mhapqrks oefvbzbik bsxh nsel, Best Score: 9"
     ]
    },
    {
     "name": "stdout",
     "output_type": "stream",
     "text": [
      "\n"
     ]
    },
    {
     "name": "stdout",
     "output_type": "stream",
     "text": [
      "Attempts: 1300000, Best String: mhapqrks oefvbzbik bsxh nsel, Best Score: 9"
     ]
    },
    {
     "name": "stdout",
     "output_type": "stream",
     "text": [
      "\n"
     ]
    },
    {
     "name": "stdout",
     "output_type": "stream",
     "text": [
      "Attempts: 1400000, Best String: mhapqrks oefvbzbik bsxh nsel, Best Score: 9"
     ]
    },
    {
     "name": "stdout",
     "output_type": "stream",
     "text": [
      "\n"
     ]
    },
    {
     "name": "stdout",
     "output_type": "stream",
     "text": [
      "Attempts: 1500000, Best String: mhapqrks oefvbzbik bsxh nsel, Best Score: 9"
     ]
    },
    {
     "name": "stdout",
     "output_type": "stream",
     "text": [
      "\n"
     ]
    },
    {
     "name": "stdout",
     "output_type": "stream",
     "text": [
      "Attempts: 1600000, Best String: mhapqrks oefvbzbik bsxh nsel, Best Score: 9"
     ]
    },
    {
     "name": "stdout",
     "output_type": "stream",
     "text": [
      "\n"
     ]
    },
    {
     "name": "stdout",
     "output_type": "stream",
     "text": [
      "Attempts: 1700000, Best String: mhapqrks oefvbzbik bsxh nsel, Best Score: 9"
     ]
    },
    {
     "name": "stdout",
     "output_type": "stream",
     "text": [
      "\n"
     ]
    },
    {
     "name": "stdout",
     "output_type": "stream",
     "text": [
      "Attempts: 1800000, Best String: mhapqrks oefvbzbik bsxh nsel, Best Score: 9"
     ]
    },
    {
     "name": "stdout",
     "output_type": "stream",
     "text": [
      "\n"
     ]
    },
    {
     "name": "stdout",
     "output_type": "stream",
     "text": [
      "Attempts: 1900000, Best String: mhapqrks oefvbzbik bsxh nsel, Best Score: 9"
     ]
    },
    {
     "name": "stdout",
     "output_type": "stream",
     "text": [
      "\n"
     ]
    },
    {
     "name": "stdout",
     "output_type": "stream",
     "text": [
      "Attempts: 2000000, Best String: mhapqrks oefvbzbik bsxh nsel, Best Score: 9"
     ]
    },
    {
     "name": "stdout",
     "output_type": "stream",
     "text": [
      "\n"
     ]
    },
    {
     "name": "stdout",
     "output_type": "stream",
     "text": [
      "Attempts: 2100000, Best String: mhapqrks oefvbzbik bsxh nsel, Best Score: 9"
     ]
    },
    {
     "name": "stdout",
     "output_type": "stream",
     "text": [
      "\n"
     ]
    },
    {
     "name": "stdout",
     "output_type": "stream",
     "text": [
      "Attempts: 2200000, Best String: mhapqrks oefvbzbik bsxh nsel, Best Score: 9"
     ]
    },
    {
     "name": "stdout",
     "output_type": "stream",
     "text": [
      "\n"
     ]
    },
    {
     "name": "stdout",
     "output_type": "stream",
     "text": [
      "Attempts: 2300000, Best String: mhapqrks oefvbzbik bsxh nsel, Best Score: 9"
     ]
    },
    {
     "name": "stdout",
     "output_type": "stream",
     "text": [
      "\n"
     ]
    },
    {
     "name": "stdout",
     "output_type": "stream",
     "text": [
      "Attempts: 2400000, Best String: mhapqrks oefvbzbik bsxh nsel, Best Score: 9"
     ]
    },
    {
     "name": "stdout",
     "output_type": "stream",
     "text": [
      "\n"
     ]
    },
    {
     "name": "stdout",
     "output_type": "stream",
     "text": [
      "Attempts: 2500000, Best String: mhapqrks oefvbzbik bsxh nsel, Best Score: 9"
     ]
    },
    {
     "name": "stdout",
     "output_type": "stream",
     "text": [
      "\n"
     ]
    },
    {
     "name": "stdout",
     "output_type": "stream",
     "text": [
      "Attempts: 2600000, Best String: mhapqrks oefvbzbik bsxh nsel, Best Score: 9"
     ]
    },
    {
     "name": "stdout",
     "output_type": "stream",
     "text": [
      "\n"
     ]
    },
    {
     "name": "stdout",
     "output_type": "stream",
     "text": [
      "Attempts: 2700000, Best String: mhapqrks oefvbzbik bsxh nsel, Best Score: 9"
     ]
    },
    {
     "name": "stdout",
     "output_type": "stream",
     "text": [
      "\n"
     ]
    },
    {
     "name": "stdout",
     "output_type": "stream",
     "text": [
      "Attempts: 2800000, Best String: mhapqrks oefvbzbik bsxh nsel, Best Score: 9"
     ]
    },
    {
     "name": "stdout",
     "output_type": "stream",
     "text": [
      "\n"
     ]
    },
    {
     "name": "stdout",
     "output_type": "stream",
     "text": [
      "Attempts: 2900000, Best String: mhapqrks oefvbzbik bsxh nsel, Best Score: 9"
     ]
    },
    {
     "name": "stdout",
     "output_type": "stream",
     "text": [
      "\n"
     ]
    },
    {
     "name": "stdout",
     "output_type": "stream",
     "text": [
      "Attempts: 3000000, Best String: mhapqrks oefvbzbik bsxh nsel, Best Score: 9"
     ]
    },
    {
     "name": "stdout",
     "output_type": "stream",
     "text": [
      "\n"
     ]
    },
    {
     "name": "stdout",
     "output_type": "stream",
     "text": [
      "Attempts: 3100000, Best String: mhapqrks oefvbzbik bsxh nsel, Best Score: 9"
     ]
    },
    {
     "name": "stdout",
     "output_type": "stream",
     "text": [
      "\n"
     ]
    },
    {
     "name": "stdout",
     "output_type": "stream",
     "text": [
      "Attempts: 3200000, Best String: mhapqrks oefvbzbik bsxh nsel, Best Score: 9"
     ]
    },
    {
     "name": "stdout",
     "output_type": "stream",
     "text": [
      "\n"
     ]
    },
    {
     "name": "stdout",
     "output_type": "stream",
     "text": [
      "Attempts: 3300000, Best String: mhapqrks oefvbzbik bsxh nsel, Best Score: 9"
     ]
    },
    {
     "name": "stdout",
     "output_type": "stream",
     "text": [
      "\n"
     ]
    },
    {
     "name": "stdout",
     "output_type": "stream",
     "text": [
      "Attempts: 3400000, Best String: mhapqrks oefvbzbik bsxh nsel, Best Score: 9"
     ]
    },
    {
     "name": "stdout",
     "output_type": "stream",
     "text": [
      "\n"
     ]
    },
    {
     "name": "stdout",
     "output_type": "stream",
     "text": [
      "Attempts: 3500000, Best String: mhapqrks oefvbzbik bsxh nsel, Best Score: 9"
     ]
    },
    {
     "name": "stdout",
     "output_type": "stream",
     "text": [
      "\n"
     ]
    },
    {
     "name": "stdout",
     "output_type": "stream",
     "text": [
      "Attempts: 3600000, Best String: mhapqrks oefvbzbik bsxh nsel, Best Score: 9"
     ]
    },
    {
     "name": "stdout",
     "output_type": "stream",
     "text": [
      "\n"
     ]
    },
    {
     "name": "stdout",
     "output_type": "stream",
     "text": [
      "Attempts: 3700000, Best String: mhapqrks oefvbzbik bsxh nsel, Best Score: 9"
     ]
    },
    {
     "name": "stdout",
     "output_type": "stream",
     "text": [
      "\n"
     ]
    },
    {
     "name": "stdout",
     "output_type": "stream",
     "text": [
      "Attempts: 3800000, Best String: mhapqrks oefvbzbik bsxh nsel, Best Score: 9"
     ]
    },
    {
     "name": "stdout",
     "output_type": "stream",
     "text": [
      "\n"
     ]
    },
    {
     "name": "stdout",
     "output_type": "stream",
     "text": [
      "Attempts: 3900000, Best String: mhapqrks oefvbzbik bsxh nsel, Best Score: 9"
     ]
    },
    {
     "name": "stdout",
     "output_type": "stream",
     "text": [
      "\n"
     ]
    },
    {
     "name": "stdout",
     "output_type": "stream",
     "text": [
      "Attempts: 4000000, Best String: mhapqrks oefvbzbik bsxh nsel, Best Score: 9"
     ]
    },
    {
     "name": "stdout",
     "output_type": "stream",
     "text": [
      "\n"
     ]
    },
    {
     "name": "stdout",
     "output_type": "stream",
     "text": [
      "Attempts: 4100000, Best String: mhapqrks oefvbzbik bsxh nsel, Best Score: 9"
     ]
    },
    {
     "name": "stdout",
     "output_type": "stream",
     "text": [
      "\n"
     ]
    },
    {
     "name": "stdout",
     "output_type": "stream",
     "text": [
      "Attempts: 4200000, Best String: mhapqrks oefvbzbik bsxh nsel, Best Score: 9"
     ]
    },
    {
     "name": "stdout",
     "output_type": "stream",
     "text": [
      "\n"
     ]
    },
    {
     "name": "stdout",
     "output_type": "stream",
     "text": [
      "Attempts: 4300000, Best String: mhapqrks oefvbzbik bsxh nsel, Best Score: 9"
     ]
    },
    {
     "name": "stdout",
     "output_type": "stream",
     "text": [
      "\n"
     ]
    },
    {
     "name": "stdout",
     "output_type": "stream",
     "text": [
      "Attempts: 4400000, Best String: mhapqrks oefvbzbik bsxh nsel, Best Score: 9"
     ]
    },
    {
     "name": "stdout",
     "output_type": "stream",
     "text": [
      "\n"
     ]
    },
    {
     "name": "stdout",
     "output_type": "stream",
     "text": [
      "Attempts: 4500000, Best String: mhapqrks oefvbzbik bsxh nsel, Best Score: 9"
     ]
    },
    {
     "name": "stdout",
     "output_type": "stream",
     "text": [
      "\n"
     ]
    },
    {
     "name": "stdout",
     "output_type": "stream",
     "text": [
      "Attempts: 4600000, Best String: mhapqrks oefvbzbik bsxh nsel, Best Score: 9"
     ]
    },
    {
     "name": "stdout",
     "output_type": "stream",
     "text": [
      "\n"
     ]
    },
    {
     "name": "stdout",
     "output_type": "stream",
     "text": [
      "Attempts: 4700000, Best String: mhapqrks oefvbzbik bsxh nsel, Best Score: 9"
     ]
    },
    {
     "name": "stdout",
     "output_type": "stream",
     "text": [
      "\n"
     ]
    },
    {
     "name": "stdout",
     "output_type": "stream",
     "text": [
      "Attempts: 4800000, Best String: mhapqrks oefvbzbik bsxh nsel, Best Score: 9"
     ]
    },
    {
     "name": "stdout",
     "output_type": "stream",
     "text": [
      "\n"
     ]
    },
    {
     "name": "stdout",
     "output_type": "stream",
     "text": [
      "Attempts: 4900000, Best String: mhapqrks oefvbzbik bsxh nsel, Best Score: 9"
     ]
    },
    {
     "name": "stdout",
     "output_type": "stream",
     "text": [
      "\n"
     ]
    },
    {
     "name": "stdout",
     "output_type": "stream",
     "text": [
      "Attempts: 5000000, Best String: mhapqrks oefvbzbik bsxh nsel, Best Score: 9"
     ]
    },
    {
     "name": "stdout",
     "output_type": "stream",
     "text": [
      "\n"
     ]
    },
    {
     "name": "stdout",
     "output_type": "stream",
     "text": [
      "Attempts: 5100000, Best String: mhapqrks oefvbzbik bsxh nsel, Best Score: 9"
     ]
    },
    {
     "name": "stdout",
     "output_type": "stream",
     "text": [
      "\n"
     ]
    },
    {
     "name": "stdout",
     "output_type": "stream",
     "text": [
      "Attempts: 5200000, Best String: mhapqrks oefvbzbik bsxh nsel, Best Score: 9"
     ]
    },
    {
     "name": "stdout",
     "output_type": "stream",
     "text": [
      "\n"
     ]
    },
    {
     "name": "stdout",
     "output_type": "stream",
     "text": [
      "Attempts: 5300000, Best String: mhapqrks oefvbzbik bsxh nsel, Best Score: 9"
     ]
    },
    {
     "name": "stdout",
     "output_type": "stream",
     "text": [
      "\n"
     ]
    },
    {
     "name": "stdout",
     "output_type": "stream",
     "text": [
      "Attempts: 5400000, Best String: mhapqrks oefvbzbik bsxh nsel, Best Score: 9"
     ]
    },
    {
     "name": "stdout",
     "output_type": "stream",
     "text": [
      "\n"
     ]
    },
    {
     "name": "stdout",
     "output_type": "stream",
     "text": [
      "Attempts: 5500000, Best String: mhapqrks oefvbzbik bsxh nsel, Best Score: 9"
     ]
    },
    {
     "name": "stdout",
     "output_type": "stream",
     "text": [
      "\n"
     ]
    },
    {
     "name": "stdout",
     "output_type": "stream",
     "text": [
      "Attempts: 5600000, Best String: mhapqrks oefvbzbik bsxh nsel, Best Score: 9"
     ]
    },
    {
     "name": "stdout",
     "output_type": "stream",
     "text": [
      "\n"
     ]
    },
    {
     "name": "stdout",
     "output_type": "stream",
     "text": [
      "Attempts: 5700000, Best String: mhapqrks oefvbzbik bsxh nsel, Best Score: 9"
     ]
    },
    {
     "name": "stdout",
     "output_type": "stream",
     "text": [
      "\n"
     ]
    },
    {
     "name": "stdout",
     "output_type": "stream",
     "text": [
      "Attempts: 5800000, Best String: mhapqrks oefvbzbik bsxh nsel, Best Score: 9"
     ]
    },
    {
     "name": "stdout",
     "output_type": "stream",
     "text": [
      "\n"
     ]
    },
    {
     "name": "stdout",
     "output_type": "stream",
     "text": [
      "Attempts: 5900000, Best String: mhapqrks oefvbzbik bsxh nsel, Best Score: 9"
     ]
    },
    {
     "name": "stdout",
     "output_type": "stream",
     "text": [
      "\n"
     ]
    },
    {
     "name": "stdout",
     "output_type": "stream",
     "text": [
      "Attempts: 6000000, Best String: mhapqrks oefvbzbik bsxh nsel, Best Score: 9"
     ]
    },
    {
     "name": "stdout",
     "output_type": "stream",
     "text": [
      "\n"
     ]
    },
    {
     "name": "stdout",
     "output_type": "stream",
     "text": [
      "Attempts: 6100000, Best String: mhapqrks oefvbzbik bsxh nsel, Best Score: 9"
     ]
    },
    {
     "name": "stdout",
     "output_type": "stream",
     "text": [
      "\n"
     ]
    },
    {
     "name": "stdout",
     "output_type": "stream",
     "text": [
      "Attempts: 6200000, Best String: mhapqrks oefvbzbik bsxh nsel, Best Score: 9"
     ]
    },
    {
     "name": "stdout",
     "output_type": "stream",
     "text": [
      "\n"
     ]
    },
    {
     "name": "stdout",
     "output_type": "stream",
     "text": [
      "Attempts: 6300000, Best String: mhapqrks oefvbzbik bsxh nsel, Best Score: 9"
     ]
    },
    {
     "name": "stdout",
     "output_type": "stream",
     "text": [
      "\n"
     ]
    },
    {
     "name": "stdout",
     "output_type": "stream",
     "text": [
      "Attempts: 6400000, Best String: mhapqrks oefvbzbik bsxh nsel, Best Score: 9"
     ]
    },
    {
     "name": "stdout",
     "output_type": "stream",
     "text": [
      "\n"
     ]
    },
    {
     "name": "stdout",
     "output_type": "stream",
     "text": [
      "Attempts: 6500000, Best String: mhapqrks oefvbzbik bsxh nsel, Best Score: 9"
     ]
    },
    {
     "name": "stdout",
     "output_type": "stream",
     "text": [
      "\n"
     ]
    },
    {
     "name": "stdout",
     "output_type": "stream",
     "text": [
      "Attempts: 6600000, Best String: mhapqrks oefvbzbik bsxh nsel, Best Score: 9"
     ]
    },
    {
     "name": "stdout",
     "output_type": "stream",
     "text": [
      "\n"
     ]
    },
    {
     "name": "stdout",
     "output_type": "stream",
     "text": [
      "Attempts: 6700000, Best String: mhapqrks oefvbzbik bsxh nsel, Best Score: 9"
     ]
    },
    {
     "name": "stdout",
     "output_type": "stream",
     "text": [
      "\n"
     ]
    },
    {
     "name": "stdout",
     "output_type": "stream",
     "text": [
      "Attempts: 6800000, Best String: mhapqrks oefvbzbik bsxh nsel, Best Score: 9"
     ]
    },
    {
     "name": "stdout",
     "output_type": "stream",
     "text": [
      "\n"
     ]
    },
    {
     "name": "stdout",
     "output_type": "stream",
     "text": [
      "Attempts: 6900000, Best String: mhapqrks oefvbzbik bsxh nsel, Best Score: 9"
     ]
    },
    {
     "name": "stdout",
     "output_type": "stream",
     "text": [
      "\n"
     ]
    },
    {
     "name": "stdout",
     "output_type": "stream",
     "text": [
      "Attempts: 7000000, Best String: mhapqrks oefvbzbik bsxh nsel, Best Score: 9"
     ]
    },
    {
     "name": "stdout",
     "output_type": "stream",
     "text": [
      "\n"
     ]
    },
    {
     "name": "stdout",
     "output_type": "stream",
     "text": [
      "Attempts: 7100000, Best String: mhapqrks oefvbzbik bsxh nsel, Best Score: 9"
     ]
    },
    {
     "name": "stdout",
     "output_type": "stream",
     "text": [
      "\n"
     ]
    },
    {
     "name": "stdout",
     "output_type": "stream",
     "text": [
      "Attempts: 7200000, Best String: mhapqrks oefvbzbik bsxh nsel, Best Score: 9"
     ]
    },
    {
     "name": "stdout",
     "output_type": "stream",
     "text": [
      "\n"
     ]
    },
    {
     "name": "stdout",
     "output_type": "stream",
     "text": [
      "Attempts: 7300000, Best String: mhapqrks oefvbzbik bsxh nsel, Best Score: 9"
     ]
    },
    {
     "name": "stdout",
     "output_type": "stream",
     "text": [
      "\n"
     ]
    },
    {
     "name": "stdout",
     "output_type": "stream",
     "text": [
      "Attempts: 7400000, Best String: mhapqrks oefvbzbik bsxh nsel, Best Score: 9"
     ]
    },
    {
     "name": "stdout",
     "output_type": "stream",
     "text": [
      "\n"
     ]
    },
    {
     "name": "stdout",
     "output_type": "stream",
     "text": [
      "Attempts: 7500000, Best String: mhapqrks oefvbzbik bsxh nsel, Best Score: 9"
     ]
    },
    {
     "name": "stdout",
     "output_type": "stream",
     "text": [
      "\n"
     ]
    },
    {
     "name": "stdout",
     "output_type": "stream",
     "text": [
      "Attempts: 7600000, Best String: mhapqrks oefvbzbik bsxh nsel, Best Score: 9"
     ]
    },
    {
     "name": "stdout",
     "output_type": "stream",
     "text": [
      "\n"
     ]
    },
    {
     "name": "stdout",
     "output_type": "stream",
     "text": [
      "Attempts: 7700000, Best String: mhapqrks oefvbzbik bsxh nsel, Best Score: 9"
     ]
    },
    {
     "name": "stdout",
     "output_type": "stream",
     "text": [
      "\n"
     ]
    },
    {
     "name": "stdout",
     "output_type": "stream",
     "text": [
      "Attempts: 7800000, Best String: mhapqrks oefvbzbik bsxh nsel, Best Score: 9"
     ]
    },
    {
     "name": "stdout",
     "output_type": "stream",
     "text": [
      "\n"
     ]
    },
    {
     "name": "stdout",
     "output_type": "stream",
     "text": [
      "Attempts: 7900000, Best String: mhapqrks oefvbzbik bsxh nsel, Best Score: 9"
     ]
    },
    {
     "name": "stdout",
     "output_type": "stream",
     "text": [
      "\n"
     ]
    },
    {
     "name": "stdout",
     "output_type": "stream",
     "text": [
      "Attempts: 8000000, Best String: mhapqrks oefvbzbik bsxh nsel, Best Score: 9"
     ]
    },
    {
     "name": "stdout",
     "output_type": "stream",
     "text": [
      "\n"
     ]
    },
    {
     "name": "stdout",
     "output_type": "stream",
     "text": [
      "Attempts: 8100000, Best String: mhapqrks oefvbzbik bsxh nsel, Best Score: 9"
     ]
    },
    {
     "name": "stdout",
     "output_type": "stream",
     "text": [
      "\n"
     ]
    },
    {
     "name": "stdout",
     "output_type": "stream",
     "text": [
      "Attempts: 8200000, Best String: mhapqrks oefvbzbik bsxh nsel, Best Score: 9"
     ]
    },
    {
     "name": "stdout",
     "output_type": "stream",
     "text": [
      "\n"
     ]
    },
    {
     "name": "stdout",
     "output_type": "stream",
     "text": [
      "Attempts: 8300000, Best String: mhapqrks oefvbzbik bsxh nsel, Best Score: 9"
     ]
    },
    {
     "name": "stdout",
     "output_type": "stream",
     "text": [
      "\n"
     ]
    },
    {
     "name": "stdout",
     "output_type": "stream",
     "text": [
      "Attempts: 8400000, Best String: mhapqrks oefvbzbik bsxh nsel, Best Score: 9"
     ]
    },
    {
     "name": "stdout",
     "output_type": "stream",
     "text": [
      "\n"
     ]
    },
    {
     "name": "stdout",
     "output_type": "stream",
     "text": [
      "Attempts: 8500000, Best String: mhapqrks oefvbzbik bsxh nsel, Best Score: 9"
     ]
    },
    {
     "name": "stdout",
     "output_type": "stream",
     "text": [
      "\n"
     ]
    },
    {
     "name": "stdout",
     "output_type": "stream",
     "text": [
      "Attempts: 8600000, Best String: mhapqrks oefvbzbik bsxh nsel, Best Score: 9"
     ]
    },
    {
     "name": "stdout",
     "output_type": "stream",
     "text": [
      "\n"
     ]
    },
    {
     "name": "stdout",
     "output_type": "stream",
     "text": [
      "Attempts: 8700000, Best String: mhapqrks oefvbzbik bsxh nsel, Best Score: 9"
     ]
    },
    {
     "name": "stdout",
     "output_type": "stream",
     "text": [
      "\n"
     ]
    },
    {
     "name": "stdout",
     "output_type": "stream",
     "text": [
      "Attempts: 8800000, Best String: mhapqrks oefvbzbik bsxh nsel, Best Score: 9"
     ]
    },
    {
     "name": "stdout",
     "output_type": "stream",
     "text": [
      "\n"
     ]
    },
    {
     "name": "stdout",
     "output_type": "stream",
     "text": [
      "Attempts: 8900000, Best String: mhapqrks oefvbzbik bsxh nsel, Best Score: 9"
     ]
    },
    {
     "name": "stdout",
     "output_type": "stream",
     "text": [
      "\n"
     ]
    },
    {
     "name": "stdout",
     "output_type": "stream",
     "text": [
      "Attempts: 9000000, Best String: mhapqrks oefvbzbik bsxh nsel, Best Score: 9"
     ]
    },
    {
     "name": "stdout",
     "output_type": "stream",
     "text": [
      "\n"
     ]
    },
    {
     "name": "stdout",
     "output_type": "stream",
     "text": [
      "Attempts: 9100000, Best String: mhapqrks oefvbzbik bsxh nsel, Best Score: 9"
     ]
    },
    {
     "name": "stdout",
     "output_type": "stream",
     "text": [
      "\n"
     ]
    },
    {
     "name": "stdout",
     "output_type": "stream",
     "text": [
      "Attempts: 9200000, Best String: mhapqrks oefvbzbik bsxh nsel, Best Score: 9"
     ]
    },
    {
     "name": "stdout",
     "output_type": "stream",
     "text": [
      "\n"
     ]
    },
    {
     "name": "stdout",
     "output_type": "stream",
     "text": [
      "Attempts: 9300000, Best String: mhapqrks oefvbzbik bsxh nsel, Best Score: 9"
     ]
    },
    {
     "name": "stdout",
     "output_type": "stream",
     "text": [
      "\n"
     ]
    },
    {
     "name": "stdout",
     "output_type": "stream",
     "text": [
      "Attempts: 9400000, Best String: mhapqrks oefvbzbik bsxh nsel, Best Score: 9"
     ]
    },
    {
     "name": "stdout",
     "output_type": "stream",
     "text": [
      "\n"
     ]
    },
    {
     "name": "stdout",
     "output_type": "stream",
     "text": [
      "Attempts: 9500000, Best String: mhapqrks oefvbzbik bsxh nsel, Best Score: 9"
     ]
    },
    {
     "name": "stdout",
     "output_type": "stream",
     "text": [
      "\n"
     ]
    },
    {
     "name": "stdout",
     "output_type": "stream",
     "text": [
      "Attempts: 9600000, Best String: mhapqrks oefvbzbik bsxh nsel, Best Score: 9"
     ]
    },
    {
     "name": "stdout",
     "output_type": "stream",
     "text": [
      "\n"
     ]
    },
    {
     "name": "stdout",
     "output_type": "stream",
     "text": [
      "Attempts: 9700000, Best String: mhapqrks oefvbzbik bsxh nsel, Best Score: 9"
     ]
    },
    {
     "name": "stdout",
     "output_type": "stream",
     "text": [
      "\n"
     ]
    },
    {
     "name": "stdout",
     "output_type": "stream",
     "text": [
      "Attempts: 9800000, Best String: mhapqrks oefvbzbik bsxh nsel, Best Score: 9"
     ]
    },
    {
     "name": "stdout",
     "output_type": "stream",
     "text": [
      "\n"
     ]
    },
    {
     "name": "stdout",
     "output_type": "stream",
     "text": [
      "Attempts: 9900000, Best String: mhapqrks oefvbzbik bsxh nsel, Best Score: 9"
     ]
    },
    {
     "name": "stdout",
     "output_type": "stream",
     "text": [
      "\n"
     ]
    },
    {
     "name": "stdout",
     "output_type": "stream",
     "text": [
      "Attempts: 10000000, Best String: mhapqrks oefvbzbik bsxh nsel, Best Score: 9"
     ]
    },
    {
     "name": "stdout",
     "output_type": "stream",
     "text": [
      "\n"
     ]
    },
    {
     "name": "stdout",
     "output_type": "stream",
     "text": [
      "Attempts: 10100000, Best String: mhapqrks oefvbzbik bsxh nsel, Best Score: 9"
     ]
    },
    {
     "name": "stdout",
     "output_type": "stream",
     "text": [
      "\n"
     ]
    },
    {
     "name": "stdout",
     "output_type": "stream",
     "text": [
      "Attempts: 10200000, Best String: mhapqrks oefvbzbik bsxh nsel, Best Score: 9"
     ]
    },
    {
     "name": "stdout",
     "output_type": "stream",
     "text": [
      "\n"
     ]
    },
    {
     "name": "stdout",
     "output_type": "stream",
     "text": [
      "Attempts: 10300000, Best String: mhapqrks oefvbzbik bsxh nsel, Best Score: 9"
     ]
    },
    {
     "name": "stdout",
     "output_type": "stream",
     "text": [
      "\n"
     ]
    },
    {
     "name": "stdout",
     "output_type": "stream",
     "text": [
      "Attempts: 10400000, Best String: mhapqrks oefvbzbik bsxh nsel, Best Score: 9"
     ]
    },
    {
     "name": "stdout",
     "output_type": "stream",
     "text": [
      "\n"
     ]
    },
    {
     "name": "stdout",
     "output_type": "stream",
     "text": [
      "Attempts: 10500000, Best String: mhapqrks oefvbzbik bsxh nsel, Best Score: 9"
     ]
    },
    {
     "name": "stdout",
     "output_type": "stream",
     "text": [
      "\n"
     ]
    },
    {
     "name": "stdout",
     "output_type": "stream",
     "text": [
      "Attempts: 10600000, Best String: mhapqrks oefvbzbik bsxh nsel, Best Score: 9"
     ]
    },
    {
     "name": "stdout",
     "output_type": "stream",
     "text": [
      "\n"
     ]
    },
    {
     "name": "stdout",
     "output_type": "stream",
     "text": [
      "Attempts: 10700000, Best String: mhapqrks oefvbzbik bsxh nsel, Best Score: 9"
     ]
    },
    {
     "name": "stdout",
     "output_type": "stream",
     "text": [
      "\n"
     ]
    },
    {
     "name": "stdout",
     "output_type": "stream",
     "text": [
      "Attempts: 10800000, Best String: mhapqrks oefvbzbik bsxh nsel, Best Score: 9"
     ]
    },
    {
     "name": "stdout",
     "output_type": "stream",
     "text": [
      "\n"
     ]
    },
    {
     "name": "stdout",
     "output_type": "stream",
     "text": [
      "Attempts: 10900000, Best String: mhapqrks oefvbzbik bsxh nsel, Best Score: 9"
     ]
    },
    {
     "name": "stdout",
     "output_type": "stream",
     "text": [
      "\n"
     ]
    },
    {
     "name": "stdout",
     "output_type": "stream",
     "text": [
      "Attempts: 11000000, Best String: mhapqrks oefvbzbik bsxh nsel, Best Score: 9"
     ]
    },
    {
     "name": "stdout",
     "output_type": "stream",
     "text": [
      "\n"
     ]
    },
    {
     "name": "stdout",
     "output_type": "stream",
     "text": [
      "Attempts: 11100000, Best String: mhapqrks oefvbzbik bsxh nsel, Best Score: 9"
     ]
    },
    {
     "name": "stdout",
     "output_type": "stream",
     "text": [
      "\n"
     ]
    },
    {
     "name": "stdout",
     "output_type": "stream",
     "text": [
      "Attempts: 11200000, Best String: mhapqrks oefvbzbik bsxh nsel, Best Score: 9"
     ]
    },
    {
     "name": "stdout",
     "output_type": "stream",
     "text": [
      "\n"
     ]
    },
    {
     "name": "stdout",
     "output_type": "stream",
     "text": [
      "Attempts: 11300000, Best String: mhapqrks oefvbzbik bsxh nsel, Best Score: 9"
     ]
    },
    {
     "name": "stdout",
     "output_type": "stream",
     "text": [
      "\n"
     ]
    },
    {
     "name": "stdout",
     "output_type": "stream",
     "text": [
      "Attempts: 11400000, Best String: mhapqrks oefvbzbik bsxh nsel, Best Score: 9"
     ]
    },
    {
     "name": "stdout",
     "output_type": "stream",
     "text": [
      "\n"
     ]
    },
    {
     "name": "stdout",
     "output_type": "stream",
     "text": [
      "Attempts: 11500000, Best String: mhapqrks oefvbzbik bsxh nsel, Best Score: 9"
     ]
    },
    {
     "name": "stdout",
     "output_type": "stream",
     "text": [
      "\n"
     ]
    },
    {
     "name": "stdout",
     "output_type": "stream",
     "text": [
      "Attempts: 11600000, Best String: mhapqrks oefvbzbik bsxh nsel, Best Score: 9"
     ]
    },
    {
     "name": "stdout",
     "output_type": "stream",
     "text": [
      "\n"
     ]
    },
    {
     "name": "stdout",
     "output_type": "stream",
     "text": [
      "Attempts: 11700000, Best String: mhapqrks oefvbzbik bsxh nsel, Best Score: 9"
     ]
    },
    {
     "name": "stdout",
     "output_type": "stream",
     "text": [
      "\n"
     ]
    },
    {
     "name": "stdout",
     "output_type": "stream",
     "text": [
      "Attempts: 11800000, Best String: mhapqrks oefvbzbik bsxh nsel, Best Score: 9"
     ]
    },
    {
     "name": "stdout",
     "output_type": "stream",
     "text": [
      "\n"
     ]
    },
    {
     "name": "stdout",
     "output_type": "stream",
     "text": [
      "Attempts: 11900000, Best String: mhapqrks oefvbzbik bsxh nsel, Best Score: 9"
     ]
    },
    {
     "name": "stdout",
     "output_type": "stream",
     "text": [
      "\n"
     ]
    },
    {
     "name": "stdout",
     "output_type": "stream",
     "text": [
      "Attempts: 12000000, Best String: mhapqrks oefvbzbik bsxh nsel, Best Score: 9"
     ]
    },
    {
     "name": "stdout",
     "output_type": "stream",
     "text": [
      "\n"
     ]
    },
    {
     "name": "stdout",
     "output_type": "stream",
     "text": [
      "Attempts: 12100000, Best String: mhapqrks oefvbzbik bsxh nsel, Best Score: 9"
     ]
    },
    {
     "name": "stdout",
     "output_type": "stream",
     "text": [
      "\n"
     ]
    },
    {
     "name": "stdout",
     "output_type": "stream",
     "text": [
      "Attempts: 12200000, Best String: mhapqrks oefvbzbik bsxh nsel, Best Score: 9"
     ]
    },
    {
     "name": "stdout",
     "output_type": "stream",
     "text": [
      "\n"
     ]
    },
    {
     "name": "stdout",
     "output_type": "stream",
     "text": [
      "Attempts: 12300000, Best String: mhapqrks oefvbzbik bsxh nsel, Best Score: 9"
     ]
    },
    {
     "name": "stdout",
     "output_type": "stream",
     "text": [
      "\n"
     ]
    },
    {
     "name": "stdout",
     "output_type": "stream",
     "text": [
      "Attempts: 12400000, Best String: mhapqrks oefvbzbik bsxh nsel, Best Score: 9"
     ]
    },
    {
     "name": "stdout",
     "output_type": "stream",
     "text": [
      "\n"
     ]
    },
    {
     "name": "stdout",
     "output_type": "stream",
     "text": [
      "Attempts: 12500000, Best String: mhapqrks oefvbzbik bsxh nsel, Best Score: 9"
     ]
    },
    {
     "name": "stdout",
     "output_type": "stream",
     "text": [
      "\n"
     ]
    },
    {
     "name": "stdout",
     "output_type": "stream",
     "text": [
      "Attempts: 12600000, Best String: mhapqrks oefvbzbik bsxh nsel, Best Score: 9"
     ]
    },
    {
     "name": "stdout",
     "output_type": "stream",
     "text": [
      "\n"
     ]
    },
    {
     "name": "stdout",
     "output_type": "stream",
     "text": [
      "Attempts: 12700000, Best String: mhapqrks oefvbzbik bsxh nsel, Best Score: 9"
     ]
    },
    {
     "name": "stdout",
     "output_type": "stream",
     "text": [
      "\n"
     ]
    },
    {
     "name": "stdout",
     "output_type": "stream",
     "text": [
      "Attempts: 12800000, Best String: mhapqrks oefvbzbik bsxh nsel, Best Score: 9"
     ]
    },
    {
     "name": "stdout",
     "output_type": "stream",
     "text": [
      "\n"
     ]
    },
    {
     "name": "stdout",
     "output_type": "stream",
     "text": [
      "Attempts: 12900000, Best String: mhapqrks oefvbzbik bsxh nsel, Best Score: 9"
     ]
    },
    {
     "name": "stdout",
     "output_type": "stream",
     "text": [
      "\n"
     ]
    },
    {
     "name": "stdout",
     "output_type": "stream",
     "text": [
      "Attempts: 13000000, Best String: mhapqrks oefvbzbik bsxh nsel, Best Score: 9"
     ]
    },
    {
     "name": "stdout",
     "output_type": "stream",
     "text": [
      "\n"
     ]
    },
    {
     "name": "stdout",
     "output_type": "stream",
     "text": [
      "Attempts: 13100000, Best String: mhapqrks oefvbzbik bsxh nsel, Best Score: 9"
     ]
    },
    {
     "name": "stdout",
     "output_type": "stream",
     "text": [
      "\n"
     ]
    },
    {
     "name": "stdout",
     "output_type": "stream",
     "text": [
      "Attempts: 13200000, Best String: mhapqrks oefvbzbik bsxh nsel, Best Score: 9"
     ]
    },
    {
     "name": "stdout",
     "output_type": "stream",
     "text": [
      "\n"
     ]
    },
    {
     "name": "stdout",
     "output_type": "stream",
     "text": [
      "Attempts: 13300000, Best String: mhapqrks oefvbzbik bsxh nsel, Best Score: 9"
     ]
    },
    {
     "name": "stdout",
     "output_type": "stream",
     "text": [
      "\n"
     ]
    },
    {
     "name": "stdout",
     "output_type": "stream",
     "text": [
      "Attempts: 13400000, Best String: mhapqrks oefvbzbik bsxh nsel, Best Score: 9"
     ]
    },
    {
     "name": "stdout",
     "output_type": "stream",
     "text": [
      "\n"
     ]
    },
    {
     "name": "stdout",
     "output_type": "stream",
     "text": [
      "Attempts: 13500000, Best String: mhapqrks oefvbzbik bsxh nsel, Best Score: 9"
     ]
    },
    {
     "name": "stdout",
     "output_type": "stream",
     "text": [
      "\n"
     ]
    },
    {
     "name": "stdout",
     "output_type": "stream",
     "text": [
      "Attempts: 13600000, Best String: aejeilkguxs hs lnswaiecexsef, Best Score: 10"
     ]
    },
    {
     "name": "stdout",
     "output_type": "stream",
     "text": [
      "\n"
     ]
    },
    {
     "name": "stdout",
     "output_type": "stream",
     "text": [
      "Attempts: 13700000, Best String: aejeilkguxs hs lnswaiecexsef, Best Score: 10"
     ]
    },
    {
     "name": "stdout",
     "output_type": "stream",
     "text": [
      "\n"
     ]
    },
    {
     "name": "stdout",
     "output_type": "stream",
     "text": [
      "Attempts: 13800000, Best String: aejeilkguxs hs lnswaiecexsef, Best Score: 10"
     ]
    },
    {
     "name": "stdout",
     "output_type": "stream",
     "text": [
      "\n"
     ]
    },
    {
     "name": "stdout",
     "output_type": "stream",
     "text": [
      "Attempts: 13900000, Best String: aejeilkguxs hs lnswaiecexsef, Best Score: 10"
     ]
    },
    {
     "name": "stdout",
     "output_type": "stream",
     "text": [
      "\n"
     ]
    },
    {
     "name": "stdout",
     "output_type": "stream",
     "text": [
      "Attempts: 14000000, Best String: aejeilkguxs hs lnswaiecexsef, Best Score: 10"
     ]
    },
    {
     "name": "stdout",
     "output_type": "stream",
     "text": [
      "\n"
     ]
    },
    {
     "name": "stdout",
     "output_type": "stream",
     "text": [
      "Attempts: 14100000, Best String: aejeilkguxs hs lnswaiecexsef, Best Score: 10"
     ]
    },
    {
     "name": "stdout",
     "output_type": "stream",
     "text": [
      "\n"
     ]
    },
    {
     "name": "stdout",
     "output_type": "stream",
     "text": [
      "Attempts: 14200000, Best String: aejeilkguxs hs lnswaiecexsef, Best Score: 10"
     ]
    },
    {
     "name": "stdout",
     "output_type": "stream",
     "text": [
      "\n"
     ]
    },
    {
     "name": "stdout",
     "output_type": "stream",
     "text": [
      "Attempts: 14300000, Best String: aejeilkguxs hs lnswaiecexsef, Best Score: 10"
     ]
    },
    {
     "name": "stdout",
     "output_type": "stream",
     "text": [
      "\n"
     ]
    },
    {
     "name": "stdout",
     "output_type": "stream",
     "text": [
      "Attempts: 14400000, Best String: aejeilkguxs hs lnswaiecexsef, Best Score: 10"
     ]
    },
    {
     "name": "stdout",
     "output_type": "stream",
     "text": [
      "\n"
     ]
    },
    {
     "name": "stdout",
     "output_type": "stream",
     "text": [
      "Attempts: 14500000, Best String: aejeilkguxs hs lnswaiecexsef, Best Score: 10"
     ]
    },
    {
     "name": "stdout",
     "output_type": "stream",
     "text": [
      "\n"
     ]
    },
    {
     "name": "stdout",
     "output_type": "stream",
     "text": [
      "Attempts: 14600000, Best String: aejeilkguxs hs lnswaiecexsef, Best Score: 10"
     ]
    },
    {
     "name": "stdout",
     "output_type": "stream",
     "text": [
      "\n"
     ]
    },
    {
     "name": "stdout",
     "output_type": "stream",
     "text": [
      "Attempts: 14700000, Best String: aejeilkguxs hs lnswaiecexsef, Best Score: 10"
     ]
    },
    {
     "name": "stdout",
     "output_type": "stream",
     "text": [
      "\n"
     ]
    },
    {
     "name": "stdout",
     "output_type": "stream",
     "text": [
      "Attempts: 14800000, Best String: aejeilkguxs hs lnswaiecexsef, Best Score: 10"
     ]
    },
    {
     "name": "stdout",
     "output_type": "stream",
     "text": [
      "\n"
     ]
    },
    {
     "name": "stdout",
     "output_type": "stream",
     "text": [
      "Attempts: 14900000, Best String: aejeilkguxs hs lnswaiecexsef, Best Score: 10"
     ]
    },
    {
     "name": "stdout",
     "output_type": "stream",
     "text": [
      "\n"
     ]
    },
    {
     "name": "stdout",
     "output_type": "stream",
     "text": [
      "Attempts: 15000000, Best String: aejeilkguxs hs lnswaiecexsef, Best Score: 10"
     ]
    },
    {
     "name": "stdout",
     "output_type": "stream",
     "text": [
      "\n"
     ]
    },
    {
     "name": "stdout",
     "output_type": "stream",
     "text": [
      "Attempts: 15100000, Best String: aejeilkguxs hs lnswaiecexsef, Best Score: 10"
     ]
    },
    {
     "name": "stdout",
     "output_type": "stream",
     "text": [
      "\n"
     ]
    }
   ],
   "source": [
    "best_score = 0\n",
    "best_string = \"\"\n",
    "attempts = 0\n",
    "max_attempts_to_print = 100000\n",
    "\n",
    "while best_score < 28:\n",
    "    attempts += 1\n",
    "    generated_sentence = first_monkeys()  # Generate a new string from the first_monkeys function\n",
    "    current_score = score(generated_sentence) #score the generate sentence\n",
    "    if current_score > best_score:\n",
    "        best_score = current_score\n",
    "        best_string = generated_sentence\n",
    "    if attempts % max_attempts_to_print == 0:\n",
    "        print(f\"Attempts: {attempts}, Best String: {best_string}, Best Score: {best_score}\") \n",
    "\n",
    "print(f\"Success! Reached a score of 28 in {attempts} attempts.\")"
   ]
  },
  {
   "cell_type": "code",
   "execution_count": null,
   "metadata": {
    "collapsed": false
   },
   "outputs": [],
   "source": []
  },
  {
   "cell_type": "code",
   "execution_count": null,
   "metadata": {
    "collapsed": false
   },
   "outputs": [],
   "source": []
  }
 ],
 "metadata": {
  "kernelspec": {
   "argv": [
    "/usr/bin/python3",
    "-m",
    "pyspark_kernel",
    "-f",
    "{connection_file}"
   ],
   "display_name": "PySpark (python)",
   "env": {
    "SPARK_HOME": "/ext/apache/spark/current",
    "SPARK_LOCAL_IP": "localhost",
    "_JAVA_OPTIONS": "-Xms64m"
   },
   "language": "python",
   "name": "pyspark_kernel",
   "resource_dir": "/ext/jupyter/kernels/pyspark_kernel"
  },
  "language_info": {
   "file_extension": ".py",
   "help_links": [
    {
     "text": "MetaKernel Magics",
     "url": "https://metakernel.readthedocs.io/en/latest/source/README.html"
    }
   ],
   "mimetype": "text/x-python",
   "name": "python"
  },
  "nbgrader": {
   "__altered": false,
   "__hash": 58202102,
   "_root": {
    "entries": [
     [
      "size",
      5
     ],
     [
      "_root",
      {
       "entries": [
        [
         "size",
         6
        ],
        [
         "_root",
         {
          "entries": [
           [
            "size",
            6
           ],
           [
            "_root",
            {
             "entries": [
              [
               "size",
               6
              ],
              [
               "_root",
               {
                "entries": [
                 [
                  "size",
                  6
                 ],
                 [
                  "_root",
                  {
                   "entries": [
                    [
                     "size",
                     6
                    ],
                    [
                     "_root",
                     {
                      "entries": [
                       [
                        "size",
                        6
                       ],
                       [
                        "_root",
                        {
                         "entries": [
                          [
                           "size",
                           5
                          ],
                          [
                           "_root",
                           {
                            "entries": [
                             [
                              "size",
                              6
                             ],
                             [
                              "_root",
                              {
                               "entries": [
                                [
                                 "size",
                                 6
                                ],
                                [
                                 "_root",
                                 {
                                  "entries": [
                                   [
                                    "size",
                                    6
                                   ],
                                   [
                                    "_root",
                                    {
                                     "entries": [
                                      [
                                       "size",
                                       6
                                      ],
                                      [
                                       "_root",
                                       {
                                        "entries": [
                                         [
                                          "size",
                                          6
                                         ],
                                         [
                                          "_root",
                                          {
                                           "entries": [
                                            [
                                             "size",
                                             5
                                            ],
                                            [
                                             "_root",
                                             {
                                              "entries": [
                                               [
                                                "__altered",
                                                false
                                               ],
                                               [
                                                "__hash",
                                                -889233149
                                               ],
                                               [
                                                "_root",
                                                {
                                                 "entries": [
                                                  [
                                                   "size",
                                                   6
                                                  ],
                                                  [
                                                   "_root",
                                                   {
                                                    "entries": [
                                                     [
                                                      "size",
                                                      1
                                                     ],
                                                     [
                                                      "_root",
                                                      {
                                                       "entries": [
                                                        [
                                                         "cocalc_minimal_stubs",
                                                         false
                                                        ]
                                                       ],
                                                       "ownerID": {}
                                                      }
                                                     ],
                                                     [
                                                      "__ownerID",
                                                      null
                                                     ],
                                                     [
                                                      "__hash",
                                                      -335098374
                                                     ],
                                                     [
                                                      "__altered",
                                                      false
                                                     ],
                                                     [
                                                      "cocalc_minimal_stubs",
                                                      false
                                                     ]
                                                    ],
                                                    "ownerID": {}
                                                   }
                                                  ],
                                                  [
                                                   "__ownerID",
                                                   null
                                                  ],
                                                  [
                                                   "__hash",
                                                   633336276
                                                  ],
                                                  [
                                                   "__altered",
                                                   false
                                                  ],
                                                  [
                                                   "cocalc_minimal_stubs",
                                                   true
                                                  ]
                                                 ],
                                                 "ownerID": {}
                                                }
                                               ],
                                               [
                                                "cocalc_minimal_stubs",
                                                true
                                               ],
                                               [
                                                "size",
                                                6
                                               ]
                                              ],
                                              "ownerID": {}
                                             }
                                            ],
                                            [
                                             "__ownerID",
                                             null
                                            ],
                                            [
                                             "__hash",
                                             -351006260
                                            ],
                                            [
                                             "__altered",
                                             false
                                            ],
                                            [
                                             "cocalc_minimal_stubs",
                                             true
                                            ]
                                           ],
                                           "ownerID": {}
                                          }
                                         ],
                                         [
                                          "__ownerID",
                                          null
                                         ],
                                         [
                                          "__hash",
                                          -70128686
                                         ],
                                         [
                                          "__altered",
                                          false
                                         ],
                                         [
                                          "cocalc_minimal_stubs",
                                          true
                                         ]
                                        ],
                                        "ownerID": {}
                                       }
                                      ],
                                      [
                                       "__ownerID",
                                       null
                                      ],
                                      [
                                       "__hash",
                                       883914746
                                      ],
                                      [
                                       "__altered",
                                       false
                                      ],
                                      [
                                       "cocalc_minimal_stubs",
                                       true
                                      ]
                                     ],
                                     "ownerID": {}
                                    }
                                   ],
                                   [
                                    "__ownerID",
                                    null
                                   ],
                                   [
                                    "__hash",
                                    151938249
                                   ],
                                   [
                                    "__altered",
                                    false
                                   ],
                                   [
                                    "cocalc_minimal_stubs",
                                    true
                                   ]
                                  ],
                                  "ownerID": {}
                                 }
                                ],
                                [
                                 "__ownerID",
                                 null
                                ],
                                [
                                 "__hash",
                                 -576931422
                                ],
                                [
                                 "__altered",
                                 false
                                ],
                                [
                                 "cocalc_minimal_stubs",
                                 true
                                ]
                               ],
                               "ownerID": {}
                              }
                             ],
                             [
                              "__hash",
                              -371179697
                             ],
                             [
                              "__altered",
                              false
                             ],
                             [
                              "cocalc_minimal_stubs",
                              true
                             ]
                            ],
                            "ownerID": {}
                           }
                          ],
                          [
                           "__ownerID",
                           null
                          ],
                          [
                           "__hash",
                           -350862160
                          ],
                          [
                           "__altered",
                           false
                          ],
                          [
                           "cocalc_minimal_stubs",
                           true
                          ]
                         ],
                         "ownerID": {}
                        }
                       ],
                       [
                        "__ownerID",
                        null
                       ],
                       [
                        "__hash",
                        -282622411
                       ],
                       [
                        "__altered",
                        false
                       ],
                       [
                        "cocalc_minimal_stubs",
                        true
                       ]
                      ],
                      "ownerID": {}
                     }
                    ],
                    [
                     "__ownerID",
                     null
                    ],
                    [
                     "__hash",
                     -167774301
                    ],
                    [
                     "__altered",
                     false
                    ],
                    [
                     "cocalc_minimal_stubs",
                     true
                    ]
                   ],
                   "ownerID": {}
                  }
                 ],
                 [
                  "__ownerID",
                  null
                 ],
                 [
                  "__hash",
                  919880143
                 ],
                 [
                  "__altered",
                  false
                 ],
                 [
                  "cocalc_minimal_stubs",
                  true
                 ]
                ],
                "ownerID": {}
               }
              ],
              [
               "__ownerID",
               null
              ],
              [
               "__hash",
               623400622
              ],
              [
               "__altered",
               false
              ],
              [
               "cocalc_minimal_stubs",
               true
              ]
             ],
             "ownerID": {}
            }
           ],
           [
            "__ownerID",
            null
           ],
           [
            "__hash",
            206178325
           ],
           [
            "__altered",
            false
           ],
           [
            "cocalc_minimal_stubs",
            true
           ]
          ],
          "ownerID": {}
         }
        ],
        [
         "__hash",
         -593283809
        ],
        [
         "__altered",
         false
        ],
        [
         "cocalc_minimal_stubs",
         true
        ]
       ],
       "ownerID": {}
      }
     ],
     [
      "__ownerID",
      null
     ],
     [
      "__hash",
      911715860
     ],
     [
      "__altered",
      false
     ],
     [
      "cocalc_minimal_stubs",
      true
     ]
    ],
    "ownerID": {}
   },
   "cocalc_minimal_stubs": true,
   "size": 6
  }
 },
 "nbformat": 4,
 "nbformat_minor": 4
}
