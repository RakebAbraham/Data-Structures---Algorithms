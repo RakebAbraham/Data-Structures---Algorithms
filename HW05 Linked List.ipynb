{
 "cells": [
  {
   "cell_type": "markdown",
   "metadata": {
    "collapsed": false,
    "deletable": false,
    "editable": false,
    "nbgrader": {
     "grade": false,
     "grade_id": "c22f55",
     "locked": true,
     "schema_version": 3,
     "solution": false,
     "task": false
    }
   },
   "source": [
    "# Homework Assignment 5\n",
    "\n",
    "Complete the following exercises. When you are finished, double click on the cell below and type your full name (as a comment) to indicate that **you completed all exercises with academic integrity**. "
   ]
  },
  {
   "cell_type": "code",
   "execution_count": 3,
   "metadata": {
    "collapsed": false,
    "deletable": false,
    "nbgrader": {
     "cell_type": "code",
     "checksum": "d4778ca5653ae1414ab651edb6fadb6c",
     "grade": true,
     "grade_id": "26003e",
     "locked": false,
     "points": 1,
     "schema_version": 3,
     "solution": true,
     "task": false
    }
   },
   "outputs": [],
   "source": [
    "#Rakeb Abraham Jebessa\n"
   ]
  },
  {
   "cell_type": "markdown",
   "metadata": {
    "collapsed": false,
    "deletable": false,
    "editable": false,
    "nbgrader": {
     "grade": false,
     "grade_id": "f1677f",
     "locked": true,
     "schema_version": 3,
     "solution": false,
     "task": false
    }
   },
   "source": [
    "## Exercise 1: Doubly Linked Lists\n",
    "\n",
    "Every linked list we have seen so far is called a *singly linked list* because each node has a single reference to the next node in the sequence. An alternative implementation is known as a *doubly linked list*. In a doubly linked list, each node has a reference to the next node (commonly called *next*) as well as a reference to the preceding node (commonly called *back*). Each doubly linked list object has two references: one to the first item in the list (the *head*) and one to the last item in the list (the *tail*). The goal of this exercise it to implement a doubly linked list.\n",
    "\n",
    "### Step 1: The Nodes\n",
    "\n",
    "The Node class we have been using for singly linked lists is given below. Modify the definition of the class so that the nodes will work for doubly linked lists. In particular, you make the appropriate modifications to include a new property attribute called *back*."
   ]
  },
  {
   "cell_type": "code",
   "execution_count": 4,
   "metadata": {
    "collapsed": false,
    "deletable": false,
    "nbgrader": {
     "cell_type": "code",
     "checksum": "210beda9e9f02c7fdc1173656f8edd2e",
     "grade": true,
     "grade_id": "8e546c",
     "locked": false,
     "points": 5,
     "schema_version": 3,
     "solution": true,
     "task": false
    }
   },
   "outputs": [],
   "source": [
    "class Node:\n",
    "    \"\"\"A node of a doubly linked list\"\"\"\n",
    "\n",
    "    def __init__(self, node_data):\n",
    "        self._data = node_data\n",
    "        self._next = None\n",
    "        self.prev = None\n",
    "        self.back = None\n",
    "\n",
    "    def get_data(self):\n",
    "        \"\"\"Get node data\"\"\"\n",
    "        return self._data\n",
    "\n",
    "    def set_data(self, node_data):\n",
    "        \"\"\"Set node data\"\"\"\n",
    "        self._data = node_data\n",
    "\n",
    "    data = property(get_data, set_data)\n",
    "\n",
    "    def get_next(self):\n",
    "        \"\"\"Get next node\"\"\"\n",
    "        return self._next\n",
    "\n",
    "    def set_next(self, node_next):\n",
    "        \"\"\"Set next node\"\"\"\n",
    "        self._next = node_next\n",
    "    next = property(get_next, set_next)\n",
    "    def get_back(self):\n",
    "        \"\"\"Get the previous node\"\"\"\n",
    "        return self.prev\n",
    "    def set_back(self, node_prev):\n",
    "        self.prev = node_prev\n",
    "\n",
    "    back =  property(get_back, set_back)\n",
    "\n",
    "    def __str__(self):\n",
    "        \"\"\"String\"\"\"\n",
    "        return str(self._data)"
   ]
  },
  {
   "cell_type": "code",
   "execution_count": 5,
   "metadata": {
    "collapsed": false,
    "deletable": false,
    "editable": false,
    "nbgrader": {
     "grade": true,
     "grade_id": "96bad3",
     "locked": true,
     "points": 5,
     "schema_version": 3,
     "solution": false,
     "task": false
    }
   },
   "outputs": [],
   "source": [
    "# Unit Tests for the Node class\n",
    "from nose.tools import assert_equal, assert_true\n",
    "a = Node(1)\n",
    "b = Node('two')\n",
    "c = Node(3)\n",
    "a.next = b\n",
    "b.back = a\n",
    "b.next = c\n",
    "c.back = b\n",
    "\n",
    "assert_equal(a.next.data, 'two')\n",
    "assert_true(a.back is None)\n",
    "assert_equal(b.back.data, 1)\n",
    "assert_equal(b.next.data, 3)\n",
    "assert_equal(c.back.data, 'two')\n",
    "assert_equal(c.back.back.data, 1)"
   ]
  },
  {
   "cell_type": "markdown",
   "metadata": {
    "collapsed": false,
    "deletable": false,
    "editable": false,
    "nbgrader": {
     "grade": false,
     "grade_id": "a9da98",
     "locked": true,
     "schema_version": 3,
     "solution": false,
     "task": false
    }
   },
   "source": [
    "### Step 2: Implement DLinkedList\n",
    "\n",
    "Write a class for doubly linked lists called `DLinkedList`. A `DLinkedList` object should have two instance variables called `head` and `tail` respectively.  These instance variables should reference the appropriate nodes in the doubly linked list. The class should have all the same methods as the `UnorderedList` class, but you'll need to modify some of their implementations to appropriately incorporate the new features (tails and backs). Some of the methods can use the same code from `UnorderedList`. These methods are provided below. To complete this step you need to include the new instance variable in the definition of the constructor, and write the definitions of the following:\n",
    "\n",
    "1. `add(item)`\n",
    "2. `remove(item)`\n",
    "3. `insert(pos, item)`\n",
    "4. `append(item)`\n",
    "5. `pop()` and `pop(pos)`\n",
    "\n",
    "Write your methods to be as efficient as possible. In particular, your **methods `append(item)` and `pop()` should have constant runtime** (in other words, they should run in O(1)). The other methods, including `pop(pos)`, do not need to have constant runtime. \n",
    "\n",
    "There are unit tests for each of the 5 methods in the subsequent cells. Those unit tests should tell you if the methods are functioning properly, but they won't tell you if your algorithms have efficient runtimes. You need to check that on your own!\n"
   ]
  },
  {
   "cell_type": "code",
   "execution_count": 20,
   "metadata": {
    "collapsed": false,
    "deletable": false,
    "nbgrader": {
     "cell_type": "code",
     "checksum": "f0edc05a16657e3daeb433908cb2cbbc",
     "grade": true,
     "grade_id": "11d3af",
     "locked": false,
     "points": 10,
     "schema_version": 3,
     "solution": true,
     "task": false
    }
   },
   "outputs": [],
   "source": [
    "class DLinkedList:\n",
    "    def __init__(self):\n",
    "        self.head = None\n",
    "        self.tail = None\n",
    "\n",
    "    def is_empty(self):\n",
    "        return self.head == None\n",
    "    \n",
    "    def size(self):\n",
    "        current = self.head\n",
    "        count = 0\n",
    "        while current is not None:\n",
    "            count = count + 1\n",
    "            current = current.next\n",
    "\n",
    "        return count\n",
    "    \n",
    "    def search(self, item):\n",
    "        current = self.head\n",
    "        while current is not None:\n",
    "            if current.data == item:\n",
    "                return True\n",
    "            current = current.next\n",
    "\n",
    "        return False\n",
    "    \n",
    "    def index(self, item):\n",
    "        pos = 0\n",
    "        current = self.head\n",
    "        while current is not None and current.data != item:\n",
    "            current = current.next\n",
    "            pos += 1\n",
    "        if current is None:\n",
    "            raise Exception(f\"{item} is not in list\")\n",
    "        return pos\n",
    "    \n",
    "    #Implement the add method here:\n",
    "        \n",
    "    def add(self, item):\n",
    "        new_node = Node(item)\n",
    "\n",
    "        if self.head is None:\n",
    "            self.head = new_node\n",
    "            self.tail = new_node\n",
    "        else:\n",
    "            new_node.next = self.head\n",
    "            self.head.back = new_node\n",
    "            self.head = new_node\n",
    "\n",
    "\n",
    "    #Implement the remove method here:\n",
    "    def remove(self, item):\n",
    "        current = self.head\n",
    "        while current:\n",
    "            if current.data == item:\n",
    "                if current.back:\n",
    "                    current.back.next = current.next\n",
    "                else:\n",
    "                    self.head = current.next\n",
    "\n",
    "                if current.next:\n",
    "                    current.next.back = current.back\n",
    "                else:\n",
    "                    self.tail = current.back\n",
    "\n",
    "                return\n",
    "\n",
    "            current = current.next\n",
    "\n",
    "        print(f\"{item} not found in the list\")\n",
    "\n",
    "\n",
    "\n",
    "\n",
    "\n",
    "    #Implement the insert method here:\n",
    "    def insert(self, pos, item):\n",
    "        if pos < 0 or pos > self.size():\n",
    "            raise IndexError(\"Index out of bounds\")\n",
    "        else:\n",
    "            new_node = Node(item)\n",
    "\n",
    "            if self.head == None:\n",
    "                # If the list is empty, set both head and tail to the new node.\n",
    "                self.head = new_node\n",
    "                self.head.back = None\n",
    "                self.tail = new_node\n",
    "            elif pos == 0:\n",
    "                # Insert at the beginning.\n",
    "                new_node.next = self.head\n",
    "                self.head.back = new_node\n",
    "                self.head = new_node\n",
    "                self.head.back = None\n",
    "            elif pos == self.size():\n",
    "                # Insert at the end.\n",
    "                new_node.back = self.tail\n",
    "                self.tail.next = new_node\n",
    "                self.tail = new_node\n",
    "                new_node.next = None\n",
    "            else:\n",
    "                # Insert in the middle.\n",
    "                current = self.head\n",
    "                count = 0\n",
    "                while current is not None:\n",
    "                    if count == pos-1:\n",
    "                        break\n",
    "                    current = current.next\n",
    "                    count+=1\n",
    "                \n",
    "                new_node.back = current\n",
    "                new_node.next = current.next\n",
    "                current.next.back = new_node\n",
    "                current.next = new_node\n",
    "    \n",
    "\n",
    "    def append(self, item):\n",
    "        new_node = Node(item)\n",
    "        if self.head is None:\n",
    "            self.head = new_node\n",
    "            self.tail = new_node\n",
    "        else:\n",
    "            new_node.back = self.tail\n",
    "            self.tail.next = new_node\n",
    "            self.tail = new_node\n",
    "        return\n",
    "    # Implement the pop method here.\n",
    "    # Make sure pop() has constant runtime.\n",
    "    # pop(pos) does not need to have constant runtime.\n",
    "\n",
    "    # ... (previously defined methods and attributes)\n",
    "\n",
    "    def pop(self, pos=None):\n",
    "        if self.head is None:\n",
    "            print(\"List is empty\")\n",
    "            return None\n",
    "\n",
    "        if pos is None:\n",
    "            # If pos is not provided, pop the last element (tail)\n",
    "            if self.tail is not None:\n",
    "                data = self.tail.data\n",
    "                if self.tail.back is not None:\n",
    "                    self.tail.back.next = None\n",
    "                self.tail = self.tail.back\n",
    "                return data\n",
    "        else:\n",
    "            # If pos is provided, pop the element at the specified position\n",
    "            if pos == 0:\n",
    "                # Pop the head element\n",
    "                data = self.head.data\n",
    "                self.head = self.head.next\n",
    "                if self.head is not None:\n",
    "                    self.head.back = None\n",
    "                return data\n",
    "            else:\n",
    "                current = self.head\n",
    "                for i in range(pos):\n",
    "                    if current is None:\n",
    "                        print(f\"Position {pos} out of range\")\n",
    "                        return None\n",
    "                    current = current.next\n",
    "\n",
    "                if current is not None:\n",
    "                    data = current.data\n",
    "                    if current.back is not None:\n",
    "                        current.back.next = current.next\n",
    "                    if current.next is not None:\n",
    "                        current.next.back = current.back\n",
    "                    return data\n",
    "\n",
    "        print(\"Position out of range\")\n",
    "        return None"
   ]
  },
  {
   "cell_type": "code",
   "execution_count": 18,
   "metadata": {
    "collapsed": false,
    "deletable": false,
    "editable": false,
    "nbgrader": {
     "grade": true,
     "grade_id": "bbe40a",
     "locked": true,
     "points": 5,
     "schema_version": 3,
     "solution": false,
     "task": false
    }
   },
   "outputs": [],
   "source": [
    "# Unit Tests for add\n",
    "from nose.tools import assert_equal\n",
    "dllst = DLinkedList()\n",
    "dllst.add(12)\n",
    "dllst.add(23)\n",
    "dllst.add(34)\n",
    "dllst.add(45)\n",
    "\n",
    "assert_equal(dllst.size(), 4)\n",
    "\n",
    "node = dllst.tail\n",
    "for d in [12, 23, 34, 45]:\n",
    "    assert_equal(node.data, d)\n",
    "    node = node.back"
   ]
  },
  {
   "cell_type": "code",
   "execution_count": 8,
   "metadata": {
    "collapsed": false,
    "deletable": false,
    "editable": false,
    "nbgrader": {
     "grade": true,
     "grade_id": "c6622f",
     "locked": true,
     "points": 5,
     "schema_version": 3,
     "solution": false,
     "task": false
    }
   },
   "outputs": [],
   "source": [
    "# Unit Tests for remove\n",
    "from nose.tools import assert_equal\n",
    "dllst = DLinkedList()\n",
    "dllst.add('a')\n",
    "dllst.add(12)\n",
    "dllst.add(23)\n",
    "dllst.add('b')\n",
    "dllst.add(34)\n",
    "dllst.add(45)\n",
    "dllst.add('c')\n",
    "\n",
    "dllst.remove('b')\n",
    "\n",
    "node = dllst.tail\n",
    "for d in ['a', 12, 23, 34, 45, 'c']:\n",
    "    assert_equal(node.data, d)\n",
    "    node = node.back\n",
    "    \n",
    "dllst.remove('a')\n",
    "\n",
    "node = dllst.tail\n",
    "for d in [12, 23, 34, 45, 'c']:\n",
    "    assert_equal(node.data, d)\n",
    "    node = node.back\n",
    "    \n",
    "dllst.remove('c')\n",
    "\n",
    "node = dllst.tail\n",
    "for d in [12, 23, 34, 45]:\n",
    "    assert_equal(node.data, d)\n",
    "    node = node.back"
   ]
  },
  {
   "cell_type": "code",
   "execution_count": 9,
   "metadata": {
    "collapsed": false,
    "deletable": false,
    "editable": false,
    "nbgrader": {
     "grade": true,
     "grade_id": "8e8357",
     "locked": true,
     "points": 5,
     "schema_version": 3,
     "solution": false,
     "task": false
    }
   },
   "outputs": [],
   "source": [
    "# Unit Tests for insert\n",
    "from nose.tools import assert_equal, assert_not_equal\n",
    "dllst = DLinkedList()\n",
    "dllst.insert(0, 'o')\n",
    "assert_equal(dllst.size(), 1)\n",
    "dllst.insert(1, 'e')\n",
    "dllst.insert(0, 'd')\n",
    "dllst.insert(2, 'n')\n",
    "dllst.insert(4, '!')\n",
    "\n",
    "node = dllst.tail\n",
    "for ch in '!enod':\n",
    "    assert_equal(node.data, ch)\n",
    "    node = node.back\n",
    "\n",
    "try:\n",
    "    dllst.insert(6, '!')\n",
    "except IndexError as e:\n",
    "    message = str(e)\n",
    "assert_not_equal(message, \"\")"
   ]
  },
  {
   "cell_type": "code",
   "execution_count": 10,
   "metadata": {
    "collapsed": false,
    "deletable": false,
    "editable": false,
    "nbgrader": {
     "grade": true,
     "grade_id": "51a9f8",
     "locked": true,
     "points": 5,
     "schema_version": 3,
     "solution": false,
     "task": false
    }
   },
   "outputs": [],
   "source": [
    "# Unit Tests for append\n",
    "# These Tests will NOT check if append has constant runtime. You need to CHECK THIS YOURSELF\n",
    "from nose.tools import assert_equal\n",
    "dllst = DLinkedList()\n",
    "dllst.add(12)\n",
    "dllst.add(23)\n",
    "dllst.add(34)\n",
    "dllst.add(45)\n",
    "dllst.append(\"last\")\n",
    "\n",
    "assert_equal(dllst.size(), 5)\n",
    "\n",
    "node = dllst.tail\n",
    "for d in [\"last\", 12, 23, 34, 45]:\n",
    "    assert_equal(node.data, d)\n",
    "    node = node.back\n",
    "\n",
    "\n",
    "# Testing appending to an empty list\n",
    "lst2 = DLinkedList()\n",
    "lst2.append(4)\n",
    "assert_equal(lst2.size(), 1)\n",
    "assert_equal(lst2.head.data, 4)\n",
    "assert_equal(lst2.tail.data, 4)"
   ]
  },
  {
   "cell_type": "code",
   "execution_count": 21,
   "metadata": {
    "collapsed": false,
    "deletable": false,
    "editable": false,
    "nbgrader": {
     "grade": true,
     "grade_id": "d46807",
     "locked": true,
     "points": 5,
     "schema_version": 3,
     "solution": false,
     "task": false
    }
   },
   "outputs": [],
   "source": [
    "# Unit Tests for pop\n",
    "# These Tests will NOT check if pop() has constant runtime. You need to CHECK THIS YOURSELF\n",
    "from nose.tools import assert_equal\n",
    "dllst = DLinkedList()\n",
    "dllst.add('a')\n",
    "dllst.add(12)\n",
    "dllst.add(23)\n",
    "dllst.add(34)\n",
    "dllst.add('b')\n",
    "dllst.add(45)\n",
    "dllst.add('c')\n",
    "\n",
    "x = dllst.pop(2)\n",
    "assert_equal(x, 'b')\n",
    "\n",
    "node = dllst.tail\n",
    "for d in ['a', 12, 23, 34, 45, 'c']:\n",
    "    assert_equal(node.data, d)\n",
    "    node = node.back\n",
    "    \n",
    "x = dllst.pop()\n",
    "assert_equal(x, 'a')\n",
    "\n",
    "node = dllst.tail\n",
    "for d in [12, 23, 34, 45, 'c']:\n",
    "    assert_equal(node.data, d)\n",
    "    node = node.back\n",
    "    \n",
    "x = dllst.pop(0)\n",
    "assert_equal(x, 'c')\n",
    "\n",
    "node = dllst.tail\n",
    "for d in [12, 23, 34, 45]:\n",
    "    assert_equal(node.data, d)\n",
    "    node = node.back"
   ]
  },
  {
   "cell_type": "markdown",
   "metadata": {
    "collapsed": false,
    "deletable": false,
    "editable": false,
    "nbgrader": {
     "grade": false,
     "grade_id": "2f2185",
     "locked": true,
     "schema_version": 3,
     "solution": false,
     "task": false
    }
   },
   "source": [
    "## Exercise 2: Recursive GCD Functions\n",
    "\n",
    "Recall in Activity 7 Fractions, we used the iterative function below to compute the greatest common divisor (GCD) of two integers."
   ]
  },
  {
   "cell_type": "code",
   "execution_count": 12,
   "metadata": {
    "collapsed": false,
    "deletable": false,
    "editable": false,
    "nbgrader": {
     "grade": false,
     "grade_id": "9a3ac1",
     "locked": true,
     "schema_version": 3,
     "solution": false,
     "task": false
    }
   },
   "outputs": [],
   "source": [
    "def gcd(m, n):\n",
    "    \"\"\"\n",
    "    Returns the greatest common divisor of m and n.\n",
    "    Precondition: n is positive\n",
    "    \"\"\"\n",
    "    while m % n != 0:\n",
    "        m, n = n, m % n\n",
    "    return n"
   ]
  },
  {
   "cell_type": "markdown",
   "metadata": {
    "collapsed": false,
    "deletable": false,
    "editable": false,
    "nbgrader": {
     "grade": false,
     "grade_id": "eb4896",
     "locked": true,
     "schema_version": 3,
     "solution": false,
     "task": false
    }
   },
   "source": [
    "### First Recursive Version\n",
    "\n",
    "This iterative function above is based on Euclid's algorithm, which observes that when `m % n` does not equal 0, `GCD(m, n) = GCD(n, m % n)`.  Use **Euclid's observation** to write a recursive version of the gcd function below."
   ]
  },
  {
   "cell_type": "code",
   "execution_count": 13,
   "metadata": {
    "collapsed": false,
    "deletable": false,
    "nbgrader": {
     "cell_type": "code",
     "checksum": "5bff1ef972e6dff0997118ad3762228a",
     "grade": true,
     "grade_id": "8aea66",
     "locked": false,
     "points": 7,
     "schema_version": 3,
     "solution": true,
     "task": false
    }
   },
   "outputs": [],
   "source": [
    "def gcd_r(m, n):\n",
    "    \"\"\"\n",
    "    Recursive function which returns the greatest common divisor of m and n.\n",
    "    Precondition: n is positive\n",
    "    \"\"\"\n",
    "    m = abs(m)\n",
    "    n = abs(n)\n",
    "    if n == 0:\n",
    "        return m\n",
    "    else:\n",
    "        return gcd_r(n,  m % n)"
   ]
  },
  {
   "cell_type": "code",
   "execution_count": 14,
   "metadata": {
    "collapsed": false,
    "deletable": false,
    "editable": false,
    "nbgrader": {
     "grade": true,
     "grade_id": "4d38ac",
     "locked": true,
     "points": 5,
     "schema_version": 3,
     "solution": false,
     "task": false
    }
   },
   "outputs": [],
   "source": [
    "# Unit test for gcd_r\n",
    "# These tests will not check if your function is RECURSIVE nor if the function USES Euclid's algorithm. You need to TEST THESE YOURSELF!\n",
    "from nose.tools import assert_equal\n",
    "assert_equal(gcd_r(-10,5), 5)\n",
    "assert_equal(gcd_r(-15,20), 5)\n",
    "assert_equal(gcd_r(46, 12), 2)\n",
    "assert_equal(gcd_r(12, 42), 6)\n",
    "assert_equal(gcd_r(10, 10), 10)\n",
    "assert_equal(gcd_r(17, 33), 1)\n",
    "assert_equal(gcd_r(2*5*13*7**2, 2**3*3**2*5**3*7**7), 490)"
   ]
  },
  {
   "cell_type": "markdown",
   "metadata": {
    "collapsed": false,
    "deletable": false,
    "editable": false,
    "nbgrader": {
     "grade": false,
     "grade_id": "0cfe8e",
     "locked": true,
     "schema_version": 3,
     "solution": false,
     "task": false
    }
   },
   "source": [
    "### Second Recursive Version: Euclid's Subtraction Algorithm\n",
    "\n",
    "Euclid was an ancient Greek mathematician who indeed wrote an algorithm for finding the GCD of two positive integers in his famous book [Euclid's Elements](https://en.wikipedia.org/wiki/Euclid%27s_Elements). However, nowhere in Euclid's Elements will you find a reference to the modern mod operator (%). A more direct translation of Euclid's Algorithm would use the observation that when `m>n` we have `GCD(m, n) = GCD(m-n,n)`. Use this observation (without using the mod operator) to write a second recursive version of the gcd function in the cell below:"
   ]
  },
  {
   "cell_type": "code",
   "execution_count": 22,
   "metadata": {
    "collapsed": false,
    "deletable": false,
    "nbgrader": {
     "cell_type": "code",
     "checksum": "3c411e4e03877f305daba8dd38c7fa47",
     "grade": true,
     "grade_id": "f7fd8c",
     "locked": false,
     "points": 7,
     "remove": false,
     "schema_version": 3,
     "solution": true,
     "task": false
    }
   },
   "outputs": [],
   "source": [
    "def gcd_s(m, n):\n",
    "    \"\"\"\n",
    "    Recursive function which uses subtraction (and not %) to return the greatest common divisor of m and n.\n",
    "    Precondition: m and n are both positive integers\n",
    "    \"\"\"\n",
    "    if m == n:\n",
    "        return m\n",
    "    elif m > n:\n",
    "        return gcd_s(m - n, n)\n",
    "    else:\n",
    "        return gcd_s(m, n - m)"
   ]
  },
  {
   "cell_type": "code",
   "execution_count": 23,
   "metadata": {
    "collapsed": false,
    "deletable": false,
    "editable": false,
    "nbgrader": {
     "grade": true,
     "grade_id": "63e7dc",
     "locked": true,
     "points": 5,
     "schema_version": 3,
     "solution": false,
     "task": false
    }
   },
   "outputs": [],
   "source": [
    "# Unit test for gcd_s\n",
    "# These tests will not check if your function is RECURSIVE nor if the function USES Euclid's SUBTRACTION algorithm. You need to TEST THESE YOURSELF!\n",
    "from nose.tools import assert_equal\n",
    "assert_equal(gcd_s(46, 12), 2)\n",
    "assert_equal(gcd_s(12, 42), 6)\n",
    "assert_equal(gcd_s(10, 10), 10)\n",
    "assert_equal(gcd_s(17, 33), 1)\n",
    "assert_equal(gcd_s(12034, 5241632), 22)"
   ]
  },
  {
   "cell_type": "code",
   "execution_count": null,
   "metadata": {
    "collapsed": false
   },
   "outputs": [],
   "source": []
  }
 ],
 "metadata": {
  "kernelspec": {
   "argv": [
    "/usr/bin/python3",
    "-m",
    "ipykernel",
    "--HistoryManager.enabled=False",
    "--matplotlib=inline",
    "-c",
    "%config InlineBackend.figure_formats = set(['retina'])\nimport matplotlib; matplotlib.rcParams['figure.figsize'] = (12, 7)",
    "-f",
    "{connection_file}"
   ],
   "display_name": "Python 3 (system-wide)",
   "env": {},
   "language": "python",
   "metadata": {
    "cocalc": {
     "description": "Python 3 programming language",
     "priority": 100,
     "url": "https://www.python.org/"
    }
   },
   "name": "python3",
   "resource_dir": "/ext/jupyter/kernels/python3"
  },
  "language_info": {
   "codemirror_mode": {
    "name": "ipython",
    "version": 3
   },
   "file_extension": ".py",
   "mimetype": "text/x-python",
   "name": "python",
   "nbconvert_exporter": "python",
   "pygments_lexer": "ipython3",
   "version": "3.10.12"
  },
  "nbgrader": {
   "__altered": false,
   "__hash": 214758527,
   "_root": {
    "entries": [
     [
      "size",
      5
     ],
     [
      "_root",
      {
       "entries": [
        [
         "size",
         6
        ],
        [
         "_root",
         {
          "entries": [
           [
            "size",
            1
           ],
           [
            "_root",
            {
             "entries": [
              [
               "cocalc_minimal_stubs",
               true
              ]
             ],
             "ownerID": {}
            }
           ],
           [
            "__ownerID",
            null
           ],
           [
            "__hash",
            912286151
           ],
           [
            "__altered",
            false
           ],
           [
            "cocalc_minimal_stubs",
            true
           ]
          ],
          "ownerID": {}
         }
        ],
        [
         "__hash",
         853781301
        ],
        [
         "__altered",
         false
        ],
        [
         "cocalc_minimal_stubs",
         true
        ]
       ],
       "ownerID": {}
      }
     ],
     [
      "__ownerID",
      null
     ],
     [
      "__hash",
      840017758
     ],
     [
      "__altered",
      false
     ],
     [
      "cocalc_minimal_stubs",
      true
     ]
    ],
    "ownerID": {}
   },
   "cocalc_minimal_stubs": true,
   "size": 6
  }
 },
 "nbformat": 4,
 "nbformat_minor": 4
}
