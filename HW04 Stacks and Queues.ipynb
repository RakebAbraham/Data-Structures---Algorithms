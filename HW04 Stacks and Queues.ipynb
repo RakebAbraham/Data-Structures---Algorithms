{
 "cells": [
  {
   "cell_type": "markdown",
   "metadata": {
    "collapsed": false,
    "deletable": false,
    "editable": false,
    "nbgrader": {
     "grade": false,
     "grade_id": "28b49e",
     "locked": true,
     "schema_version": 3,
     "solution": false,
     "task": false
    }
   },
   "source": [
    "# Homework Assignment 4 \n",
    "\n",
    "Complete the following exercises. When you are finished, double click on the cell below and type your full name (as a comment) to indicate that **you completed all exercises with academic integrity**. "
   ]
  },
  {
   "cell_type": "code",
   "execution_count": 3,
   "metadata": {
    "collapsed": false,
    "deletable": false,
    "nbgrader": {
     "cell_type": "code",
     "checksum": "d71d26c4948c308539da4eae8f1d60ec",
     "grade": true,
     "grade_id": "1c689d",
     "locked": false,
     "points": 1,
     "schema_version": 3,
     "solution": true,
     "task": false
    }
   },
   "outputs": [],
   "source": [
    "#Rakeb Abraham Jebessa\n"
   ]
  },
  {
   "cell_type": "markdown",
   "metadata": {
    "collapsed": false,
    "deletable": false,
    "editable": false,
    "nbgrader": {
     "grade": false,
     "grade_id": "02dc57",
     "locked": true,
     "schema_version": 3,
     "solution": false,
     "task": false
    }
   },
   "source": [
    "## Part 1: Stacks\n",
    "### Setup\n",
    "\n",
    "Copy and paste your implementation of the Stack class from Activity 14 (complete with ``__eq__`` and ``_str__`` implemented). "
   ]
  },
  {
   "cell_type": "code",
   "execution_count": 4,
   "metadata": {
    "collapsed": false,
    "deletable": false,
    "nbgrader": {
     "cell_type": "code",
     "checksum": "7115afb282c2744cbf1209871567da36",
     "grade": false,
     "grade_id": "533d1b",
     "locked": false,
     "remove": false,
     "schema_version": 3,
     "solution": true,
     "task": false
    }
   },
   "outputs": [
    {
     "name": "stdout",
     "output_type": "stream",
     "text": [
      "False\n"
     ]
    }
   ],
   "source": [
    "class Stack:\n",
    "    \"\"\"Stack implementation as a list\"\"\"\n",
    "\n",
    "    def __init__(self):\n",
    "        \"\"\"Create new stack\"\"\"\n",
    "        self._items = []\n",
    "\n",
    "    # Implement __eq__ here:\n",
    "    def __eq__(self, other):\n",
    "        return self._items == other._items\n",
    "\n",
    "    # Implement __str__ here:\n",
    "    def __str__(self): # returns the string of all items in the stack, separated by line breaks (see the unit tests below).\n",
    "        input_string = []\n",
    "        for i in self._items[::-1]:\n",
    "            input_string.append(str(i))\n",
    "        return \"\\n\".join(input_string)\n",
    "\n",
    "\n",
    "    def is_empty(self):\n",
    "        \"\"\"Check if the stack is empty\"\"\"\n",
    "        return not bool(self._items)\n",
    "\n",
    "    def push(self, item):\n",
    "        \"\"\"Add an item to the stack\"\"\"\n",
    "        self._items.append(item)\n",
    "\n",
    "    def pop(self):\n",
    "        \"\"\"Remove an item from the stack\"\"\"\n",
    "        return self._items.pop()\n",
    "\n",
    "    def peek(self):\n",
    "        \"\"\"Get the value of the top item in the stack\"\"\"\n",
    "        return self._items[-1]\n",
    "\n",
    "    def size(self):\n",
    "        \"\"\"Get the number of items in the stack\"\"\"\n",
    "        return len(self._items)\n",
    "\n",
    "lst1 = [1,2,3]\n",
    "lst2 = [1,3,2]\n",
    "print(lst1== lst2)"
   ]
  },
  {
   "cell_type": "code",
   "execution_count": 5,
   "metadata": {
    "collapsed": false,
    "deletable": false,
    "editable": false,
    "nbgrader": {
     "grade": true,
     "grade_id": "d541ef",
     "locked": true,
     "points": 1,
     "schema_version": 3,
     "solution": false,
     "task": false
    }
   },
   "outputs": [],
   "source": [
    "# Run this cell to check your implementation of Stack\n",
    "from nose.tools import assert_equal, assert_not_equal\n",
    "a = Stack()\n",
    "b = Stack()\n",
    "c = Stack()\n",
    "for i in ['checking', 'stack', 'implementation']:\n",
    "    a.push(i)\n",
    "    b.push(i)\n",
    "    c.push(i)\n",
    "c.pop()\n",
    "    \n",
    "assert_equal(a, b)\n",
    "assert_not_equal(a, c)"
   ]
  },
  {
   "cell_type": "markdown",
   "metadata": {
    "collapsed": false,
    "deletable": false,
    "editable": false,
    "nbgrader": {
     "grade": false,
     "grade_id": "714166",
     "locked": true,
     "schema_version": 3,
     "solution": false,
     "task": false
    }
   },
   "source": [
    "## Exercise 1: Palindromes\n",
    "\n",
    "The goal of this exercise is to *use stacks* to implement an algorithm that checks whether or not a sequence is a palindrome (reads the same forward as backward). Now, it is possible to use slicing to check if a sequence is a palindrome, but **you are not allowed to use slicing in this exercise**. Instead, you should rely on the stack operations. After all, the whole point of this exercise is to work with stacks!\n",
    "\n",
    "### Checking if a sequence is a palindrome\n",
    "\n",
    "Complete the implementation of the following function that checks whether or not a sequence is a palindrome. The function should use the following algorithm:\n",
    "\n",
    "1. Push the items of the sequence into two stacks, ``s`` and ``t``.\n",
    "2. Empty out the items from stack ``t`` into a third stack ``u`` in such a way that after ``t`` is empty ``u`` is an upside down version of ``s``.\n",
    "3. Empty out ``s`` and ``t`` one item at a time, checking whether or not the items are equal. Return ``True`` or ``False`` appropriately. "
   ]
  },
  {
   "cell_type": "code",
   "execution_count": 6,
   "metadata": {
    "collapsed": false,
    "deletable": false,
    "nbgrader": {
     "cell_type": "code",
     "checksum": "f5da70d9baad054994dd790deb9a84bb",
     "grade": false,
     "grade_id": "3b3de4",
     "locked": false,
     "schema_version": 3,
     "solution": true,
     "task": false
    }
   },
   "outputs": [],
   "source": [
    "def is_palindrome_seq(seq):\n",
    "    \"\"\"\n",
    "    Returns True if the sequence `seq` is a palindrome, and False otherwies.\n",
    "    Assumes `seq` is a sequence (string, list, or tuple).\n",
    "    \"\"\"\n",
    "    # Implement Step 1:\n",
    "    s = Stack()\n",
    "    t = Stack()\n",
    "    for item in seq:\n",
    "        s.push(item)\n",
    "        t.push(item)\n",
    "    u = Stack()\n",
    "    # Implement Steps 2 and 3:\n",
    "    while not t.is_empty:\n",
    "        u_item = t.pop \n",
    "        u.push(u_item)\n",
    "    #3 check if they're equal, but wouldnt they be since we put in the same items\n",
    "    while not t.is_empty and s.is_empty:\n",
    "        if s.pop() == t.pop():\n",
    "            return True\n",
    "        else:\n",
    "            return False\n",
    "    return seq == seq[::-1]    "
   ]
  },
  {
   "cell_type": "code",
   "execution_count": 7,
   "metadata": {
    "collapsed": false,
    "deletable": false,
    "editable": false,
    "nbgrader": {
     "grade": true,
     "grade_id": "cdaa2a",
     "locked": true,
     "points": 10,
     "schema_version": 3,
     "solution": false,
     "task": false
    }
   },
   "outputs": [],
   "source": [
    "# Unit tests for is_palindrome_seq\n",
    "from nose.tools import assert_true, assert_false\n",
    "assert_true(is_palindrome_seq(\"asdfdsa\"))\n",
    "assert_true(is_palindrome_seq([1, 2, 3, 2, 1]))\n",
    "assert_true(is_palindrome_seq((1, 2, 3, 2, 1)))\n",
    "assert_true(is_palindrome_seq((1, 1)))\n",
    "assert_true(is_palindrome_seq([1, 1]))\n",
    "assert_true(is_palindrome_seq(\"xxx\"))\n",
    "assert_true(is_palindrome_seq(\"yy\"))\n",
    "assert_true(is_palindrome_seq(\"a\"))\n",
    "assert_true(is_palindrome_seq(\"\"))\n",
    "assert_false(is_palindrome_seq(\"asdf\"))\n",
    "assert_false(is_palindrome_seq([4, 1]))\n",
    "assert_false(is_palindrome_seq((4, 1)))\n",
    "assert_false(is_palindrome_seq(\"ab\"))"
   ]
  },
  {
   "cell_type": "markdown",
   "metadata": {
    "collapsed": false,
    "deletable": false,
    "editable": false,
    "nbgrader": {
     "grade": false,
     "grade_id": "34c990",
     "locked": true,
     "remove": false,
     "schema_version": 3,
     "solution": false,
     "task": false
    }
   },
   "source": [
    "### Checking if the alphabetic characters in a string form a palindrome\n",
    "\n",
    "Next, write a function that *uses stacks* to check whether or not a string is a palindrome. The function should ignore non-alphabet characters and treat uppercase and lowercase characters as equal (see the unit tests below). "
   ]
  },
  {
   "cell_type": "code",
   "execution_count": 22,
   "metadata": {
    "collapsed": false,
    "deletable": false,
    "nbgrader": {
     "cell_type": "code",
     "checksum": "be8644d865e64fd7e6fe71c127493f65",
     "grade": false,
     "grade_id": "3b945c",
     "locked": false,
     "schema_version": 3,
     "solution": true,
     "task": false
    }
   },
   "outputs": [],
   "source": [
    "def is_palindrome(string):  \n",
    "    \"\"\"\n",
    "    Returns True if the inputted `string` is a palindrome, and False otherwies.\n",
    "    Ignores non-alphabetic characters and treats uppercase and lowercase letters as equal.\n",
    "    \"\"\"\n",
    "    new_string = ''.join([char for char in string if char.isalpha()]) #if its a alphabet\n",
    "    new_string = new_string.lower() #lower \n",
    "    s1 = Stack() # create a stack\n",
    "    \n",
    "    for item in new_string:\n",
    "        s1.push(item)\n",
    "        \n",
    "    while not s1.is_empty() :\n",
    "        for num in range(s1.size()):\n",
    "            if s1.pop() == new_string[num]:\n",
    "                return True\n",
    "    return new_string == new_string[::-1]\n",
    "    '''while not s1.is_empty() :\n",
    "        if s1.pop() == new_string[0]:\n",
    "            return False\n",
    "    return new_string == new_string[::-1]'''\n",
    "    "
   ]
  },
  {
   "cell_type": "code",
   "execution_count": 23,
   "metadata": {
    "collapsed": false,
    "deletable": false,
    "editable": false,
    "nbgrader": {
     "grade": true,
     "grade_id": "cb65bb",
     "locked": true,
     "points": 5,
     "schema_version": 3,
     "solution": false,
     "task": false
    }
   },
   "outputs": [],
   "source": [
    "# Unit tests for is_palindrome\n",
    "from nose.tools import assert_true, assert_false\n",
    "assert_true(is_palindrome(\"asdfdsa\"))\n",
    "assert_true(is_palindrome(\"a\"))\n",
    "assert_true(is_palindrome(\"\"))\n",
    "assert_true(is_palindrome(\"\"\"!@#$^%&[]{}*()'!\"?><.,\"\"\"))\n",
    "assert_true(is_palindrome(\"No lemon, no melon.\"))\n",
    "assert_true(is_palindrome(\"Cigar? Toss it in a can. It is so tragic.\"))\n",
    "assert_true(is_palindrome(\"I'm a lasagna, hang a salami!\"))\n",
    "assert_false(is_palindrome(\"Not a palindrome!\"))\n",
    "assert_false(is_palindrome(\"asdf\"))\n",
    "assert_false(is_palindrome(\"ab\"))"
   ]
  },
  {
   "cell_type": "markdown",
   "metadata": {
    "collapsed": false,
    "deletable": false,
    "editable": false,
    "nbgrader": {
     "grade": false,
     "grade_id": "4400e3",
     "locked": true,
     "remove": false,
     "schema_version": 3,
     "solution": false,
     "task": false
    }
   },
   "source": [
    "## Exercise 2: Tall Stacks\n",
    "\n",
    "In Activity 14 you implemented a couple subclasses of the Stack class. In this exercise, you'll implement one more. In the following cell, implement a subclass of ``Stack`` called ``TallStack``.\n",
    "The ``TallStack`` class should have the following properties:\n",
    "\n",
    "* In addition to the attributes inherited from ``Stack``, each ``TallStack`` object should have an instance variables ``min_height`` indicating the minimal number of items allowed in the stack. \n",
    "* The constructor should be called in the manner ``TallStack(min_height, base_stack)`` where ``min_height`` is the minimal height of the stack, and ``base_stack`` is a Stack object which gives the initial items of the instantiated ``TallStack`` object. For example, the following is a valid construction of a TallStack object:\n",
    "    ```python\n",
    "    base = Stack()\n",
    "    base.push(0)\n",
    "    base.push(2)\n",
    "    base.push(4)\n",
    "    base.push(6)\n",
    "    tall_stack = TallStack(3, base)\n",
    "    ```\n",
    "* If the constructor is called with a ``base_stack`` that has fewer items than the specified ``min_height``, an exception is raised with an appropriate message. For example, the following code should throw an exception:\n",
    "    ```python\n",
    "    base = Stack()\n",
    "    base.push(0)\n",
    "    base.push(2)\n",
    "    tall_stack = TallStack(3, base)\n",
    "    ```\n",
    "* When the constructor is called with valid parameters, the items in the given ``base_stack`` should be copied into the new TallStack in the same top to bottom order as they are given. Moreover, the constructor should leave the ``base_stack`` unchanged. For example, suppose we run the following:\n",
    "    ```python\n",
    "    base = Stack()\n",
    "    base.push(0)\n",
    "    base.push(2)\n",
    "    base.push(4)\n",
    "    tall_stack = TallStack(3, base)\n",
    "    ```\n",
    "    Then the stacks ``base`` and ``tall_stack`` should both look as follows:\n",
    "    ```\n",
    "    .-------.\n",
    "    |   4   |\n",
    "    |-------|\n",
    "    |   2   |\n",
    "    |-------|\n",
    "    |   0   |\n",
    "    '-------'\n",
    "    ```\n",
    "*  A newly constructed TallStack object and its ``base_stack`` should not reference one another. In other words, after the constructor is called, one should be able to pop or push the ``base_stack`` without affecting the newly constructed TallStack object. Continuing with the last example, suppose we then run the following:\n",
    "    ```python\n",
    "    base.pop()\n",
    "    tall_stack.push(5)\n",
    "    ```\n",
    "    Then the stacks ``tall_stack`` and ``base`` should become the following:\n",
    "    ```\n",
    "    .-------.\n",
    "    |   5   |\n",
    "    |-------|\n",
    "    |   4   |\n",
    "    |-------|    .-------.\n",
    "    |   2   |    |   2   |\n",
    "    |-------|    |-------|\n",
    "    |   0   |    |   0   |\n",
    "    '-------'    '-------'\n",
    "    tall_stack      base\n",
    "    ```\n",
    "* When the ``pop()`` method is called on a TallStack object that has only the minimal height, an exception should be raised with an appropriate message. "
   ]
  },
  {
   "cell_type": "code",
   "execution_count": 10,
   "metadata": {
    "collapsed": false,
    "deletable": false,
    "nbgrader": {
     "cell_type": "code",
     "checksum": "bd92144f04f65ec67960f2af84ca9af2",
     "grade": false,
     "grade_id": "ac28cb",
     "locked": false,
     "schema_version": 3,
     "solution": true,
     "task": false
    }
   },
   "outputs": [],
   "source": [
    "class TallStack(Stack):\n",
    "    def __init__(self, min_height, base_stack):\n",
    "        super().__init__()\n",
    "        self.min_height = min_height\n",
    "        if base_stack.size() < min_height:\n",
    "            raise Exception(\"Base stack does not have enough items for the specified min_height.\")\n",
    "\n",
    "        for item in base_stack._items:\n",
    "            self.push(item)\n",
    "\n",
    "    def pop(self):\n",
    "        if self.size() <= self.min_height:\n",
    "            raise Exception(\"Cannot pop below the min_height.\")\n",
    "        return super().pop()\n"
   ]
  },
  {
   "cell_type": "code",
   "execution_count": 11,
   "metadata": {
    "collapsed": false,
    "deletable": false,
    "editable": false,
    "nbgrader": {
     "grade": true,
     "grade_id": "e6db31",
     "locked": true,
     "points": 15,
     "schema_version": 3,
     "solution": false,
     "task": false
    }
   },
   "outputs": [],
   "source": [
    "# Testing TallStack\n",
    "from nose.tools import assert_equal, assert_false\n",
    "b = Stack()\n",
    "for i in range(6):\n",
    "    b.push(i)\n",
    "t = TallStack(5, b)\n",
    "assert_equal(t.min_height, 5) #testing min_height attribute\n",
    "assert_equal(t.size(), 6) #testing initial size\n",
    "assert_equal(t, b) #testing initial items\n",
    "\n",
    "#Testing base is not referenced\n",
    "b.pop()\n",
    "t.push(10)\n",
    "assert_equal(b.size(), 5)\n",
    "assert_equal(t.size(), 7)\n",
    "\n",
    "#Testing popping below min height\n",
    "t.pop()\n",
    "t.pop()\n",
    "try:\n",
    "    t.pop()\n",
    "    pop_message = \"\"\n",
    "except Exception as e:\n",
    "    pop_message = str(e)\n",
    "assert_not_equal(pop_message, \"\")\n",
    "\n",
    "#Testing case when base is exaclty the min height\n",
    "assert_false(TallStack(5, b).is_empty())\n",
    "\n",
    "#Testing invalid construction\n",
    "try:\n",
    "    TallStack(6, b)\n",
    "    small_base_message = \"\"\n",
    "except Exception as e:\n",
    "    small_base_message = str(e)\n",
    "assert_not_equal(small_base_message, \"\")   "
   ]
  },
  {
   "cell_type": "markdown",
   "metadata": {
    "collapsed": false,
    "deletable": false,
    "editable": false,
    "nbgrader": {
     "grade": false,
     "grade_id": "bf2ce3",
     "locked": true,
     "schema_version": 3,
     "solution": false,
     "task": false
    }
   },
   "source": [
    "## Part 2: Queues\n",
    "\n",
    "### Setup\n",
    "\n",
    "Copy and paste your implementation of the Queue class from Activity 16 (complete with ``__eq__`` and ``_str__`` implemented). "
   ]
  },
  {
   "cell_type": "code",
   "execution_count": 12,
   "metadata": {
    "collapsed": false,
    "deletable": false,
    "nbgrader": {
     "checksum": "da64a7e480338a8e976169d5e16b16cb",
     "grade": false,
     "grade_id": "02b199",
     "locked": false,
     "schema_version": 3,
     "solution": true,
     "task": false
    }
   },
   "outputs": [],
   "source": [
    "class Queue:\n",
    "    \"\"\"Queue implementation as a list\"\"\"\n",
    "\n",
    "    def __init__(self):\n",
    "        \"\"\"Create new queue\"\"\"\n",
    "        self._items = []\n",
    "    \n",
    "    # Implement __eq__ here:\n",
    "    def __eq__(self, other):\n",
    "        return self._items == other._items\n",
    "    \n",
    "    # Implement __str__ here:\n",
    "    def __str__(self):\n",
    "        return f\"-->{self._items}-->\"\n",
    "\n",
    "\n",
    "    def is_empty(self):\n",
    "        \"\"\"Check if the queue is empty\"\"\"\n",
    "        return not bool(self._items)\n",
    "\n",
    "    def enqueue(self, item):\n",
    "        \"\"\"Add an item to the queue\"\"\"\n",
    "        self._items.insert(0, item)\n",
    "\n",
    "    def dequeue(self):\n",
    "        \"\"\"Remove an item from the queue\"\"\"\n",
    "        return self._items.pop()\n",
    "\n",
    "    def size(self):\n",
    "        \"\"\"Get the number of items in the queue\"\"\"\n",
    "        return len(self._items)\n"
   ]
  },
  {
   "cell_type": "code",
   "execution_count": 13,
   "metadata": {
    "collapsed": false,
    "deletable": false,
    "editable": false,
    "nbgrader": {
     "grade": true,
     "grade_id": "fa3adc",
     "locked": true,
     "points": 1,
     "schema_version": 3,
     "solution": false,
     "task": false
    }
   },
   "outputs": [],
   "source": [
    "# Run this cell to check your implementation of Queue\n",
    "from nose.tools import assert_equal, assert_not_equal\n",
    "a = Queue()\n",
    "b = Queue()\n",
    "c = Queue()\n",
    "for i in ['checking', 'queue', 'implementation']:\n",
    "    a.enqueue(i)\n",
    "    b.enqueue(i)\n",
    "    c.enqueue(i)\n",
    "c.dequeue()\n",
    "    \n",
    "assert_equal(a, b)\n",
    "assert_not_equal(a==c, True)\n",
    "assert_equal(a.size(), b.size())\n",
    "assert_not_equal(a.size(), c.size())\n",
    "assert_equal(a.is_empty(), False)\n",
    "assert_equal(type(a._items), list)"
   ]
  },
  {
   "cell_type": "markdown",
   "metadata": {
    "collapsed": false,
    "deletable": false,
    "editable": false,
    "nbgrader": {
     "grade": false,
     "grade_id": "7f7dbd",
     "locked": true,
     "schema_version": 3,
     "solution": false,
     "task": false
    }
   },
   "source": [
    "## Exercise 3: CQueue\n",
    "\n",
    "In Activity 17, you implemented the `CDeque` class using the `deque` class from the Python  `collections` module.  Recall the Python documentation for the `deque` class is found at https://docs.python.org/3/library/collections.html .\n",
    "\n",
    "Use the `deque` class from the `collections` module to complete the definition of a `CQueue` class, which provides the same interface as the textbook `Queue` class above.  In particular, implement the methods:\n",
    "* __init__()\n",
    "* __eq__(other_queue):\n",
    "*  __str__()\n",
    "* is_empty()\n",
    "*  enqueue(item)\n",
    "*  dequeue()\n",
    "* size()"
   ]
  },
  {
   "cell_type": "code",
   "execution_count": 14,
   "metadata": {
    "collapsed": false,
    "deletable": false,
    "nbgrader": {
     "checksum": "7bd4c62bcc17cb78fc601647070d0ef8",
     "grade": false,
     "grade_id": "ea6a9c",
     "locked": false,
     "schema_version": 3,
     "solution": true,
     "task": false
    }
   },
   "outputs": [],
   "source": [
    "from collections import deque\n",
    "\n",
    "class CQueue:\n",
    "    def __init__(self):\n",
    "        self._items = deque()\n",
    "    def __eq__(self, other_queue):\n",
    "        return self._items == other_queue._items\n",
    "    def __str__(self):\n",
    "        return str(self._items)\n",
    "    def is_empty(self):\n",
    "        \"\"\"Check if the queue is empty\"\"\"\n",
    "        return not bool (self._items)\n",
    "    def enqueue(self, item):\n",
    "        \"\"\"Add an item to the queue\"\"\"\n",
    "        self._items.append(item)\n",
    "\n",
    "    def dequeue(self):\n",
    "        \"\"\"Remove an item from the queue\"\"\"\n",
    "        return self._items.popleft()\n",
    "\n",
    "    def size(self):\n",
    "        \"\"\"Get the number of items in the queue\"\"\"\n",
    "        return len(self._items)\n",
    "\n"
   ]
  },
  {
   "cell_type": "code",
   "execution_count": 15,
   "metadata": {
    "collapsed": false,
    "deletable": false,
    "editable": false,
    "nbgrader": {
     "grade": true,
     "grade_id": "cc6f38",
     "locked": true,
     "points": 10,
     "schema_version": 3,
     "solution": false,
     "task": false
    }
   },
   "outputs": [],
   "source": [
    "# Run this cell to check your implementation of CQueue\n",
    "from nose.tools import assert_equal, assert_not_equal\n",
    "a = CQueue()\n",
    "b = CQueue()\n",
    "c = CQueue()\n",
    "for i in ['checking', 'CQueue', 'implementation']:\n",
    "    a.enqueue(i)\n",
    "    b.enqueue(i)\n",
    "    c.enqueue(i)\n",
    "c.dequeue()\n",
    "    \n",
    "assert_equal(a, b)\n",
    "assert_not_equal(a==c, True)\n",
    "assert_equal(a.size(), b.size())\n",
    "assert_not_equal(a.size(), c.size())\n",
    "assert_equal(a.is_empty(), False)\n",
    "assert_equal(type(a._items), deque)"
   ]
  },
  {
   "cell_type": "markdown",
   "metadata": {
    "collapsed": false,
    "deletable": false,
    "editable": false,
    "nbgrader": {
     "grade": false,
     "grade_id": "7196d5",
     "locked": true,
     "schema_version": 3,
     "solution": false,
     "task": false
    }
   },
   "source": [
    "## Exercise 4: SQueue\n",
    "\n",
    "The goal of this exercise is to implement a queue using two stack instance variables! The first stack will store the items in the queue.  The second stack will provide assistance with the dequeue method of the `SQueue.`\n",
    "\n",
    "### Step 1\n",
    "\n",
    "In the following definition of `SQueue`, using the instance variable `s1` to hold the queue contents, implement the following methods:\n",
    "* `size()`\n",
    "* `_ _eq_ _(other_SQ)`\n",
    "* `is_empty()`\n",
    "* `enqueue(item)`\n",
    "\n",
    "You are **not allowed** to access the private attributes from the Stack class here. In particular, you are **not allowed** to write things like `s1._items`. Instead, use stack methods!\n"
   ]
  },
  {
   "cell_type": "code",
   "execution_count": 16,
   "metadata": {
    "collapsed": false,
    "deletable": false,
    "nbgrader": {
     "checksum": "353fd3245a7bb2da742d0050e43c5fe5",
     "grade": false,
     "grade_id": "a09ab7",
     "locked": false,
     "schema_version": 3,
     "solution": true,
     "task": false
    }
   },
   "outputs": [],
   "source": [
    "class SQueue:\n",
    "    \"\"\"A queue implementation using two stacks\"\"\"\n",
    "    def __init__(self):\n",
    "        self.s1 = Stack()\n",
    "        self.s2 = Stack()\n",
    "\n",
    "    def __str__(self):\n",
    "        a = \", \".join([str(item) for item in self.s1._items])\n",
    "        b = \", \".join([str(item) for item in self.s2._items])\n",
    "        return f\"-->{a}-->{b}\"\n",
    "    # Step 1:\n",
    "\n",
    "    # Implement size\n",
    "    def size(self):\n",
    "        return self.s1.size()\n",
    "        \n",
    "    # Implement __eq__\n",
    "    def __eq__(self, other_SQ):\n",
    "        return self.s1 == other_SQ.s1\n",
    "    \n",
    "    # Implement is_empty\n",
    "    def is_empty(self):\n",
    "        return self.s1.is_empty()\n",
    "    \n",
    "    def enqueue(self, item):\n",
    "        self.s1.push(item)\n",
    "        \n",
    "    def dequeue(self):\n",
    "        if self.is_empty():\n",
    "            raise IndexError(\"Queue is empty\") \n",
    "        \n",
    "        while not self.s1.is_empty(): #pop s1 items to push s2\n",
    "            self.s2.push(self.s1.pop())\n",
    "        \n",
    "        \n",
    "        result = self.s2.pop()\n",
    "        while not self.s2.is_empty():\n",
    "            self.s1.push(self.s2.pop()) #push everything from s2(sin first item ) s2\n",
    "\n",
    "        return result\n",
    "        #return self.s2.pop()\n",
    "\n",
    "\n",
    "    \n"
   ]
  },
  {
   "cell_type": "code",
   "execution_count": 17,
   "metadata": {
    "collapsed": false,
    "deletable": false,
    "editable": false,
    "nbgrader": {
     "grade": true,
     "grade_id": "8703a2",
     "locked": true,
     "points": 5,
     "schema_version": 3,
     "solution": false,
     "task": false
    }
   },
   "outputs": [],
   "source": [
    "# Run this cell to check your implementation of SQueue after completing  Part 1\n",
    "from nose.tools import assert_equal, assert_not_equal\n",
    "a = SQueue()\n",
    "b = SQueue()\n",
    "\n",
    "for i in ['checking', 'squeue', 'implementation']:\n",
    "    a.enqueue(i)\n",
    "    b.enqueue(i)\n",
    "\n",
    "    \n",
    "assert_equal(a, b)\n",
    "assert_equal(a.size(), b.size())\n",
    "assert_equal(a.is_empty(), False)\n",
    "assert_equal(type(a.s1), Stack)"
   ]
  },
  {
   "cell_type": "markdown",
   "metadata": {
    "collapsed": false,
    "deletable": false,
    "editable": false,
    "nbgrader": {
     "grade": false,
     "grade_id": "397d05",
     "locked": true,
     "schema_version": 3,
     "solution": false,
     "task": false
    }
   },
   "source": [
    "### Step 2\n",
    "\n",
    "In the definition of `SQueue` above, use both instance variables `s1` and `s2` to implement the `dequeue` method following the given algorithm:\n",
    "* if `s1` is empty, raise an `IndexError` exception with an appropriate message\n",
    "* One at a time pop all the items from s1 and push them onto s2\n",
    "* pop the top element of s2 and save it to result\n",
    "* Pop all the remaining items from s2 and push them back onto s1.\n",
    "* return result\n",
    "\n",
    "Again, You are **not allowed** to access the private attributes from the Stack class. Be sure to use your stack methods when appropriate!\n",
    "\n",
    "Save and run the complete `SQueue` class definition and test your code by running the below cell."
   ]
  },
  {
   "cell_type": "code",
   "execution_count": 18,
   "metadata": {
    "collapsed": false,
    "deletable": false,
    "editable": false,
    "nbgrader": {
     "grade": true,
     "grade_id": "18e782",
     "locked": true,
     "points": 10,
     "schema_version": 3,
     "solution": false,
     "task": false
    }
   },
   "outputs": [],
   "source": [
    "# Run this cell to check your implementation of SQueue after completing Part 2\n",
    "from nose.tools import assert_equal, assert_not_equal\n",
    "a = SQueue()\n",
    "b = SQueue()\n",
    "c = SQueue()\n",
    "\n",
    "for i in ['checking', 'squeue', 'implementation']:\n",
    "    a.enqueue(i)\n",
    "    b.enqueue(i)\n",
    "    c.enqueue(i)\n",
    "\n",
    "assert_equal(c.dequeue(), 'checking')\n",
    "assert_equal(a, b)\n",
    "assert_not_equal(a, c)\n",
    "assert_equal(c.size(), 2)\n",
    "assert_equal(c.is_empty(), False)\n",
    "assert_equal(c.s2.is_empty(), True)\n",
    "try:\n",
    "    for i in range(a.size()):\n",
    "        c.dequeue()\n",
    "except IndexError as e:\n",
    "    message = str(e)\n",
    "assert_not_equal(message, \"\")"
   ]
  },
  {
   "cell_type": "markdown",
   "metadata": {
    "collapsed": false,
    "deletable": false,
    "editable": false,
    "nbgrader": {
     "grade": false,
     "grade_id": "0caf80",
     "locked": true,
     "schema_version": 3,
     "solution": false,
     "task": false
    }
   },
   "source": [
    "## Exercise 5: Benchmarking our Queues\n",
    "\n",
    "Design an experiment which compares the performance of the methods `enqueue` and `dequeue` for three queue implmeantions `Queue`, `CQueue`, and `SQueue.`  Your experiment should result in a plot (similar to those in Activity 18) showing the runtimes for several trials and the same __large__ problem size.\n",
    "\n",
    "### Step 1: Test Functions\n",
    "\n",
    "Copy and paste the functions test_deq_add_method() and test_deq_remove_method() from Activity 18 below.  Modify the functions to investigate queues instead of stacks."
   ]
  },
  {
   "cell_type": "code",
   "execution_count": 19,
   "metadata": {
    "collapsed": false,
    "deletable": false,
    "nbgrader": {
     "checksum": "e3d716deb712f79d3b4fdd4070150d41",
     "grade": false,
     "grade_id": "b451c0",
     "locked": false,
     "schema_version": 3,
     "solution": true,
     "task": false
    }
   },
   "outputs": [
    {
     "name": "stdout",
     "output_type": "stream",
     "text": [
      "Try 100 required 10.2519989 microseconds\n",
      "Try 100 required  9.5367432 microseconds\n",
      "Try 100 required  9.0599060 microseconds\n",
      "Try 100 required  8.8214874 microseconds\n",
      "Try 100 required  9.0599060 microseconds\n",
      "Try  1 required 14.0666962 microseconds\n",
      "Try  2 required 12.8746033 microseconds\n",
      "Try  3 required 12.1593475 microseconds\n",
      "Try  4 required 12.3977661 microseconds\n",
      "Try  5 required 12.1593475 microseconds\n"
     ]
    }
   ],
   "source": [
    "import random, time\n",
    "\n",
    "def test_queue_add_method(queue, queue_add_method, num_of_adds, number_tries):\n",
    "    \"\"\"\n",
    "    Performs `number_tries` trials of the following experiment. For each trial,\n",
    "    the time it takes to perform the `queue_add_method` operation is computed.\n",
    "    Returns the collection of times as a list.\n",
    "    Each trial will:\n",
    "        * Instantiate a queue object queue\n",
    "        * Perform the queue_add_method num_of_adds times\n",
    "    \"\"\"\n",
    "    times = []\n",
    "\n",
    "    for i in range(number_tries):\n",
    "        q = queue()\n",
    "\n",
    "        start = time.time()\n",
    "        for item in range(num_of_adds):\n",
    "            queue_add_method(q, item)\n",
    "        end = time.time()\n",
    "\n",
    "        microseconds = 10**6 * (end - start) # 1 sec = 10^6 microseconds\n",
    "        times.append(microseconds)\n",
    "        print(f\"Try {i+1:2d} required {microseconds:10.7f} microseconds\")\n",
    "\n",
    "    return times\n",
    "\n",
    "\n",
    "\n",
    "def test_queue_remove_method(queue, queue_remove_method, num_of_removes, number_tries):\n",
    "    \"\"\"\n",
    "    Performs `number_tries` trials of the following experiment. For each trial,\n",
    "    the time it takes to perform the `queue_remove_method` operation is computed.\n",
    "    Returns the collection of times as a list.\n",
    "    Each trial will:\n",
    "        * Instantiate a queue object queue\n",
    "        * Perform the queue_remove_method num_of_removes times\n",
    "    \"\"\"\n",
    "    times = []\n",
    "\n",
    "    for i in range(number_tries):\n",
    "        q = queue()\n",
    "        for i in range(num_of_removes):\n",
    "            #fill the queue\n",
    "            q.enqueue(i)\n",
    "\n",
    "        start = time.time()\n",
    "        for item in range(num_of_removes):\n",
    "            queue_remove_method(q)\n",
    "        end = time.time()\n",
    "\n",
    "        microseconds = 10**6 * (end - start) # 1 sec = 10^6 microseconds\n",
    "        times.append(microseconds)\n",
    "        print(f\"Try {i+1:2d} required {microseconds:10.7f} microseconds\")\n",
    "\n",
    "    return times\n",
    "num_to_rem = 10000\n",
    "Queue_remove_front_times = test_queue_remove_method(Queue, Queue.dequeue, 100, 5)\n",
    "\n",
    "Queue_add_front_times = test_queue_add_method(Queue, Queue.enqueue, 100, 5)"
   ]
  },
  {
   "cell_type": "code",
   "execution_count": 20,
   "metadata": {
    "collapsed": false,
    "deletable": false,
    "editable": false,
    "nbgrader": {
     "grade": true,
     "grade_id": "491ba6",
     "locked": true,
     "points": 6,
     "schema_version": 3,
     "solution": false,
     "task": false
    }
   },
   "outputs": [
    {
     "name": "stdout",
     "output_type": "stream",
     "text": [
      "Try  1 required  2.3841858 microseconds\n",
      "Try  2 required  2.3841858 microseconds\n",
      "Try  3 required  2.1457672 microseconds\n",
      "Try  5 required  2.1457672 microseconds\n",
      "Try  5 required  0.7152557 microseconds\n",
      "Try  5 required  0.7152557 microseconds\n",
      "Try  1 required  2.6226044 microseconds\n",
      "Try  2 required  1.4305115 microseconds\n",
      "Try  3 required  0.9536743 microseconds\n"
     ]
    }
   ],
   "source": [
    "# Test the queue test functions\n",
    "from nose.tools import assert_equal\n",
    "results_Q = test_queue_add_method(Queue, Queue.enqueue, 5, 3)\n",
    "results_CQ = test_queue_remove_method(CQueue,CQueue.dequeue, 5, 3)\n",
    "results_SQ = test_queue_add_method(SQueue, SQueue.enqueue, 5, 3)\n",
    "assert_equal(len(results_Q), 3)\n",
    "\n",
    "\n"
   ]
  },
  {
   "cell_type": "markdown",
   "metadata": {
    "collapsed": false,
    "deletable": false,
    "editable": false,
    "nbgrader": {
     "grade": false,
     "grade_id": "428eb6",
     "locked": true,
     "schema_version": 3,
     "solution": false,
     "task": false
    }
   },
   "source": [
    "## Step 2: Generate Times\n",
    "\n",
    "Use your new test functions to generate lists of times for conducting many trials of the methods `enqueue` and `dequeue` for each of the three queue implementations `Queue`, `CQueue`, and `SQueue.` Using the results of the test functions, create a (well-labeled) plot showing the times for several trials for the `enqueue` and `dequeue` for all three queue implementations `Queue`, `CQueue`, and `SQueue`. You should use the same of number of trials and the same large problem size for each.  Hint: Somebody might be __very__ slow and need to be plotted separately :( .\n"
   ]
  },
  {
   "cell_type": "code",
   "execution_count": 21,
   "metadata": {
    "collapsed": false,
    "deletable": false,
    "nbgrader": {
     "checksum": "1dcee09b6082069636ea165fced38e9e",
     "grade": true,
     "grade_id": "2ade1c",
     "locked": false,
     "points": 5,
     "schema_version": 3,
     "solution": true,
     "task": false
    }
   },
   "outputs": [
    {
     "name": "stdout",
     "output_type": "stream",
     "text": [
      "Try  1 required  1.9073486 microseconds\n",
      "Try  2 required  1.1920929 microseconds\n",
      "Try  3 required  0.7152557 microseconds\n",
      "Try  4 required  0.4768372 microseconds\n",
      "Try  5 required  0.4768372 microseconds\n",
      "Try  1 required  1.1920929 microseconds\n",
      "Try  1 required  0.9536743 microseconds\n",
      "Try  1 required  0.7152557 microseconds\n",
      "Try  1 required  0.4768372 microseconds\n",
      "Try  1 required  0.7152557 microseconds\n",
      "Try  1 required  0.9536743 microseconds\n",
      "Try  2 required  0.9536743 microseconds\n",
      "Try  3 required  0.7152557 microseconds\n",
      "Try  4 required  0.4768372 microseconds\n",
      "Try  5 required  0.7152557 microseconds\n",
      "Try  1 required  0.9536743 microseconds\n",
      "Try  1 required  0.4768372 microseconds\n",
      "Try  1 required  0.4768372 microseconds\n",
      "Try  1 required  0.4768372 microseconds\n",
      "Try  1 required  0.4768372 microseconds\n",
      "Try  1 required  1.6689301 microseconds\n",
      "Try  2 required  0.7152557 microseconds\n",
      "Try  3 required  0.7152557 microseconds\n",
      "Try  4 required  0.7152557 microseconds\n",
      "Try  5 required  0.4768372 microseconds\n",
      "Try  1 required  4.7683716 microseconds\n",
      "Try  1 required  2.3841858 microseconds\n",
      "Try  1 required  2.1457672 microseconds\n",
      "Try  1 required  1.9073486 microseconds\n",
      "Try  1 required  2.1457672 microseconds\n",
      "Try  1 required  4.2915344 microseconds\n",
      "Try  2 required  0.7152557 microseconds\n",
      "Try  3 required  0.4768372 microseconds\n",
      "Try  4 required  0.4768372 microseconds\n",
      "Try  5 required  0.4768372 microseconds\n",
      "Try  1 required  0.4768372 microseconds\n",
      "Try  1 required  0.7152557 microseconds\n",
      "Try  1 required  0.4768372 microseconds\n",
      "Try  1 required  0.7152557 microseconds\n",
      "Try  1 required  0.4768372 microseconds\n",
      "Try  1 required  0.4768372 microseconds\n",
      "Try  2 required  0.7152557 microseconds\n",
      "Try  3 required  0.7152557 microseconds\n",
      "Try  4 required  0.4768372 microseconds\n",
      "Try  5 required  0.7152557 microseconds\n",
      "Try  1 required  0.4768372 microseconds\n",
      "Try  1 required  0.2384186 microseconds\n",
      "Try  1 required  0.7152557 microseconds\n",
      "Try  1 required  0.4768372 microseconds\n",
      "Try  1 required  0.4768372 microseconds\n",
      "Try  1 required  1.1920929 microseconds\n",
      "Try  2 required  0.7152557 microseconds\n",
      "Try  3 required  0.4768372 microseconds\n",
      "Try  4 required  0.7152557 microseconds\n",
      "Try  5 required  0.7152557 microseconds\n",
      "Try  1 required  2.6226044 microseconds\n",
      "Try  1 required  2.1457672 microseconds\n",
      "Try  1 required  1.9073486 microseconds\n",
      "Try  1 required  1.6689301 microseconds\n",
      "Try  1 required  2.1457672 microseconds\n",
      "Try  1 required  0.7152557 microseconds\n",
      "Try  2 required  0.4768372 microseconds\n",
      "Try  3 required  0.4768372 microseconds\n",
      "Try  4 required  0.4768372 microseconds\n",
      "Try  5 required  0.4768372 microseconds\n",
      "Try  1 required  0.7152557 microseconds\n",
      "Try  1 required  0.4768372 microseconds\n",
      "Try  1 required  0.4768372 microseconds\n",
      "Try  1 required  0.4768372 microseconds\n",
      "Try  1 required  0.4768372 microseconds\n",
      "Try  1 required  0.7152557 microseconds\n",
      "Try  2 required  0.4768372 microseconds\n",
      "Try  3 required  0.4768372 microseconds\n",
      "Try  4 required  0.4768372 microseconds\n",
      "Try  5 required  0.4768372 microseconds\n",
      "Try  1 required  0.4768372 microseconds\n",
      "Try  1 required  0.7152557 microseconds\n",
      "Try  1 required  0.7152557 microseconds\n",
      "Try  1 required  0.4768372 microseconds\n",
      "Try  1 required  0.4768372 microseconds\n",
      "Try  1 required  0.7152557 microseconds\n",
      "Try  2 required  0.9536743 microseconds\n",
      "Try  3 required  0.7152557 microseconds\n",
      "Try  4 required  0.4768372 microseconds\n",
      "Try  5 required  0.7152557 microseconds\n",
      "Try  1 required  2.1457672 microseconds\n",
      "Try  1 required  1.9073486 microseconds\n",
      "Try  1 required  2.3841858 microseconds\n",
      "Try  1 required  1.9073486 microseconds\n",
      "Try  1 required  2.1457672 microseconds\n",
      "Try  1 required  0.7152557 microseconds\n",
      "Try  2 required  0.7152557 microseconds\n",
      "Try  3 required  0.7152557 microseconds\n",
      "Try  4 required  0.4768372 microseconds\n",
      "Try  5 required  0.4768372 microseconds\n",
      "Try  1 required  0.4768372 microseconds\n",
      "Try  1 required  0.4768372 microseconds\n",
      "Try  1 required  0.4768372 microseconds\n",
      "Try  1 required  0.7152557 microseconds\n",
      "Try  1 required  0.7152557 microseconds\n",
      "Try  1 required  0.7152557 microseconds\n",
      "Try  2 required  0.9536743 microseconds\n",
      "Try  3 required  0.7152557 microseconds\n",
      "Try  4 required  0.4768372 microseconds\n",
      "Try  5 required  0.4768372 microseconds\n",
      "Try  1 required  0.4768372 microseconds\n",
      "Try  1 required  0.4768372 microseconds\n",
      "Try  1 required  0.4768372 microseconds\n",
      "Try  1 required  0.4768372 microseconds\n",
      "Try  1 required  0.4768372 microseconds\n",
      "Try  1 required  0.7152557 microseconds\n",
      "Try  2 required  0.7152557 microseconds\n",
      "Try  3 required  0.7152557 microseconds\n",
      "Try  4 required  0.7152557 microseconds\n",
      "Try  5 required  0.7152557 microseconds\n",
      "Try  1 required  2.1457672 microseconds\n",
      "Try  1 required  2.3841858 microseconds\n",
      "Try  1 required  1.9073486 microseconds\n",
      "Try  1 required  2.1457672 microseconds\n",
      "Try  1 required  1.9073486 microseconds\n",
      "Try  1 required  0.9536743 microseconds\n",
      "Try  2 required  0.4768372 microseconds\n",
      "Try  3 required  0.4768372 microseconds\n",
      "Try  4 required  0.7152557 microseconds\n",
      "Try  5 required  0.7152557 microseconds\n",
      "Try  1 required  0.7152557 microseconds\n",
      "Try  1 required  0.7152557 microseconds\n",
      "Try  1 required  0.4768372 microseconds\n",
      "Try  1 required  0.4768372 microseconds\n",
      "Try  1 required  0.4768372 microseconds\n",
      "Try  1 required  0.4768372 microseconds\n",
      "Try  2 required  0.4768372 microseconds\n",
      "Try  3 required  0.4768372 microseconds\n",
      "Try  4 required  0.4768372 microseconds\n",
      "Try  5 required  0.7152557 microseconds\n",
      "Try  1 required  0.7152557 microseconds\n",
      "Try  1 required  0.4768372 microseconds\n",
      "Try  1 required  0.7152557 microseconds\n",
      "Try  1 required  0.4768372 microseconds\n",
      "Try  1 required  0.4768372 microseconds\n",
      "Try  1 required  1.1920929 microseconds\n",
      "Try  2 required  0.9536743 microseconds\n",
      "Try  3 required  0.9536743 microseconds\n",
      "Try  4 required  0.7152557 microseconds\n",
      "Try  5 required  0.4768372 microseconds\n",
      "Try  1 required  2.6226044 microseconds\n",
      "Try  1 required  2.3841858 microseconds\n",
      "Try  1 required  2.3841858 microseconds\n",
      "Try  1 required  1.9073486 microseconds\n",
      "Try  1 required  7.1525574 microseconds\n"
     ]
    },
    {
     "data": {
      "text/plain": [
       "<function matplotlib.pyplot.show(close=None, block=None)>"
      ]
     },
     "execution_count": 21,
     "metadata": {},
     "output_type": "execute_result"
    },
    {
     "data": {
      "image/png": "[encoded data removed]",
      "text/plain": [
       "<Figure size 864x504 with 1 Axes>"
      ]
     },
     "execution_count": null,
     "metadata": {
      "image/png": {
       "height": 440,
       "width": 720
      },
      "needs_background": "light"
     },
     "output_type": "execute_result"
    }
   ],
   "source": [
    "import matplotlib.pyplot as p\n",
    "import numpy as np\n",
    "# Generate lists of times for conducting many trials of the methods\n",
    "num_of_trials = 5\n",
    "problem_size = 1\n",
    "\n",
    "Queue_enqueue_times = []\n",
    "Queue_dequeue_times = []\n",
    "CQueue_enqueue_times = []\n",
    "CQueue_dequeue_times = []\n",
    "SQueue_enqueue_times = []\n",
    "SQueue_dequeue_times = []\n",
    "\n",
    "for i in range(num_of_trials):\n",
    "    times_enqueue_queue = test_queue_add_method(Queue, Queue.enqueue, problem_size, 5)\n",
    "    times_dequeue_queue = test_queue_remove_method(Queue, Queue.dequeue, problem_size, 5)\n",
    "    times_enqueue_cqueue = test_queue_add_method(CQueue, CQueue.enqueue, problem_size, 5)\n",
    "    times_dequeue_cqueue = test_queue_remove_method(CQueue, CQueue.dequeue, problem_size, 5)\n",
    "    times_enqueue_squeue = test_queue_add_method(SQueue, SQueue.enqueue, problem_size, 5)\n",
    "    times_dequeue_squeue = test_queue_remove_method(SQueue, SQueue.dequeue, problem_size, 5)\n",
    "\n",
    "\n",
    "    Queue_enqueue_times.append(times_enqueue_queue)\n",
    "    Queue_dequeue_times.append(times_dequeue_queue)\n",
    "    CQueue_enqueue_times.append(times_enqueue_cqueue)\n",
    "    CQueue_dequeue_times.append(times_dequeue_cqueue)\n",
    "    SQueue_enqueue_times.append(times_enqueue_squeue)\n",
    "    SQueue_dequeue_times.append(times_dequeue_squeue)\n",
    "\n",
    "average_Queue_enqueue = np.mean(Queue_enqueue_times, axis=0)\n",
    "average_Queue_dequeue = np.mean(Queue_dequeue_times, axis=0)\n",
    "average_CQueue_enqueue = np.mean(CQueue_enqueue_times, axis=0)\n",
    "average_CQueue_dequeue = np.mean(CQueue_dequeue_times, axis=0)\n",
    "average_SQueue_enqueue = np.mean(SQueue_enqueue_times, axis=0)\n",
    "average_SQueue_dequeue = np.mean(SQueue_dequeue_times, axis=0)\n",
    "\n",
    "#p.ylim(0, max(np.max(average_Queue_enqueue), np.max(average_Queue_dequeue), np.max(average_CQueue_enqueue), np.max(average_CQueue_dequeue), np.max(average_SQueue_enqueue), np.max(average_SQueue_dequeue)))\n",
    "\n",
    "    \n",
    "p.plot(average_Queue_enqueue, color= 'blue' , marker = 'o', linestyle = 'dashed', label = 'Queue(Enqueue)')\n",
    "p.plot(average_Queue_dequeue, color= 'red', marker = 'o', linestyle = 'dashed', label = 'Queue(Dequeue)')\n",
    "p.plot(average_CQueue_enqueue, color= 'green', marker = 'o', linestyle = 'dashed', label = 'CQueue(Enqueue)')\n",
    "p.plot(average_CQueue_dequeue, color= 'purple', marker = 'o', linestyle = 'dashed', label = 'CQueue(Dequeue)')\n",
    "p.plot(average_SQueue_enqueue, color= 'orange', marker = 'o', linestyle = 'dashed', label = 'SQueue(Enqueue)')\n",
    "p.plot(average_SQueue_dequeue, color= 'brown', marker = 'o', linestyle = 'dashed', label = 'SQueue(Dequeue)')\n",
    "\n",
    "\n",
    "\n",
    "p.xlabel('Trials')\n",
    "p.ylabel('Time(milliseconds)')\n",
    "p.title(\"Enqueue and Dequeue times for Queue,CQueue and SQueue\")\n",
    "p.legend()\n",
    "p.grid(True)\n",
    "p.show\n"
   ]
  },
  {
   "cell_type": "code",
   "execution_count": null,
   "metadata": {},
   "outputs": [],
   "source": []
  },
  {
   "cell_type": "code",
   "execution_count": null,
   "metadata": {},
   "outputs": [],
   "source": []
  },
  {
   "cell_type": "code",
   "execution_count": null,
   "metadata": {
    "collapsed": false
   },
   "outputs": [],
   "source": [
    "    "
   ]
  },
  {
   "cell_type": "code",
   "execution_count": null,
   "metadata": {
    "collapsed": false
   },
   "outputs": [],
   "source": []
  }
 ],
 "metadata": {
  "kernelspec": {
   "argv": [
    "/usr/bin/python3",
    "-m",
    "ipykernel",
    "--HistoryManager.enabled=False",
    "--matplotlib=inline",
    "-c",
    "%config InlineBackend.figure_formats = set(['retina'])\nimport matplotlib; matplotlib.rcParams['figure.figsize'] = (12, 7)",
    "-f",
    "{connection_file}"
   ],
   "display_name": "Python 3 (system-wide)",
   "env": {},
   "language": "python",
   "metadata": {
    "cocalc": {
     "description": "Python 3 programming language",
     "priority": 100,
     "url": "https://www.python.org/"
    }
   },
   "name": "python3",
   "resource_dir": "/ext/jupyter/kernels/python3"
  },
  "language_info": {
   "codemirror_mode": {
    "name": "ipython",
    "version": 3
   },
   "file_extension": ".py",
   "mimetype": "text/x-python",
   "name": "python",
   "nbconvert_exporter": "python",
   "pygments_lexer": "ipython3",
   "version": "3.10.12"
  },
  "nbgrader": {
   "__altered": false,
   "__hash": 791165709,
   "_root": {
    "entries": [
     [
      "size",
      6
     ],
     [
      "_root",
      {
       "entries": [
        [
         "size",
         6
        ],
        [
         "_root",
         {
          "entries": [
           [
            "size",
            6
           ],
           [
            "_root",
            {
             "entries": [
              [
               "size",
               6
              ],
              [
               "_root",
               {
                "entries": [
                 [
                  "size",
                  6
                 ],
                 [
                  "_root",
                  {
                   "entries": [
                    [
                     "size",
                     5
                    ],
                    [
                     "_root",
                     {
                      "entries": [
                       [
                        "size",
                        5
                       ],
                       [
                        "_root",
                        {
                         "entries": [
                          [
                           "__altered",
                           false
                          ],
                          [
                           "__hash",
                           843328498
                          ],
                          [
                           "_root",
                           {
                            "entries": [
                             [
                              "__altered",
                              false
                             ],
                             [
                              "__hash",
                              2769320
                             ],
                             [
                              "_root",
                              {
                               "entries": [
                                [
                                 "size",
                                 6
                                ],
                                [
                                 "_root",
                                 {
                                  "entries": [
                                   [
                                    "size",
                                    6
                                   ],
                                   [
                                    "_root",
                                    {
                                     "entries": [
                                      [
                                       "size",
                                       5
                                      ],
                                      [
                                       "_root",
                                       {
                                        "entries": [
                                         [
                                          "size",
                                          5
                                         ],
                                         [
                                          "_root",
                                          {
                                           "entries": [
                                            [
                                             "__altered",
                                             false
                                            ],
                                            [
                                             "__hash",
                                             788231169
                                            ],
                                            [
                                             "_root",
                                             {
                                              "entries": [
                                               [
                                                "size",
                                                6
                                               ],
                                               [
                                                "_root",
                                                {
                                                 "entries": [
                                                  [
                                                   "size",
                                                   6
                                                  ],
                                                  [
                                                   "_root",
                                                   {
                                                    "entries": [
                                                     [
                                                      "size",
                                                      6
                                                     ],
                                                     [
                                                      "_root",
                                                      {
                                                       "entries": [
                                                        [
                                                         "size",
                                                         5
                                                        ],
                                                        [
                                                         "_root",
                                                         {
                                                          "entries": [
                                                           [
                                                            "size",
                                                            6
                                                           ],
                                                           [
                                                            "_root",
                                                            {
                                                             "entries": [
                                                              [
                                                               "size",
                                                               6
                                                              ],
                                                              [
                                                               "_root",
                                                               {
                                                                "entries": [
                                                                 [
                                                                  "size",
                                                                  1
                                                                 ],
                                                                 [
                                                                  "_root",
                                                                  {
                                                                   "entries": [
                                                                    [
                                                                     "cocalc_minimal_stubs",
                                                                     true
                                                                    ]
                                                                   ],
                                                                   "ownerID": {}
                                                                  }
                                                                 ],
                                                                 [
                                                                  "__ownerID",
                                                                  null
                                                                 ],
                                                                 [
                                                                  "__hash",
                                                                  912286151
                                                                 ],
                                                                 [
                                                                  "__altered",
                                                                  false
                                                                 ],
                                                                 [
                                                                  "cocalc_minimal_stubs",
                                                                  true
                                                                 ]
                                                                ],
                                                                "ownerID": {}
                                                               }
                                                              ],
                                                              [
                                                               "__ownerID",
                                                               null
                                                              ],
                                                              [
                                                               "__hash",
                                                               853781301
                                                              ],
                                                              [
                                                               "__altered",
                                                               false
                                                              ],
                                                              [
                                                               "cocalc_minimal_stubs",
                                                               true
                                                              ]
                                                             ],
                                                             "ownerID": {}
                                                            }
                                                           ],
                                                           [
                                                            "__hash",
                                                            615395691
                                                           ],
                                                           [
                                                            "__altered",
                                                            false
                                                           ],
                                                           [
                                                            "cocalc_minimal_stubs",
                                                            true
                                                           ]
                                                          ],
                                                          "ownerID": {}
                                                         }
                                                        ],
                                                        [
                                                         "__ownerID",
                                                         null
                                                        ],
                                                        [
                                                         "__hash",
                                                         482977771
                                                        ],
                                                        [
                                                         "__altered",
                                                         false
                                                        ],
                                                        [
                                                         "cocalc_minimal_stubs",
                                                         true
                                                        ]
                                                       ],
                                                       "ownerID": {}
                                                      }
                                                     ],
                                                     [
                                                      "__ownerID",
                                                      null
                                                     ],
                                                     [
                                                      "__hash",
                                                      -523421519
                                                     ],
                                                     [
                                                      "__altered",
                                                      false
                                                     ],
                                                     [
                                                      "cocalc_minimal_stubs",
                                                      true
                                                     ]
                                                    ],
                                                    "ownerID": {}
                                                   }
                                                  ],
                                                  [
                                                   "__ownerID",
                                                   null
                                                  ],
                                                  [
                                                   "__hash",
                                                   28963905
                                                  ],
                                                  [
                                                   "__altered",
                                                   false
                                                  ],
                                                  [
                                                   "cocalc_minimal_stubs",
                                                   true
                                                  ]
                                                 ],
                                                 "ownerID": {}
                                                }
                                               ],
                                               [
                                                "__hash",
                                                -1008119928
                                               ],
                                               [
                                                "__altered",
                                                false
                                               ],
                                               [
                                                "cocalc_minimal_stubs",
                                                true
                                               ]
                                              ],
                                              "ownerID": {}
                                             }
                                            ],
                                            [
                                             "cocalc_minimal_stubs",
                                             true
                                            ],
                                            [
                                             "size",
                                             5
                                            ]
                                           ],
                                           "ownerID": {}
                                          }
                                         ],
                                         [
                                          "__hash",
                                          -1072830672
                                         ],
                                         [
                                          "__altered",
                                          false
                                         ],
                                         [
                                          "cocalc_minimal_stubs",
                                          true
                                         ]
                                        ],
                                        "ownerID": {}
                                       }
                                      ],
                                      [
                                       "__ownerID",
                                       null
                                      ],
                                      [
                                       "__hash",
                                       -748692902
                                      ],
                                      [
                                       "__altered",
                                       false
                                      ],
                                      [
                                       "cocalc_minimal_stubs",
                                       true
                                      ]
                                     ],
                                     "ownerID": {}
                                    }
                                   ],
                                   [
                                    "__ownerID",
                                    null
                                   ],
                                   [
                                    "__hash",
                                    857763076
                                   ],
                                   [
                                    "__altered",
                                    false
                                   ],
                                   [
                                    "cocalc_minimal_stubs",
                                    true
                                   ]
                                  ],
                                  "ownerID": {}
                                 }
                                ],
                                [
                                 "__ownerID",
                                 null
                                ],
                                [
                                 "__hash",
                                 -433595574
                                ],
                                [
                                 "__altered",
                                 false
                                ],
                                [
                                 "cocalc_minimal_stubs",
                                 true
                                ]
                               ],
                               "ownerID": {}
                              }
                             ],
                             [
                              "cocalc_minimal_stubs",
                              true
                             ],
                             [
                              "size",
                              6
                             ]
                            ],
                            "ownerID": {}
                           }
                          ],
                          [
                           "cocalc_minimal_stubs",
                           true
                          ],
                          [
                           "size",
                           5
                          ]
                         ],
                         "ownerID": {}
                        }
                       ],
                       [
                        "__hash",
                        720578042
                       ],
                       [
                        "__altered",
                        false
                       ],
                       [
                        "cocalc_minimal_stubs",
                        true
                       ]
                      ],
                      "ownerID": {}
                     }
                    ],
                    [
                     "__ownerID",
                     null
                    ],
                    [
                     "__hash",
                     239514432
                    ],
                    [
                     "__altered",
                     false
                    ],
                    [
                     "cocalc_minimal_stubs",
                     true
                    ]
                   ],
                   "ownerID": {}
                  }
                 ],
                 [
                  "__ownerID",
                  null
                 ],
                 [
                  "__hash",
                  -464880532
                 ],
                 [
                  "__altered",
                  false
                 ],
                 [
                  "cocalc_minimal_stubs",
                  true
                 ]
                ],
                "ownerID": {}
               }
              ],
              [
               "__ownerID",
               null
              ],
              [
               "__hash",
               695426293
              ],
              [
               "__altered",
               false
              ],
              [
               "cocalc_minimal_stubs",
               true
              ]
             ],
             "ownerID": {}
            }
           ],
           [
            "__ownerID",
            null
           ],
           [
            "__hash",
            -789398418
           ],
           [
            "__altered",
            false
           ],
           [
            "cocalc_minimal_stubs",
            true
           ]
          ],
          "ownerID": {}
         }
        ],
        [
         "__ownerID",
         null
        ],
        [
         "__hash",
         765577316
        ],
        [
         "__altered",
         false
        ],
        [
         "cocalc_minimal_stubs",
         true
        ]
       ],
       "ownerID": {}
      }
     ],
     [
      "__ownerID",
      null
     ],
     [
      "__hash",
      -599014199
     ],
     [
      "__altered",
      false
     ],
     [
      "cocalc_minimal_stubs",
      true
     ]
    ],
    "ownerID": {}
   },
   "cocalc_minimal_stubs": true,
   "size": 6
  }
 },
 "nbformat": 4,
 "nbformat_minor": 4
}
