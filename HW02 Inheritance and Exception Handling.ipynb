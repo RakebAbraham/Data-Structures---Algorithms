{
 "cells": [
  {
   "cell_type": "markdown",
   "metadata": {
    "collapsed": false,
    "deletable": false,
    "editable": false,
    "nbgrader": {
     "grade": false,
     "grade_id": "28b49e",
     "locked": true,
     "schema_version": 3,
     "solution": false,
     "task": false
    }
   },
   "source": [
    "# Homework Assignment 2\n",
    "\n",
    "Complete the following exercises. When you are finished, double click on the cell below and type your full name to indicate that **you completed all exercises with academic integrity**. "
   ]
  },
  {
   "cell_type": "code",
   "execution_count": 3,
   "metadata": {
    "collapsed": false,
    "deletable": false,
    "nbgrader": {
     "checksum": "d71d26c4948c308539da4eae8f1d60ec",
     "grade": true,
     "grade_id": "1c689d",
     "locked": false,
     "points": 1,
     "schema_version": 3,
     "solution": true,
     "task": false
    }
   },
   "outputs": [],
   "source": [
    "#Rakeb Abraham Jebessa"
   ]
  },
  {
   "cell_type": "markdown",
   "metadata": {
    "collapsed": false,
    "deletable": false,
    "editable": false,
    "nbgrader": {
     "grade": false,
     "grade_id": "714166",
     "locked": true,
     "schema_version": 3,
     "solution": false,
     "task": false
    }
   },
   "source": [
    "## Exercise 1: More with the Fraction Class\n",
    "\n",
    "In Activity 07 you developed the `Fraction` class with the following attributes and methods:\n",
    "\n",
    "Attributes:\n",
    "* num     \n",
    "* den  \n",
    "\n",
    "Methods:\n",
    "* init(top,bottom)\n",
    "* str()\n",
    "* eq(other_fraction)\n",
    "* lt(other_fraction)\n",
    "* le(other_fraction)\n",
    "* add(other_fraction)\n",
    "* sub(other_fraction)\n",
    "* mul(other_fraction)\n",
    "* truediv(other_fraction)\n",
    "* reduce()\n",
    "\n",
    "\n",
    "\n",
    "\n",
    "\n",
    "In this Exercise you will continue developing the `Fraction` class. First, in the next cell, copy and paste your working implementation of the `Fraction` class from Activity 07-Exercises.  The helper function `gcd(m,n)` has been copied for you.  Just as in the activity, you will make changes to the `Fraction` class in this cell and run the updated cell each time prior to testing using the Autograder tests."
   ]
  },
  {
   "cell_type": "code",
   "execution_count": 4,
   "metadata": {
    "collapsed": false,
    "deletable": false,
    "nbgrader": {
     "checksum": "5fd0905a58ea7a00e990fdd8a06005b2",
     "grade": false,
     "grade_id": "8ca294",
     "locked": false,
     "schema_version": 3,
     "solution": true,
     "task": false
    }
   },
   "outputs": [],
   "source": [
    "def gcd(m, n):\n",
    "    \"\"\"\n",
    "    Returns the greatest common divisor of m and n.\n",
    "    Precondition: n is positive\n",
    "    \"\"\"\n",
    "    while m % n != 0:\n",
    "        m, n = n, m % n\n",
    "    return n\n",
    "\n",
    "class Fraction:\n",
    "    \"\"\"\n",
    "    A class for rational numbers, represented exactly as fractions.\n",
    "    \"\"\"\n",
    "    def __init__(self, top=1, bottom=1):\n",
    "        \"\"\"Constructor definition.\n",
    "        top, bottom are integers\"\"\"\n",
    "        \n",
    "        if type(top) and type(bottom) is not int:\n",
    "            raise TypeError(\"Fractions require integer values\")\n",
    "\n",
    "        elif bottom == 0:\n",
    "            raise ZeroDivisionError(\"Fraction denominators can not be zero\")\n",
    "       \n",
    "        else:\n",
    "            if bottom < 0: # correct negative denominator\n",
    "                bottom *= -1\n",
    "                top *= -1\n",
    "            self.num = top\n",
    "            self.den = bottom\n",
    "\n",
    "\n",
    "    def __str__(self):\n",
    "        return f\"{self.num}/{self.den}\"\n",
    "\n",
    "    def __eq__(self, other_fraction):\n",
    "        first_num = self.num * other_fraction.den\n",
    "        second_num = other_fraction.num * self.den\n",
    "\n",
    "        return first_num == second_num\n",
    "\n",
    "    ### Implement __lt__ here: less than\n",
    "    def __lt__(self, other_fraction):\n",
    "        first_num = self.num * other_fraction.den\n",
    "        second_num = other_fraction.num * self.den\n",
    "        \n",
    "        return first_num < second_num\n",
    "\n",
    "    ### Implement __le__ here: #less than or equal\n",
    "    def __le__(self, other_fraction):\n",
    "        first_num = self.num * other_fraction.den\n",
    "        second_num = other_fraction.num * self.den\n",
    "\n",
    "        return first_num <= second_num\n",
    "\n",
    "\n",
    "    def __add__(self, other_fraction):\n",
    "        \"\"\"Add self and other_fraction\"\"\"\n",
    "        new_num = self.num * other_fraction.den + self.den * other_fraction.num\n",
    "        new_den = self.den * other_fraction.den\n",
    "        return Fraction(new_num, new_den)\n",
    "\n",
    "    def __sub__(self, other_fraction):\n",
    "        new_num = self.num * other_fraction.den - self.den * other_fraction.num\n",
    "        new_den = self.den * other_fraction.den\n",
    "        return Fraction(new_num, new_den)\n",
    "\n",
    "    def __mul__(self, other_fraction):\n",
    "        new_num = self.num * other_fraction.num\n",
    "        new_den = self.den * other_fraction.den\n",
    "        return Fraction(new_num, new_den)\n",
    "\n",
    "    def __truediv__(self, other_fraction):\n",
    "        new_num = self.num * other_fraction.den\n",
    "        new_den = self.den * other_fraction.num\n",
    "        return Fraction(new_num, new_den)\n",
    "\n",
    "    def __ne__(self, other_fraction):\n",
    "        first_num = self.num * other_fraction.den\n",
    "        second_num = other_fraction.num * self.den\n",
    "        return first_num != second_num\n",
    "\n",
    "    def __gt__(self, other_fraction):\n",
    "        first_num = self.num * other_fraction.den\n",
    "        second_num = other_fraction.num * self.den\n",
    "        return first_num > second_num\n",
    "\n",
    "    def __ge__(self, other_fraction):\n",
    "        first_num = self.num * other_fraction.den\n",
    "        second_num = other_fraction.num * self.den\n",
    "\n",
    "        return first_num >= second_num\n",
    "\n",
    "    def reduce(self):\n",
    "        \"\"\"Allow a Fraction object to reduce itself using gcd()\"\"\"\n",
    "        common = gcd(self.num, self.den)\n",
    "        self.num = self.num // common\n",
    "        self.den = self.den // common\n",
    "    def get_num(self):\n",
    "        return self.num\n",
    "    def get_den(self):\n",
    "        return self.den\n",
    "    def __pow__(self, p):\n",
    "        if p >=0:\n",
    "            return Fraction(self.num ** p, self.den **p)\n",
    "        else:\n",
    "            return Fraction (self.den ** abs(p) , self.num ** abs(p))\n",
    "    def __float__(self):\n",
    "        return self.num/self.den\n",
    "    def __repr__(self):\n",
    "        return f\"Fraction({self.num}, {self.den})\"\n",
    "    \n",
    "        \n",
    "    \n"
   ]
  },
  {
   "cell_type": "markdown",
   "metadata": {
    "collapsed": false,
    "deletable": false,
    "editable": false,
    "nbgrader": {
     "grade": false,
     "grade_id": "dd11fa",
     "locked": true,
     "schema_version": 3,
     "solution": false,
     "task": false
    }
   },
   "source": [
    "Check that your implementation is working so far by running the next cell."
   ]
  },
  {
   "cell_type": "code",
   "execution_count": 5,
   "metadata": {
    "collapsed": false,
    "deletable": false,
    "editable": false,
    "nbgrader": {
     "grade": true,
     "grade_id": "606fde",
     "locked": true,
     "points": 1,
     "schema_version": 3,
     "solution": false,
     "task": false
    }
   },
   "outputs": [],
   "source": [
    "# Check that fraction operations are correct so far:\n",
    "from nose.tools import assert_equal\n",
    "assert_equal(Fraction(-1,7) + Fraction(1,11), Fraction(-4, 77))\n",
    "assert_equal(Fraction(-1,7) - Fraction(1,11), Fraction(-18, 77))\n",
    "assert_equal(Fraction(-1,7) * Fraction(1,11), Fraction(-1, 77))\n",
    "assert_equal(Fraction(-1,7) / Fraction(1,11), Fraction(-11, 7))\n",
    "assert_equal(Fraction(-1,7) == Fraction(1,11), False)\n",
    "assert_equal(Fraction(-1,7) == Fraction(-2,14), True)\n",
    "assert_equal(Fraction(-1,7) < Fraction(1,11), True)\n",
    "assert_equal(Fraction(-1,7) <= Fraction(1,11), True)\n",
    "assert_equal(Fraction(-1,7) <= Fraction(-2,14), True)\n",
    "assert_equal(Fraction(1,7) < Fraction(1,11), False)"
   ]
  },
  {
   "cell_type": "markdown",
   "metadata": {
    "collapsed": false,
    "deletable": false,
    "editable": false,
    "nbgrader": {
     "grade": false,
     "grade_id": "1427a1",
     "locked": true,
     "schema_version": 3,
     "solution": false,
     "task": false
    }
   },
   "source": [
    "### Warmup: comparison operators\n",
    "\n",
    "Complete the comparison operators by adding the methods `__ne__`,   `__gt__()` and `__ge__()` for the not-equal-to, greater-than and greater-than-or-equal-to to the `Fraction` class definition. Again, these are boolean operators, so they should return either `True` or `False`, not a `Fraction`. Note that `f1 != f2` calls `f1.__ne__(f2)`. And use the fact that (as long as denominators are positive) $\\frac{a}{b}>\\frac{c}{d}$ is equivalent to $ad > bc$.  Run the `Fraction` class definition cell again before testing in the below cell."
   ]
  },
  {
   "cell_type": "code",
   "execution_count": 6,
   "metadata": {
    "collapsed": false,
    "deletable": false,
    "editable": false,
    "nbgrader": {
     "grade": true,
     "grade_id": "8fef16",
     "locked": true,
     "points": 6,
     "schema_version": 3,
     "solution": false,
     "task": false
    }
   },
   "outputs": [],
   "source": [
    "# Check that fraction operations are correct so far:\n",
    "assert_equal(Fraction(-1,7) > Fraction(1,11), False)\n",
    "assert_equal(Fraction(-1,7) >= Fraction(-2,14), True)\n",
    "assert_equal(Fraction(-1,7) != Fraction(1,11), True)\n",
    "assert_equal(Fraction(-1,7) >= Fraction(1,11), False)\n",
    "assert_equal(Fraction(-1,7) != Fraction(-2,14), False)\n",
    "assert_equal(Fraction(1,7) > Fraction(1,11), True)"
   ]
  },
  {
   "cell_type": "markdown",
   "metadata": {
    "collapsed": false,
    "deletable": false,
    "editable": false,
    "nbgrader": {
     "grade": false,
     "grade_id": "2bf185",
     "locked": true,
     "schema_version": 3,
     "solution": false,
     "task": false
    }
   },
   "source": [
    "### Getters\n",
    "\n",
    "In your above `Fraction` class definition, implement the simple methods `get_num` and `get_den` that will return the numerator and denominator of a fraction.  Run the `Fraction` class definition cell again before testing in the below cell."
   ]
  },
  {
   "cell_type": "code",
   "execution_count": 7,
   "metadata": {
    "collapsed": false,
    "deletable": false,
    "editable": false,
    "nbgrader": {
     "grade": true,
     "grade_id": "8a17a5",
     "locked": true,
     "points": 2,
     "remove": false,
     "schema_version": 3,
     "solution": false,
     "task": false
    }
   },
   "outputs": [],
   "source": [
    "# Check the getters are correct:\n",
    "assert_equal(Fraction(-1,7).get_num(), -1)\n",
    "assert_equal(Fraction(-1,7).get_den(), 7)"
   ]
  },
  {
   "cell_type": "markdown",
   "metadata": {
    "collapsed": false,
    "deletable": false,
    "editable": false,
    "nbgrader": {
     "grade": false,
     "grade_id": "5f2000",
     "locked": true,
     "schema_version": 3,
     "solution": false,
     "task": false
    }
   },
   "source": [
    "### Powers\n",
    "\n",
    "Add the method `__pow__(p)` where `f1**3` invokes `f1.__pow__(3)` and cubes the fraction `f1`.  And recall what `f1**-1` should produce."
   ]
  },
  {
   "cell_type": "code",
   "execution_count": 8,
   "metadata": {
    "collapsed": false,
    "deletable": false,
    "editable": false,
    "nbgrader": {
     "grade": true,
     "grade_id": "21ce42",
     "locked": true,
     "points": 5,
     "schema_version": 3,
     "solution": false,
     "task": false
    }
   },
   "outputs": [],
   "source": [
    "# Check that __pow__() is  correct:\n",
    "assert_equal(Fraction(-1,7)**2, Fraction(1,49))\n",
    "assert_equal(Fraction(-2,7)**3, Fraction(-8,343))\n",
    "assert_equal(Fraction(-1,7)**-1, Fraction(-7,1))\n",
    "assert_equal(Fraction(-2,7)**(-2), Fraction(49,4))"
   ]
  },
  {
   "cell_type": "markdown",
   "metadata": {
    "collapsed": false,
    "deletable": false,
    "editable": false,
    "nbgrader": {
     "grade": false,
     "grade_id": "57079f",
     "locked": true,
     "schema_version": 3,
     "solution": false,
     "task": false
    }
   },
   "source": [
    "### Float conversion\n",
    "\n",
    "Add the method `__float__()` where `float(f1)` invokes `f1.__float__()` and returns the decimal value of `f1`."
   ]
  },
  {
   "cell_type": "code",
   "execution_count": 9,
   "metadata": {
    "collapsed": false,
    "deletable": false,
    "editable": false,
    "nbgrader": {
     "grade": true,
     "grade_id": "48d45a",
     "locked": true,
     "points": 5,
     "schema_version": 3,
     "solution": false,
     "task": false
    }
   },
   "outputs": [],
   "source": [
    "# Check that __float__() is  correct:\n",
    "assert_equal(float(Fraction(-1,2)), -0.5)\n",
    "assert_equal(float(Fraction(2,5)), 0.4)\n",
    "             "
   ]
  },
  {
   "cell_type": "markdown",
   "metadata": {
    "collapsed": false,
    "deletable": false,
    "editable": false,
    "nbgrader": {
     "grade": false,
     "grade_id": "165bf5",
     "locked": true,
     "schema_version": 3,
     "solution": false,
     "task": false
    }
   },
   "source": [
    "### Default Fraction\n",
    "\n",
    "Modify the `Fraction` class constructor so that the default fraction is $\\frac{1}{1}$."
   ]
  },
  {
   "cell_type": "code",
   "execution_count": 10,
   "metadata": {
    "collapsed": false,
    "deletable": false,
    "editable": false,
    "nbgrader": {
     "grade": true,
     "grade_id": "0f3caa",
     "locked": true,
     "points": 5,
     "schema_version": 3,
     "solution": false,
     "task": false
    }
   },
   "outputs": [],
   "source": [
    "# Check that the constructor modification is  correct:\n",
    "assert_equal(Fraction(), Fraction(1,1))"
   ]
  },
  {
   "cell_type": "markdown",
   "metadata": {
    "collapsed": false,
    "deletable": false,
    "editable": false,
    "nbgrader": {
     "grade": false,
     "grade_id": "f84649",
     "locked": true,
     "schema_version": 3,
     "solution": false,
     "task": false
    }
   },
   "source": [
    "### The formal string representation\n",
    "\n",
    "Every Python object has two different string representations: a *formal* string representation and an *informal* string representation. The function `str()` that we all know and love returns the *informal* string representation. To see the formal string representation you can use the function `repr()`. For lots of objects the formal and informal string representations are identical. However, you already know examples where these functions return different strings. Run the following cell to see that `str(\"cat\")` and `repr(\"cat\")` return different values:"
   ]
  },
  {
   "cell_type": "code",
   "execution_count": 11,
   "metadata": {
    "collapsed": false,
    "deletable": false,
    "editable": false,
    "nbgrader": {
     "grade": false,
     "grade_id": "16ee80",
     "locked": true,
     "schema_version": 3,
     "solution": false,
     "task": false
    }
   },
   "outputs": [
    {
     "name": "stdout",
     "output_type": "stream",
     "text": [
      "cat\n",
      "'cat'\n",
      "2023-09-25 05:44:42.274659\n",
      "datetime.datetime(2023, 9, 25, 5, 44, 42, 274659)\n"
     ]
    }
   ],
   "source": [
    "# Run this cell!\n",
    "print(str(\"cat\"))\n",
    "print(repr(\"cat\"))\n",
    "\n",
    "import datetime\n",
    "\n",
    "time = datetime.datetime.now()\n",
    "print(str(time))\n",
    "print(repr(time))"
   ]
  },
  {
   "cell_type": "markdown",
   "metadata": {
    "collapsed": false,
    "deletable": false,
    "editable": false,
    "nbgrader": {
     "grade": false,
     "grade_id": "bc2f6e",
     "locked": true,
     "schema_version": 3,
     "solution": false,
     "task": false
    }
   },
   "source": [
    "The expression `str(\"cat\")` returns the string `\"cat\"` which has 3 characters `c`, `a`, `t`. On the other hand, `repr(\"cat\")` returns the string `\"'cat'\"` which has 5 characters `'`, `c`, `a`, `t`, `'` (the single quotes are characters in the return value). For another example, try running the following:\n",
    "\n",
    "```python\n",
    "import datetime\n",
    "\n",
    "time = datetime.datetime.now()\n",
    "print(str(time))\n",
    "print(repr(time))\n",
    "```\n",
    "\n",
    "\n",
    "The purpose of the `str()` function is to produce a (sometime informal) reader-friendly string representation of the object. On the other hand, a good rule of practice is to have `repr()` always return the string that you type when you want to instantiate the object (which agrees with the examples above).\n",
    "\n",
    "The `repr()` function is called behind the scenes at various times when you are working with an object. For example, if we print a list, the result shows the list of formal string representations of objects. You can see this by running the following:\n",
    "\n",
    "```python\n",
    "import datetime\n",
    "\n",
    "time = datetime.datetime.now()\n",
    "\n",
    "stuff = [1/2, \"cat\", time]\n",
    "print(stuff)\n",
    "```\n",
    "\n",
    "Because of this, it is a good habit to always implement the `__repr__()` method of a class.\n",
    "\n",
    "Run the following cell to see the default formal representation of a Fraction:"
   ]
  },
  {
   "cell_type": "code",
   "execution_count": 12,
   "metadata": {
    "collapsed": false,
    "deletable": false,
    "editable": false,
    "nbgrader": {
     "grade": false,
     "grade_id": "f1b5c3",
     "locked": true,
     "schema_version": 3,
     "solution": false,
     "task": false
    }
   },
   "outputs": [
    {
     "name": "stdout",
     "output_type": "stream",
     "text": [
      "Fraction(13, 8)\n"
     ]
    }
   ],
   "source": [
    "print(repr(Fraction(13, 8)))"
   ]
  },
  {
   "cell_type": "markdown",
   "metadata": {
    "collapsed": false,
    "deletable": false,
    "editable": false,
    "nbgrader": {
     "grade": false,
     "grade_id": "52fb44",
     "locked": true,
     "schema_version": 3,
     "solution": false,
     "task": false
    }
   },
   "source": [
    "Implement the `__repr__()` method in your `Fraction` class above so that it returns the string you type to intantiate the fraction object. For example, if the object corresponds to the fraction $\\frac{13}{8}$ then the `__repr__()` method should return the string `\"Fraction(13, 8)\"`. When you're done, run the cell above to see the difference."
   ]
  },
  {
   "cell_type": "code",
   "execution_count": 13,
   "metadata": {
    "collapsed": false,
    "deletable": false,
    "editable": false,
    "nbgrader": {
     "grade": true,
     "grade_id": "6ad74b",
     "locked": true,
     "points": 5,
     "schema_version": 3,
     "solution": false,
     "task": false
    }
   },
   "outputs": [],
   "source": [
    "# Run this cell to check repr() for the Fraction class\n",
    "from nose.tools import assert_equal\n",
    "assert_equal(repr(Fraction(13, 5)), \"Fraction(13, 5)\")\n",
    "assert_equal(repr(Fraction(22, 11)), \"Fraction(22, 11)\")\n"
   ]
  },
  {
   "cell_type": "markdown",
   "metadata": {
    "collapsed": false,
    "deletable": false,
    "editable": false,
    "nbgrader": {
     "grade": false,
     "grade_id": "8845cb",
     "locked": true,
     "schema_version": 3,
     "solution": false,
     "task": false
    }
   },
   "source": [
    "### Adding Exceptions\n",
    "\n",
    "Recall in Activity 04 we considered exceptions.  In Python you may also throw (or raise) an exception if a condition arises.  For example, run the following code."
   ]
  },
  {
   "cell_type": "code",
   "execution_count": 14,
   "metadata": {
    "collapsed": false,
    "deletable": false,
    "editable": false,
    "nbgrader": {
     "grade": false,
     "grade_id": "aa8922",
     "locked": true,
     "schema_version": 3,
     "solution": false,
     "task": false
    }
   },
   "outputs": [
    {
     "name": "stdout",
     "output_type": "stream",
     "text": [
      "5\n",
      "6\n",
      "7\n",
      "8\n"
     ]
    },
    {
     "ename": "TypeError",
     "evalue": "Only integers allowed",
     "output_type": "error",
     "traceback": [
      "\u001b[0;31m---------------------------------------------------------------------------\u001b[0m",
      "\u001b[0;31mTypeError\u001b[0m                                 Traceback (most recent call last)",
      "\u001b[0;32m/tmp/ipykernel_2220/2933208422.py\u001b[0m in \u001b[0;36m<cell line: 3>\u001b[0;34m()\u001b[0m\n\u001b[1;32m      3\u001b[0m \u001b[0;32mfor\u001b[0m \u001b[0mitem\u001b[0m \u001b[0;32min\u001b[0m \u001b[0mlist\u001b[0m\u001b[0;34m:\u001b[0m\u001b[0;34m\u001b[0m\u001b[0;34m\u001b[0m\u001b[0m\n\u001b[1;32m      4\u001b[0m     \u001b[0;32mif\u001b[0m \u001b[0mtype\u001b[0m\u001b[0;34m(\u001b[0m\u001b[0mitem\u001b[0m\u001b[0;34m)\u001b[0m \u001b[0;32mis\u001b[0m \u001b[0;32mnot\u001b[0m \u001b[0mint\u001b[0m\u001b[0;34m:\u001b[0m\u001b[0;34m\u001b[0m\u001b[0;34m\u001b[0m\u001b[0m\n\u001b[0;32m----> 5\u001b[0;31m         \u001b[0;32mraise\u001b[0m \u001b[0mTypeError\u001b[0m\u001b[0;34m(\u001b[0m\u001b[0;34m\"Only integers allowed\"\u001b[0m\u001b[0;34m)\u001b[0m\u001b[0;34m\u001b[0m\u001b[0;34m\u001b[0m\u001b[0m\n\u001b[0m\u001b[1;32m      6\u001b[0m     \u001b[0mprint\u001b[0m\u001b[0;34m(\u001b[0m\u001b[0mitem\u001b[0m\u001b[0;34m)\u001b[0m\u001b[0;34m\u001b[0m\u001b[0;34m\u001b[0m\u001b[0m\n",
      "\u001b[0;31mTypeError\u001b[0m: Only integers allowed"
     ]
    }
   ],
   "source": [
    "list = [5,6,7,8,'five', 10]\n",
    "\n",
    "for item in list:\n",
    "    if type(item) is not int:\n",
    "        raise TypeError(\"Only integers allowed\")\n",
    "    print(item)\n",
    "\n"
   ]
  },
  {
   "cell_type": "markdown",
   "metadata": {
    "collapsed": false,
    "deletable": false,
    "editable": false,
    "nbgrader": {
     "grade": false,
     "grade_id": "4520b6",
     "locked": true,
     "schema_version": 3,
     "solution": false,
     "task": false
    }
   },
   "source": [
    "Modify the `Fraction` class constructor so that it checks to make sure that the numerator and denominator are both integers. If either is not an integer, the constructor should raise an appropriate exception with exception string \"Fractions require integer values\"."
   ]
  },
  {
   "cell_type": "code",
   "execution_count": 15,
   "metadata": {
    "collapsed": false,
    "deletable": false,
    "editable": false,
    "nbgrader": {
     "grade": true,
     "grade_id": "d5f5a0",
     "locked": true,
     "points": 5,
     "schema_version": 3,
     "solution": false,
     "task": false
    }
   },
   "outputs": [],
   "source": [
    "# Check that the constructor modification is correct:\n",
    "x = 5\n",
    "y = 'x'\n",
    "try:\n",
    "    Fraction(x,y)\n",
    "except TypeError as e:\n",
    "    if str(e) == \"Fractions require integer values\":\n",
    "        pass\n",
    "    else:\n",
    "        raise AssertionError(\"Did not provide correct error string message\")  \n",
    "else:\n",
    "    raise AssertionError(\"Did not provide correct error\")\n",
    "try:\n",
    "    Fraction(x,x)\n",
    "except TypeError:\n",
    "    raise AssertionError(\"No error should be thrown\")\n",
    "\n",
    "    "
   ]
  },
  {
   "cell_type": "markdown",
   "metadata": {
    "collapsed": false,
    "deletable": false,
    "editable": false,
    "nbgrader": {
     "grade": false,
     "grade_id": "cd37fe",
     "locked": true,
     "schema_version": 3,
     "solution": false,
     "task": false
    }
   },
   "source": [
    "Modify the `Fraction` class constructor so that it checks to make sure that the denominator is not zero. If the denominator is zero, the constructor should raise an appropriate exception with with exception string \"Fraction denominators can not be zero\"."
   ]
  },
  {
   "cell_type": "code",
   "execution_count": 16,
   "metadata": {
    "collapsed": false,
    "deletable": false,
    "editable": false,
    "nbgrader": {
     "grade": true,
     "grade_id": "794f9e",
     "locked": true,
     "points": 5,
     "schema_version": 3,
     "solution": false,
     "task": false
    }
   },
   "outputs": [],
   "source": [
    "# Check that the constructor modification is correct:\n",
    "x = 5\n",
    "y = 0\n",
    "try:\n",
    "    Fraction(x,y)\n",
    "except ZeroDivisionError as e:\n",
    "    if str(e) == \"Fraction denominators can not be zero\":\n",
    "        pass\n",
    "    else:\n",
    "        raise AssertionError(\"Did not provide correct error string message\")  \n",
    "else:\n",
    "    raise AssertionError(\"No error was thrown\")\n",
    "try:\n",
    "    Fraction(y,x)\n",
    "except TypeError or ZeroDivisionError:\n",
    "    raise AssertionError(\"No error should be thrown\")"
   ]
  },
  {
   "cell_type": "markdown",
   "metadata": {
    "collapsed": false,
    "deletable": false,
    "editable": false,
    "nbgrader": {
     "grade": false,
     "grade_id": "15adf7",
     "locked": true,
     "schema_version": 3,
     "solution": false,
     "task": false
    }
   },
   "source": [
    "## Exercise 2: Mediants\n",
    "\n",
    "In number theory, given two reduced fractions, $\\frac{a}{b}$ and $\\frac{c}{d}$, the *mediant* of the two fractions is defined to be the fraction $\\frac{a+c}{b+d}$, also in reduced form.  For example, the mediant of $\\frac{1}{5}$ and $\\frac{1}{3}$ is $$\\text{mediant}\\left(\\frac{1}{5}, \\frac{1}{3}\\right)=\\frac{1+1}{5+3} = \\frac{2}{8} = \\frac{1}{4}.$$\n",
    "\n",
    "Write a function `mediant(f1,f2)` that returns the mediant of two given fractions `f1` and `f2`.  Note that `mediant` is not a method of the `Fraction` class, but rather an external function whose parameters are both ``Fraction`` objects. Of course, you can (and should) use these ``Fraction`` objects' methods in your implementation of the mediant function."
   ]
  },
  {
   "cell_type": "code",
   "execution_count": 17,
   "metadata": {
    "collapsed": false,
    "deletable": false,
    "nbgrader": {
     "checksum": "c744f93c8791910a28681c4f9a3545c9",
     "grade": false,
     "grade_id": "8ab390",
     "locked": false,
     "schema_version": 3,
     "solution": true,
     "task": false
    }
   },
   "outputs": [],
   "source": [
    "def mediant(f1, f2):  \n",
    "    \"\"\"\n",
    "    Computes the mediant of the fractions f1 and f2.\n",
    "    Returns the mediant as a reduced fraction. \n",
    "    Assumes: f1 and f2 are in reduced form.\n",
    "    \"\"\"\n",
    "    f3 =  Fraction(f1.num + f2.num, f1.den + f2.den)\n",
    "    f3.reduce()\n",
    "    return  f3\n",
    "    "
   ]
  },
  {
   "cell_type": "code",
   "execution_count": 18,
   "metadata": {
    "collapsed": false,
    "deletable": false,
    "editable": false,
    "nbgrader": {
     "grade": true,
     "grade_id": "e5c3d7",
     "locked": true,
     "points": 10,
     "schema_version": 3,
     "solution": false,
     "task": false
    }
   },
   "outputs": [],
   "source": [
    "# Check that the mediant(f1, f2) is  correct:\n",
    "assert_equal(mediant(Fraction(1,3), Fraction(1,5)), Fraction(1,4))\n",
    "\n",
    "f3 = mediant(Fraction(2,3), Fraction(4,5))\n",
    "assert_equal(f3.get_num(), 3)\n"
   ]
  },
  {
   "cell_type": "markdown",
   "metadata": {
    "collapsed": false,
    "deletable": false,
    "editable": false,
    "nbgrader": {
     "grade": false,
     "grade_id": "508b97",
     "locked": true,
     "schema_version": 3,
     "solution": false,
     "task": false
    }
   },
   "source": [
    "## Exercise 3: Mixed Fractions\n",
    "\n",
    "Recall that improper fractions  can be written as *mixed fraction* (AKA a mixed number). For example, the fraction $\\frac{13}{5}$ can be written as the mixed fraction $2\\frac{3}{5}$. Each mixed fraction has a *whole part* and a *fractional part*. For example, $2\\frac{3}{5}$ has whole part 2 and fractional part $\\frac{3}{5}$. \n",
    "\n",
    "The goal of this exercise is to write a class `MixedFraction` that is a subclass of the `Fraction` class. The **only** difference between a `MixedFraction` and a `Fraction` are their string representations. "
   ]
  },
  {
   "cell_type": "markdown",
   "metadata": {
    "collapsed": false,
    "deletable": false,
    "editable": false,
    "nbgrader": {
     "grade": false,
     "grade_id": "e9279b",
     "locked": true,
     "schema_version": 3,
     "solution": false,
     "task": false
    }
   },
   "source": [
    "### Implementing repr()\n",
    "\n",
    "The formal string representation of a `MixedFraction` object is pretty straight forward. If you call `repr(x)` when `x` is, say, a mixed fraction corresponding to the fraction $\\frac{13}{5}$, the call should return the string ``\"MixedFraction(13, 5)\"``.  More generally, the `__repr__` method should return the string that you would type to construct the object.\n",
    "\n",
    "Implement the `MixedFraction` class with the appropriate `__repr__` method below. Don't forget that `MixedFraction` is a subclass of the `Fraction` class. "
   ]
  },
  {
   "cell_type": "code",
   "execution_count": 30,
   "metadata": {
    "collapsed": false,
    "deletable": false,
    "nbgrader": {
     "checksum": "5c5de6919c6da91f7120fd66638a0a97",
     "grade": false,
     "grade_id": "b2aa74",
     "locked": false,
     "schema_version": 3,
     "solution": true,
     "task": false
    }
   },
   "outputs": [
    {
     "name": "stdout",
     "output_type": "stream",
     "text": [
      "2\n",
      "-4\n"
     ]
    }
   ],
   "source": [
    "# Write your implementation of the MixedFraction class here:\n",
    "\n",
    "\n",
    "class MixedFraction(Fraction):\n",
    "     \n",
    "    def __repr__(self):\n",
    "        return f\"MixedFraction({self.num}, {self.den})\"\n",
    "    \n",
    "    def __str__(self):\n",
    "        mf = MixedFraction(self.num, self.den)\n",
    "        mf.reduce()\n",
    "        mf_num= mf.get_num()\n",
    "        mf_den = mf.get_den()\n",
    "        whole_part = abs(mf_num) // abs(mf_den)\n",
    "\n",
    "        new_num = abs(mf_num) % abs(mf_den)\n",
    "        new_den = abs(mf_den)\n",
    "        frac_part = Fraction(new_num, new_den)\n",
    "        if new_num == 0 :\n",
    "            if mf_num < 0 or mf_den  < 0:\n",
    "                return f\"-{whole_part}\"\n",
    "            else:\n",
    "                return f\"{whole_part}\"\n",
    "        elif whole_part == 0:\n",
    "            if mf_num < 0 or mf_den  < 0:\n",
    "                return f\"-{frac_part}\"\n",
    "            else:\n",
    "                return f\"{frac_part}\"\n",
    "\n",
    "      \n",
    "        else:\n",
    "            if mf_num < 0 or mf_den  < 0:\n",
    "                return f\"-{whole_part} {frac_part}\"\n",
    "            else:\n",
    "                return f\"{whole_part} {frac_part}\"\n",
    "\n",
    "print(2%3)        \n",
    "print(-17//5)"
   ]
  },
  {
   "cell_type": "code",
   "execution_count": 20,
   "metadata": {
    "collapsed": false,
    "deletable": false,
    "editable": false,
    "nbgrader": {
     "grade": true,
     "grade_id": "119580",
     "locked": true,
     "points": 5,
     "schema_version": 3,
     "solution": false,
     "task": false
    }
   },
   "outputs": [],
   "source": [
    "# Run this cell to check repr() for the MixedFraction class\n",
    "from nose.tools import assert_equal\n",
    "assert_equal(repr(MixedFraction(13, 5)), \"MixedFraction(13, 5)\")\n",
    "assert_equal(repr(MixedFraction(22, 11)), \"MixedFraction(22, 11)\")\n"
   ]
  },
  {
   "cell_type": "code",
   "execution_count": null,
   "metadata": {
    "collapsed": false
   },
   "outputs": [],
   "source": []
  },
  {
   "cell_type": "markdown",
   "metadata": {
    "collapsed": false,
    "deletable": false,
    "editable": false,
    "nbgrader": {
     "grade": false,
     "grade_id": "728a85",
     "locked": true,
     "schema_version": 3,
     "solution": false,
     "task": false
    }
   },
   "source": [
    "### Implementing str()\n",
    "\n",
    "The informal string representation of a `MixedFraction` object should give its whole part and fractional part, separated by a space. \n",
    "\n",
    "For example, if  `x = MixedFraction(13, 5)` then `str(x)` should be `2 3/5`. Here are some additional examples and details:\n",
    "\n",
    "* The mixed fraction of $\\frac{10}{7}$ is $1\\frac{3}{7}$.\n",
    "* The fractional part of a mixed fraction should always be reduced. For example, the mixed fraction of $\\frac{55}{10}$ should be $5\\frac{1}{2}$. \n",
    "* If the fractional part is 0, you should only show the whole part. For example, the mixed fraction of $\\frac{12}{3}$ should be $4$. Similarly the mixed fraction of $\\frac{0}{23}$ is $0$. \n",
    "* If the whole part is 0, you should only show the fractional part. For example, the mixed fraction of $\\frac{2}{3}$ is itself.\n",
    "* The mixed fraction of a negative fraction is obtained by placing a negative sign to the left of the mixed fraction of its absolute value. For example, the mixed fraction of $\\frac{-15}{4}$ is $-3\\frac{3}{4}$. \n",
    "\n",
    "Implement the `__str__` method  **in the cell above** where you wrote your `MixedFraction` class. Run the cell below to test your answer.\n"
   ]
  },
  {
   "cell_type": "code",
   "execution_count": 29,
   "metadata": {
    "collapsed": false,
    "deletable": false,
    "editable": false,
    "nbgrader": {
     "grade": true,
     "grade_id": "ea057a",
     "locked": true,
     "points": 15,
     "schema_version": 3,
     "solution": false,
     "task": false
    }
   },
   "outputs": [],
   "source": [
    "# Run this cell to check str() for the MixedFraction class\n",
    "from nose.tools import assert_equal\n",
    "assert_equal(str(MixedFraction(13, 5)), \"2 3/5\")\n",
    "assert_equal(str(MixedFraction(0, 5)), \"0\")\n",
    "assert_equal(str(MixedFraction(22, 10)), \"2 1/5\")\n",
    "assert_equal(str(MixedFraction(-13, 5)), \"-2 3/5\")\n",
    "assert_equal(str(MixedFraction(-22, 10)), \"-2 1/5\")\n",
    "assert_equal(str(MixedFraction(22, 11)), \"2\")\n",
    "assert_equal(str(MixedFraction(-22, 11)), \"-2\")\n",
    "assert_equal(str(MixedFraction(2, 5)), \"2/5\")\n",
    "assert_equal(str(MixedFraction(-2, 5)), \"-2/5\")\n",
    "assert_equal(MixedFraction(22, 10).num, 22)\n",
    "assert_equal(MixedFraction(22, 10).den, 10)\n",
    "assert_equal(MixedFraction(-14, 7).num, -14)\n",
    "assert_equal(MixedFraction(-14, 7).den, 7)\n",
    "\n"
   ]
  },
  {
   "cell_type": "code",
   "execution_count": null,
   "metadata": {
    "collapsed": false
   },
   "outputs": [],
   "source": []
  },
  {
   "cell_type": "code",
   "execution_count": null,
   "metadata": {
    "collapsed": false
   },
   "outputs": [],
   "source": []
  },
  {
   "cell_type": "code",
   "execution_count": null,
   "metadata": {
    "collapsed": false
   },
   "outputs": [],
   "source": []
  }
 ],
 "metadata": {
  "kernelspec": {
   "argv": [
    "/usr/bin/python3",
    "-m",
    "ipykernel",
    "--HistoryManager.enabled=False",
    "--matplotlib=inline",
    "-c",
    "%config InlineBackend.figure_formats = set(['retina'])\nimport matplotlib; matplotlib.rcParams['figure.figsize'] = (12, 7)",
    "-f",
    "{connection_file}"
   ],
   "display_name": "Python 3 (system-wide)",
   "env": {},
   "language": "python",
   "metadata": {
    "cocalc": {
     "description": "Python 3 programming language",
     "priority": 100,
     "url": "https://www.python.org/"
    }
   },
   "name": "python3",
   "resource_dir": "/ext/jupyter/kernels/python3"
  },
  "language_info": {
   "codemirror_mode": {
    "name": "ipython",
    "version": 3
   },
   "file_extension": ".py",
   "mimetype": "text/x-python",
   "name": "python",
   "nbconvert_exporter": "python",
   "pygments_lexer": "ipython3",
   "version": "3.10.12"
  },
  "nbgrader": {
   "__altered": false,
   "__hash": 788231169,
   "_root": {
    "entries": [
     [
      "size",
      6
     ],
     [
      "_root",
      {
       "entries": [
        [
         "size",
         6
        ],
        [
         "_root",
         {
          "entries": [
           [
            "size",
            6
           ],
           [
            "_root",
            {
             "entries": [
              [
               "size",
               5
              ],
              [
               "_root",
               {
                "entries": [
                 [
                  "size",
                  6
                 ],
                 [
                  "_root",
                  {
                   "entries": [
                    [
                     "size",
                     6
                    ],
                    [
                     "_root",
                     {
                      "entries": [
                       [
                        "size",
                        1
                       ],
                       [
                        "_root",
                        {
                         "entries": [
                          [
                           "cocalc_minimal_stubs",
                           true
                          ]
                         ],
                         "ownerID": {}
                        }
                       ],
                       [
                        "__ownerID",
                        null
                       ],
                       [
                        "__hash",
                        912286151
                       ],
                       [
                        "__altered",
                        false
                       ],
                       [
                        "cocalc_minimal_stubs",
                        true
                       ]
                      ],
                      "ownerID": {}
                     }
                    ],
                    [
                     "__ownerID",
                     null
                    ],
                    [
                     "__hash",
                     853781301
                    ],
                    [
                     "__altered",
                     false
                    ],
                    [
                     "cocalc_minimal_stubs",
                     true
                    ]
                   ],
                   "ownerID": {}
                  }
                 ],
                 [
                  "__hash",
                  615395691
                 ],
                 [
                  "__altered",
                  false
                 ],
                 [
                  "cocalc_minimal_stubs",
                  true
                 ]
                ],
                "ownerID": {}
               }
              ],
              [
               "__ownerID",
               null
              ],
              [
               "__hash",
               482977771
              ],
              [
               "__altered",
               false
              ],
              [
               "cocalc_minimal_stubs",
               true
              ]
             ],
             "ownerID": {}
            }
           ],
           [
            "__ownerID",
            null
           ],
           [
            "__hash",
            -523421519
           ],
           [
            "__altered",
            false
           ],
           [
            "cocalc_minimal_stubs",
            true
           ]
          ],
          "ownerID": {}
         }
        ],
        [
         "__ownerID",
         null
        ],
        [
         "__hash",
         28963905
        ],
        [
         "__altered",
         false
        ],
        [
         "cocalc_minimal_stubs",
         true
        ]
       ],
       "ownerID": {}
      }
     ],
     [
      "__hash",
      -1008119928
     ],
     [
      "__altered",
      false
     ],
     [
      "cocalc_minimal_stubs",
      true
     ]
    ],
    "ownerID": {}
   },
   "cocalc_minimal_stubs": true,
   "size": 5
  }
 },
 "nbformat": 4,
 "nbformat_minor": 4
}
