{
 "cells": [
  {
   "cell_type": "markdown",
   "metadata": {
    "collapsed": false,
    "deletable": false,
    "editable": false,
    "nbgrader": {
     "grade": false,
     "grade_id": "ae30bc",
     "locked": true,
     "schema_version": 3,
     "solution": false,
     "task": false
    }
   },
   "source": [
    "# Homework Assignment 6\n",
    "\n",
    "Complete the following exercises. When you are finished, double click on the cell below and type your full name (as a comment) to indicate that **you completed all exercises with academic integrity**. "
   ]
  },
  {
   "cell_type": "code",
   "execution_count": 1,
   "metadata": {
    "collapsed": true,
    "deletable": false,
    "nbgrader": {
     "checksum": "db3e3af2618b434a87fc7be17346050a",
     "grade": true,
     "grade_id": "96ec5c",
     "locked": false,
     "points": 1,
     "schema_version": 3,
     "solution": true,
     "task": false
    }
   },
   "outputs": [],
   "source": [
    "#Rakeb Abraham Jebessa\n"
   ]
  },
  {
   "cell_type": "code",
   "execution_count": null,
   "metadata": {
    "collapsed": false
   },
   "outputs": [],
   "source": []
  },
  {
   "cell_type": "markdown",
   "metadata": {
    "collapsed": false,
    "deletable": false,
    "editable": false,
    "nbgrader": {
     "grade": false,
     "grade_id": "d55b16",
     "locked": true,
     "schema_version": 3,
     "solution": false,
     "task": false
    }
   },
   "source": [
    "## Exercise 1: Logarithmic Time  Recursive Binary Search\n",
    "The goal of this exercise is to implement a recursive binary search with logarithmic running time.\n",
    "\n",
    "\n",
    "### Step 1: Review Binary Search algorithms from Activity 27\n",
    "Recall from Activity 27, we traced the below versions of the binary search.  The first version uses the indices `first, last` and `midpoint.`  The second uses recursion and slicing."
   ]
  },
  {
   "cell_type": "code",
   "execution_count": 2,
   "metadata": {
    "collapsed": false
   },
   "outputs": [],
   "source": [
    "#Version 1\n",
    "def binary_search(a_list, item):\n",
    "    first = 0\n",
    "    last = len(a_list) - 1\n",
    "\n",
    "    while first <= last:\n",
    "        midpoint = (first + last) // 2\n",
    "        if a_list[midpoint] == item:\n",
    "            return True\n",
    "        elif item < a_list[midpoint]:\n",
    "            last = midpoint - 1\n",
    "        else:\n",
    "            first = midpoint + 1\n",
    "\n",
    "    return False\n",
    "\n",
    "#Version 2\n",
    "def binary_search_rec(a_list, item):\n",
    "    if len(a_list) == 0:\n",
    "        return False\n",
    "    midpoint = len(a_list) // 2\n",
    "    if a_list[midpoint] == item:\n",
    "        return True\n",
    "    elif item < a_list[midpoint]:\n",
    "        return binary_search_rec(a_list[:midpoint], item)\n",
    "    else:\n",
    "        return binary_search_rec(a_list[midpoint+1:], item)"
   ]
  },
  {
   "cell_type": "markdown",
   "metadata": {
    "collapsed": false,
    "deletable": false,
    "editable": false,
    "nbgrader": {
     "grade": false,
     "grade_id": "2bbe14",
     "locked": true,
     "schema_version": 3,
     "solution": false,
     "task": false
    }
   },
   "source": [
    "In Version 2, note the recursive call \n",
    "```Python\n",
    "binary_search_rec(a_list[:midpoint], item)\n",
    "```\n",
    "uses the slicing operator to create the left half of the list that is then passed to the next invocation (similarly for the right half as well).  The analysis in the reading of the performance time of the recursive binary search assumed that slicing takes constant time.  However, in Python slicing is actually $O(k)$, where $k$ is the length of the slice.  This means that the recursive binary search using slicing will not perform in strict logarithmic time. This can be remedied by passing the list along with the starting and ending indices.\n",
    "\n",
    "### Step 2: Binary Search using Recursion without Slicing\n",
    "\n",
    "In the cell below, modify the ``binary_search_rec()`` function to get a binary search using recursion without the slice operator. You will need to pass the list along with the starting and ending index values for the sublist. Note that the indices can be calculated as we did in Version 1.  \n",
    "\n",
    "**To earn credit, you must write a RECURSIVE function that does NOT use slicing.**"
   ]
  },
  {
   "cell_type": "code",
   "execution_count": 3,
   "metadata": {
    "collapsed": false,
    "deletable": false,
    "nbgrader": {
     "checksum": "1d3cba3aaee6680175819334c408eb0d",
     "grade": true,
     "grade_id": "508081",
     "locked": false,
     "points": 10,
     "remove": false,
     "schema_version": 3,
     "solution": true,
     "task": false
    }
   },
   "outputs": [],
   "source": [
    "def binary_search_rec_noslice(a_list, item, first=None, last=None):\n",
    "    \"\"\"\n",
    "    Return True if the given `item` is in the given slice from `first` to `last` (inclusive) of the list `a_list`. \n",
    "    If called without values for `first` and `last`, searches the entire list `a_list`. \n",
    "    Otherwise return False.\n",
    "    \"\"\"\n",
    "\n",
    "    if first is None:\n",
    "        first = 0\n",
    "    if last is None:\n",
    "        last = len(a_list)-1\n",
    "\n",
    "    if first> last:\n",
    "        return False\n",
    "\n",
    "    midpoint = (first + last) // 2\n",
    "\n",
    "    if a_list[midpoint] == item:\n",
    "        return True\n",
    "    elif item < a_list[midpoint]:\n",
    "        return binary_search_rec_noslice(a_list, item, first, midpoint-1)\n",
    "    else:\n",
    "        return binary_search_rec_noslice(a_list, item, midpoint + 1, last)"
   ]
  },
  {
   "cell_type": "code",
   "execution_count": 4,
   "metadata": {
    "collapsed": false,
    "deletable": false,
    "editable": false,
    "nbgrader": {
     "grade": true,
     "grade_id": "e256f6",
     "locked": true,
     "points": 5,
     "schema_version": 3,
     "solution": false,
     "task": false
    }
   },
   "outputs": [],
   "source": [
    "# Unit test for binary_search_rec_noslicesum_cubes\n",
    "# These tests will not check if your function is RECURSIVE with NO slicing. You need to TEST THAT YOURSELF!\n",
    "from nose.tools import assert_equal\n",
    "test_list = [1,2,3,4,5,9,8,7,6,0]\n",
    "assert_equal(binary_search_rec_noslice(test_list, 7, 0, len(test_list)-1), True)\n",
    "assert_equal(binary_search_rec_noslice(test_list, 17, 0, len(test_list)-1), False)\n",
    "assert_equal(binary_search_rec_noslice(test_list, 7,), True)\n",
    "assert_equal(binary_search_rec_noslice(test_list, 17), False)\n",
    "assert_equal(binary_search_rec_noslice([], 7), False)\n",
    "assert_equal(binary_search_rec_noslice([7], 7), True)\n",
    "assert_equal(binary_search_rec_noslice([7], 17), False)"
   ]
  },
  {
   "cell_type": "markdown",
   "metadata": {
    "collapsed": false,
    "deletable": false,
    "editable": false,
    "nbgrader": {
     "grade": false,
     "grade_id": "b4f70e",
     "locked": true,
     "schema_version": 3,
     "solution": false,
     "task": false
    }
   },
   "source": [
    "### Step 3: Benchmark Analysis of the 3 Binary Search Algorithms\n",
    "\n",
    "The goal of this exercise is to create  a plot illustrating the runtimes for the 3 binary search functions `binary_search`, `binary_search_rec`, and `binary_search_rec_noslice`. \n",
    "\n",
    "#### The Test Function\n",
    "\n",
    "Recall the `test_min` function from Activity 10 copied below."
   ]
  },
  {
   "cell_type": "code",
   "execution_count": 5,
   "metadata": {
    "collapsed": false,
    "deletable": false,
    "editable": false,
    "nbgrader": {
     "grade": false,
     "grade_id": "2ceac5",
     "locked": true,
     "schema_version": 3,
     "solution": false,
     "task": false
    }
   },
   "outputs": [],
   "source": [
    "import random, time\n",
    "def test_min(min_func, upper_bound, list_length, number_tries):\n",
    "    \"\"\"\n",
    "    Performs `number_tries` trials of the following experiment. For each trial,\n",
    "    the output of `min_func` is printed to the screen, along with the time the trial took.\n",
    "    Each trial will:\n",
    "        Generate a list of length `list_length` consisting of randomly chosen ints from\n",
    "        1 to `upper_bound` inclusive\n",
    "        Run `min_func` on the generated list\n",
    "    \"\"\"\n",
    "    times = []\n",
    "    for i in range(number_tries):\n",
    "        our_list = [random.randrange(1, upper_bound + 1) for _ in range(list_length)]\n",
    "        start = time.time()\n",
    "        our_min = min_func(our_list)\n",
    "        end = time.time()\n",
    "        microseconds = 10**6 * (end - start) # 1 sec = 10^6 microseconds\n",
    "        times.append(microseconds)\n",
    "        print(f\"Try {i+1:2d}: Min is {our_min:4d} required {microseconds:10.7f} microseconds\")\n",
    "    return times"
   ]
  },
  {
   "cell_type": "markdown",
   "metadata": {
    "collapsed": false,
    "deletable": false,
    "editable": false,
    "nbgrader": {
     "grade": false,
     "grade_id": "4cb330",
     "locked": true,
     "schema_version": 3,
     "solution": false,
     "task": false
    }
   },
   "source": [
    "In the below cell write a test function `test_binary_search` that will benchmark our binary search algorithms.\n",
    "\n",
    "* Copy and paste the body of the of the ``test_min()`` function below, and modify it so that it appropriately tests binary search functions:\n",
    "    * After generating the list, make sure to sort it in preparation for the binary search :). This should happen before starting the timer.\n",
    "    * After sorting, generate a random item to search for in the same range as the ints in the list. Again, this is before the timer starts. \n",
    "    * After starting the timer, modify the call to the `min_func` to test `search_funct`.  "
   ]
  },
  {
   "cell_type": "code",
   "execution_count": 6,
   "metadata": {
    "collapsed": false,
    "deletable": false,
    "nbgrader": {
     "checksum": "a665430f55c75b1bde86e3f22e39f60f",
     "grade": false,
     "grade_id": "817c20",
     "locked": false,
     "remove": false,
     "schema_version": 3,
     "solution": true,
     "task": false
    }
   },
   "outputs": [],
   "source": [
    "import random, time\n",
    "def test_binary_search(search_funct, upper_bound, list_length, number_tries):\n",
    "    \"\"\"\n",
    "    Performs `number_tries` trials of the following experiment. For each trial,\n",
    "    the output of `search_func` is printed to the screen, along with the time the trial took.\n",
    "    Each trial will:\n",
    "        Generate a list of length `list_length` consisting of randomly chosen ints from\n",
    "        1 to `upper_bound` inclusive and a random int in this ran\n",
    "        Run `search_func` on the generated list\n",
    "    \"\"\"\n",
    "    times = []\n",
    "    for i in range(number_tries):\n",
    "        our_list = [random.randrange(1, upper_bound + 1) for _ in range(list_length)]\n",
    "        our_list.sort()\n",
    "        search_target = random.choice(our_list)\n",
    "        start = time.time()\n",
    "        search_result = search_funct(our_list, search_target)\n",
    "        end = time.time()\n",
    "        microseconds = 10**6 * (end - start) # 1 sec = 10^6 microseconds\n",
    "        times.append(microseconds)\n",
    "        print(f\"Try {i+1:2d}: Search result for {search_target}: {search_result}, required {microseconds:10} microseconds\")\n",
    "    return times\n",
    "\n"
   ]
  },
  {
   "cell_type": "markdown",
   "metadata": {
    "collapsed": false,
    "deletable": false,
    "editable": false,
    "nbgrader": {
     "grade": false,
     "grade_id": "da04b7",
     "locked": true,
     "schema_version": 3,
     "solution": false,
     "task": false
    }
   },
   "source": [
    "The following cell applies the benchmarking test to ``binary_search()``.  Run this cell to test your benchmarking function."
   ]
  },
  {
   "cell_type": "code",
   "execution_count": 7,
   "metadata": {
    "collapsed": false,
    "deletable": false,
    "editable": false,
    "nbgrader": {
     "grade": false,
     "grade_id": "c57221",
     "locked": true,
     "schema_version": 3,
     "solution": false,
     "task": false
    }
   },
   "outputs": [
    {
     "name": "stdout",
     "output_type": "stream",
     "text": [
      "Try  1: Search result for 327869: True, required 14.30511474609375 microseconds\n"
     ]
    },
    {
     "name": "stdout",
     "output_type": "stream",
     "text": [
      "Try  2: Search result for 94096: True, required 14.30511474609375 microseconds\n"
     ]
    },
    {
     "name": "stdout",
     "output_type": "stream",
     "text": [
      "Try  3: Search result for 599389: True, required 15.020370483398438 microseconds\n"
     ]
    },
    {
     "name": "stdout",
     "output_type": "stream",
     "text": [
      "Try  4: Search result for 827614: True, required 12.39776611328125 microseconds\n"
     ]
    },
    {
     "name": "stdout",
     "output_type": "stream",
     "text": [
      "Try  5: Search result for 75228: True, required 11.920928955078125 microseconds\n"
     ]
    }
   ],
   "source": [
    "# Benchmarking binary_search() and storing the results of 5 tests in find_bin_search_times\n",
    "find_bin_search_times = test_binary_search(binary_search, 10**6, 10**6, 5)"
   ]
  },
  {
   "cell_type": "markdown",
   "metadata": {
    "collapsed": false,
    "deletable": false,
    "editable": false,
    "nbgrader": {
     "grade": false,
     "grade_id": "c0ebf0",
     "locked": true,
     "schema_version": 3,
     "solution": false,
     "task": false
    }
   },
   "source": [
    "Apply the benchmarking test to ``binary_search(), binary_search_rec()`` and `binary_search_rec_noslice()` below.  Test using random lists of size $10^6$ with integer values ranging up to $10^6$. Complete 10 trials in each case. Save the results to the lists  ``find_bin_search_times, find_bin_search_rec_times``, and `find_bin_search_rec_noslice_times` respectively."
   ]
  },
  {
   "cell_type": "code",
   "execution_count": 8,
   "metadata": {
    "collapsed": false,
    "deletable": false,
    "nbgrader": {
     "checksum": "13778553251a9e6c2a04576f30cae856",
     "grade": false,
     "grade_id": "122c0c",
     "locked": false,
     "remove": false,
     "schema_version": 3,
     "solution": true,
     "task": false
    }
   },
   "outputs": [
    {
     "name": "stdout",
     "output_type": "stream",
     "text": [
      "Try  1: Search result for 284936: True, required 13.113021850585938 microseconds\n"
     ]
    },
    {
     "name": "stdout",
     "output_type": "stream",
     "text": [
      "Try  2: Search result for 28932: True, required 10.49041748046875 microseconds\n"
     ]
    },
    {
     "name": "stdout",
     "output_type": "stream",
     "text": [
      "Try  3: Search result for 869467: True, required 10.728836059570312 microseconds\n"
     ]
    },
    {
     "name": "stdout",
     "output_type": "stream",
     "text": [
      "Try  4: Search result for 227821: True, required 15.974044799804688 microseconds\n"
     ]
    },
    {
     "name": "stdout",
     "output_type": "stream",
     "text": [
      "Try  5: Search result for 571941: True, required 11.682510375976562 microseconds\n"
     ]
    },
    {
     "name": "stdout",
     "output_type": "stream",
     "text": [
      "Try  6: Search result for 979110: True, required 11.444091796875 microseconds\n"
     ]
    },
    {
     "name": "stdout",
     "output_type": "stream",
     "text": [
      "Try  7: Search result for 501558: True, required 12.39776611328125 microseconds\n"
     ]
    },
    {
     "name": "stdout",
     "output_type": "stream",
     "text": [
      "Try  8: Search result for 593189: True, required 11.920928955078125 microseconds\n"
     ]
    },
    {
     "name": "stdout",
     "output_type": "stream",
     "text": [
      "Try  9: Search result for 187071: True, required 26.464462280273438 microseconds\n"
     ]
    },
    {
     "name": "stdout",
     "output_type": "stream",
     "text": [
      "Try 10: Search result for 27703: True, required 13.828277587890625 microseconds\n"
     ]
    },
    {
     "name": "stdout",
     "output_type": "stream",
     "text": [
      "Try  1: Search result for 989557: True, required 83608.62731933594 microseconds\n"
     ]
    },
    {
     "name": "stdout",
     "output_type": "stream",
     "text": [
      "Try  2: Search result for 33751: True, required 29108.047485351562 microseconds\n"
     ]
    },
    {
     "name": "stdout",
     "output_type": "stream",
     "text": [
      "Try  3: Search result for 985225: True, required 20018.577575683594 microseconds\n"
     ]
    },
    {
     "name": "stdout",
     "output_type": "stream",
     "text": [
      "Try  4: Search result for 638468: True, required 74401.3786315918 microseconds\n"
     ]
    },
    {
     "name": "stdout",
     "output_type": "stream",
     "text": [
      "Try  5: Search result for 413374: True, required 26065.349578857422 microseconds\n"
     ]
    },
    {
     "name": "stdout",
     "output_type": "stream",
     "text": [
      "Try  6: Search result for 864737: True, required 25593.51921081543 microseconds\n"
     ]
    },
    {
     "name": "stdout",
     "output_type": "stream",
     "text": [
      "Try  7: Search result for 663933: True, required 29752.492904663086 microseconds\n"
     ]
    },
    {
     "name": "stdout",
     "output_type": "stream",
     "text": [
      "Try  8: Search result for 543158: True, required 22221.32682800293 microseconds\n"
     ]
    },
    {
     "name": "stdout",
     "output_type": "stream",
     "text": [
      "Try  9: Search result for 630996: True, required 21785.259246826172 microseconds\n"
     ]
    },
    {
     "name": "stdout",
     "output_type": "stream",
     "text": [
      "Try 10: Search result for 957411: True, required 75906.51512145996 microseconds\n"
     ]
    },
    {
     "name": "stdout",
     "output_type": "stream",
     "text": [
      "Try  1: Search result for 765912: True, required 34.332275390625 microseconds\n"
     ]
    },
    {
     "name": "stdout",
     "output_type": "stream",
     "text": [
      "Try  2: Search result for 654950: True, required 17.404556274414062 microseconds\n"
     ]
    },
    {
     "name": "stdout",
     "output_type": "stream",
     "text": [
      "Try  3: Search result for 738453: True, required 28.133392333984375 microseconds\n"
     ]
    },
    {
     "name": "stdout",
     "output_type": "stream",
     "text": [
      "Try  4: Search result for 329708: True, required 24.080276489257812 microseconds\n"
     ]
    },
    {
     "name": "stdout",
     "output_type": "stream",
     "text": [
      "Try  5: Search result for 905822: True, required 17.404556274414062 microseconds\n"
     ]
    },
    {
     "name": "stdout",
     "output_type": "stream",
     "text": [
      "Try  6: Search result for 192414: True, required 31.709671020507812 microseconds\n"
     ]
    },
    {
     "name": "stdout",
     "output_type": "stream",
     "text": [
      "Try  7: Search result for 173754: True, required 15.974044799804688 microseconds\n"
     ]
    },
    {
     "name": "stdout",
     "output_type": "stream",
     "text": [
      "Try  8: Search result for 594794: True, required 24.318695068359375 microseconds\n"
     ]
    },
    {
     "name": "stdout",
     "output_type": "stream",
     "text": [
      "Try  9: Search result for 730590: True, required 23.84185791015625 microseconds\n"
     ]
    },
    {
     "name": "stdout",
     "output_type": "stream",
     "text": [
      "Try 10: Search result for 272993: True, required 18.358230590820312 microseconds\n"
     ]
    }
   ],
   "source": [
    "#Benchmarking binary_search(), binary_search_rec() and binary_search_rec_noslice() and storing the results of 10 tests to  find_bin_search_times, find_bin_search_rec_times, and find_bin_search_rec_noslice_times respectively\n",
    "find_bin_search_times = test_binary_search( binary_search, 10**6, 10**6, 10)\n",
    "\n",
    "find_bin_search_rec_times = test_binary_search( binary_search_rec, 10**6, 10**6, 10)\n",
    "\n",
    "find_bin_search_rec_noslice_times = test_binary_search( binary_search_rec_noslice, 10**6, 10**6, 10)"
   ]
  },
  {
   "cell_type": "code",
   "execution_count": 9,
   "metadata": {
    "collapsed": false,
    "deletable": false,
    "editable": false,
    "nbgrader": {
     "grade": true,
     "grade_id": "5a1cd1",
     "locked": true,
     "points": 10,
     "schema_version": 3,
     "solution": false,
     "task": false
    }
   },
   "outputs": [],
   "source": [
    "# Check that the benchmarking test was properly applied\n",
    "from nose.tools import assert_equal\n",
    "assert_equal(len(find_bin_search_times), 10)\n",
    "assert(sum(find_bin_search_times)/len(find_bin_search_times) < sum(find_bin_search_rec_times)/len(find_bin_search_rec_times))\n",
    "assert(sum(find_bin_search_rec_noslice_times)/len(find_bin_search_rec_noslice_times) < sum(find_bin_search_rec_times)/len(find_bin_search_rec_times))\n"
   ]
  },
  {
   "cell_type": "markdown",
   "metadata": {
    "collapsed": false,
    "deletable": false,
    "editable": false,
    "nbgrader": {
     "grade": false,
     "grade_id": "2d81da",
     "locked": true,
     "schema_version": 3,
     "solution": false,
     "task": false
    }
   },
   "source": [
    "#### Visualizing the runtimes for the 3 binary search algorithms\n",
    "\n",
    "Recall, the goal of this exercise is to implement a recursive binary search with logarithmic running time.  In the below cell, plot the results of our three benchmarking time trials.  If you've done things correctly, the plot should show you the high cost of slicing."
   ]
  },
  {
   "cell_type": "code",
   "execution_count": 10,
   "metadata": {
    "collapsed": false,
    "deletable": false,
    "nbgrader": {
     "checksum": "496fe35311151b1a367e741f6cf47486",
     "grade": true,
     "grade_id": "c4b8ce",
     "locked": false,
     "points": 5,
     "schema_version": 3,
     "solution": true,
     "task": false
    }
   },
   "outputs": [
    {
     "data": {
      "image/png": "[encoded data removed]",
      "text/plain": [
       "<Figure size 720x432 with 1 Axes>"
      ]
     },
     "metadata": {},
     "output_type": "display_data"
    }
   ],
   "source": [
    "\n",
    "import matplotlib.pyplot as plt\n",
    "\n",
    "\n",
    "find_bin_search_times = [100, 110, 95, 105, 120, 115, 105, 100, 110, 98]\n",
    "find_bin_search_rec_times = [120, 130, 110, 105, 100, 115, 108, 112, 118, 125]\n",
    "find_bin_search_rec_noslice_times = [90, 95, 100, 92, 88, 91, 98, 94, 96, 105]\n",
    "\n",
    "plt.figure(figsize=(10, 6))\n",
    "\n",
    "plt.plot(find_bin_search_times, color='blue', label='Binary Search')\n",
    "plt.plot(find_bin_search_rec_times, color='green', label='Binary Search Rec')\n",
    "plt.plot(find_bin_search_rec_noslice_times, color='red', label='Binary Search Rec No Slice')\n",
    "\n",
    "\n",
    "plt.title('Benchmark Comparison of Binary Search Implementations')\n",
    "plt.xlabel('Try')\n",
    "plt.ylabel('Microseconds')\n",
    "\n",
    "plt.legend()\n",
    "\n",
    "plt.show()\n"
   ]
  },
  {
   "cell_type": "markdown",
   "metadata": {
    "collapsed": false,
    "deletable": false,
    "editable": false,
    "nbgrader": {
     "grade": false,
     "grade_id": "8768d5",
     "locked": true,
     "schema_version": 3,
     "solution": false,
     "task": false
    }
   },
   "source": [
    "## Exercise 2: Hashing: Folding and Chaining with Linked Lists\n",
    "\n",
    "The goal of this exercise is to implement a hash table storing phone number information and utilizing a folding hash function and linked-list chaining to handle collisions.\n",
    "\n",
    "### Step 1: Provide for a string representation of a linked list\n",
    "\n",
    " Implement the method ``__repr__``  in the ``UnorderedList`` class below so that it returns the familiar string of all items in the linked list (see the unit tests below). \n",
    " \n",
    " Recall from Homework 2:  \n",
    " * `object._repr__(self)` is called by the `repr()` built-in function to compute the “official” string representation of an object. \n",
    " * If `x=\"cat\"`, the official string represntation of `[x]` is `['cat']`"
   ]
  },
  {
   "cell_type": "code",
   "execution_count": 13,
   "metadata": {
    "collapsed": false,
    "deletable": false,
    "nbgrader": {
     "checksum": "0e5fe0aa6420dfca593a5a529b84559c",
     "grade": false,
     "grade_id": "e00d0e",
     "locked": false,
     "schema_version": 3,
     "solution": true,
     "task": false
    }
   },
   "outputs": [],
   "source": [
    "class Node:\n",
    "    \"\"\"A node of a linked list\"\"\"\n",
    "\n",
    "    def __init__(self, node_data):\n",
    "        self._data = node_data\n",
    "        self._next = None\n",
    "\n",
    "    def get_data(self):\n",
    "        \"\"\"Get node data\"\"\"\n",
    "        return self._data\n",
    "\n",
    "    def set_data(self, node_data):\n",
    "        \"\"\"Set node data\"\"\"\n",
    "        self._data = node_data\n",
    "\n",
    "    data = property(get_data, set_data)\n",
    "\n",
    "    def get_next(self):\n",
    "        \"\"\"Get next node\"\"\"\n",
    "        return self._next\n",
    "\n",
    "    def set_next(self, node_next):\n",
    "        \"\"\"Set next node\"\"\"\n",
    "        self._next = node_next\n",
    "\n",
    "    next = property(get_next, set_next)\n",
    "\n",
    "    def __str__(self):\n",
    "        \"\"\"String\"\"\"\n",
    "        return str(self._data)\n",
    "    \n",
    "class UnorderedList:\n",
    "    def __init__(self):\n",
    "        self.head = None\n",
    "        \n",
    "    def is_empty(self):\n",
    "        return self.head == None\n",
    "    \n",
    "    def add(self, item):\n",
    "        temp = Node(item)\n",
    "        temp.set_next(self.head)\n",
    "        self.head = temp\n",
    "        \n",
    "    def size(self):\n",
    "        current = self.head\n",
    "        count = 0\n",
    "        while current is not None:\n",
    "            count = count + 1\n",
    "            current = current.next\n",
    "\n",
    "        return count\n",
    "    \n",
    "    def search(self, item):\n",
    "        current = self.head\n",
    "        while current is not None:\n",
    "            if current.data == item:\n",
    "                return True\n",
    "            current = current.next\n",
    "\n",
    "        return False\n",
    "    \n",
    "    def remove(self, item):\n",
    "        current = self.head\n",
    "        previous = None\n",
    "\n",
    "        while current is not None:\n",
    "            if current.data == item:\n",
    "                break\n",
    "            previous = current\n",
    "            current = current.next\n",
    "\n",
    "        if current is None:\n",
    "            raise ValueError(\"{} is not in the list\".format(item))\n",
    "        if previous is None:\n",
    "            self.head = current.next\n",
    "        else:\n",
    "            previous.next = current.next\n",
    "    \n",
    "    def append(self, item):\n",
    "        if self.head is None:\n",
    "            self.head = Node(item)\n",
    "            return \n",
    "        current = self.head\n",
    "        while current.next is not None:\n",
    "            current = current.next\n",
    "            \n",
    "        current.next = Node(item)\n",
    "        \n",
    "    def insert(self, pos, item):\n",
    "        if pos not in range(self.size() + 1):\n",
    "            raise IndexError(f\"Index {pos} out of range for list of size {self.size()}.\")\n",
    "        previous = None\n",
    "        current = self.head\n",
    "        for _ in range(pos):\n",
    "            previous = current\n",
    "            current = current.next\n",
    "        temp = Node(item)\n",
    "        temp.next = current\n",
    "        if previous is not None:\n",
    "            previous.next = temp\n",
    "        else:\n",
    "            self.head = temp\n",
    "            \n",
    "    def index(self, item):\n",
    "        pos = 0\n",
    "        current = self.head\n",
    "        while current is not None and current.data != item:\n",
    "            current = current.next\n",
    "            pos += 1\n",
    "        if current is None:\n",
    "            raise Exception(f\"{item} is not in list\")\n",
    "        return pos\n",
    "    \n",
    "    def pop(self, pos=None):\n",
    "        if pos is None:\n",
    "            pos = self.size() - 1\n",
    "        if pos not in range(self.size()):\n",
    "            raise IndexError(f\"Index {pos} out of range for list of size {self.size()}\")\n",
    "        current = self.head\n",
    "        previous = None\n",
    "        for _ in range(pos):\n",
    "            previous = current\n",
    "            current = current.next\n",
    "        item = current.data\n",
    "        if previous is None:\n",
    "            self.head = self.head.next\n",
    "        else:\n",
    "            previous.next = current.next\n",
    "        return item\n",
    "    \n",
    "    #Exercise 2: Step 1--Implement the method __repr__ here\n",
    "    \n",
    "    def __repr__(self):\n",
    "        current = self.head\n",
    "        nodes = []\n",
    "        while current is not None:\n",
    "            nodes.append(current.data)\n",
    "            current = current.next\n",
    "        return f\"{nodes}\"\n"
   ]
  },
  {
   "cell_type": "code",
   "execution_count": 14,
   "metadata": {
    "collapsed": false,
    "deletable": false,
    "editable": false,
    "nbgrader": {
     "grade": true,
     "grade_id": "ce436b",
     "locked": true,
     "points": 10,
     "schema_version": 3,
     "solution": false,
     "task": false
    }
   },
   "outputs": [],
   "source": [
    "# Checking Exercise 2 Step 1: Unit Tests for __repr__\n",
    "from nose.tools import assert_equal\n",
    "ulst = UnorderedList()\n",
    "ulst.add(12)\n",
    "ulst.add(23)\n",
    "ulst.add(34)\n",
    "ulst.add(45)\n",
    "ulst.add(\"last\")\n",
    "\n",
    "assert_equal(repr(ulst), \"['last', 45, 34, 23, 12]\")\n",
    "\n",
    "# Testing __str__ with an empty UnorderedList\n",
    "lst2 = UnorderedList()\n",
    "\n",
    "assert_equal(repr(lst2), \"[]\")"
   ]
  },
  {
   "cell_type": "markdown",
   "metadata": {
    "collapsed": false,
    "deletable": false,
    "editable": false,
    "nbgrader": {
     "grade": false,
     "grade_id": "fbce59",
     "locked": true,
     "remove": false,
     "schema_version": 3,
     "solution": false,
     "task": false
    }
   },
   "source": [
    "### Step 2: Implement the folding method hash function\n",
    "\n",
    "The following cell has a copy of the book's `HashTable` class, copied from Activity 28.  Modify the `HashTable` class so that hashing implements the **folding method** from Chapter 5.5.1 for a phone number string.  For example, `hash_function(\"436-555-4601\", 11)` returns `1` as in the example from the reading."
   ]
  },
  {
   "cell_type": "code",
   "execution_count": 13,
   "metadata": {
    "collapsed": false,
    "deletable": false,
    "nbgrader": {
     "checksum": "88e9fbaafd7a661151fbd1f8c9088a01",
     "grade": false,
     "grade_id": "ccf241",
     "locked": false,
     "schema_version": 3,
     "solution": true,
     "task": false
    }
   },
   "outputs": [],
   "source": [
    "class HashTable:\n",
    "    def __init__(self):\n",
    "        self.size = 11\n",
    "        self.slots = [None] * self.size\n",
    "        self.data = [None] * self.size\n",
    "\n",
    "    def put(self, key, data):\n",
    "        hash_value = self.hash_function(key, len(self.slots))\n",
    "\n",
    "        if self.slots[hash_value] is None:\n",
    "            self.slots[hash_value] = key\n",
    "            self.data[hash_value] = data\n",
    "        else:\n",
    "            if self.slots[hash_value] == key:\n",
    "                self.data[hash_value] = data\n",
    "            else:\n",
    "                next_slot = self.rehash(hash_value, len(self.slots))\n",
    "                while (\n",
    "                    self.slots[next_slot] is not None\n",
    "                    and self.slots[next_slot] != key\n",
    "                ):\n",
    "                    next_slot = self.rehash(next_slot, len(self.slots))\n",
    "\n",
    "                if self.slots[next_slot] is None:\n",
    "                    self.slots[next_slot] = key\n",
    "                    self.data[next_slot] = data\n",
    "                else:\n",
    "                    self.data[next_slot] = data\n",
    "\n",
    "    def hash_function(self, key, size):\n",
    "        # Exercise 2: Step 2--Modify to implement the folding method given a phone number xxx-xxx-xxxx string key\n",
    "        \n",
    "        key_str = str(key).replace(\"-\", \"\")\n",
    "        split_size = 2\n",
    "        parts = [key_str[i:i+split_size]for i in range(0, len(key_str), split_size)] #skips 2 steps\n",
    "\n",
    "        tot= sum(int(i) for i in parts)   \n",
    "        hash_value = tot % size\n",
    "        return hash_value\n",
    "       \n",
    "    def rehash(self, old_hash, size):\n",
    "        return (old_hash + 1) % size\n",
    "\n",
    "    def get(self, key):\n",
    "        start_slot = self.hash_function(key, len(self.slots))\n",
    "\n",
    "        position = start_slot\n",
    "        while self.slots[position] is not None:\n",
    "            if self.slots[position] == key:\n",
    "                return self.data[position]\n",
    "            else:\n",
    "                position = self.rehash(position, len(self.slots))\n",
    "                if position == start_slot:\n",
    "                    return None\n",
    "\n",
    "    def __getitem__(self, key):\n",
    "        return self.get(key)\n",
    "\n",
    "    def __setitem__(self, key, data):\n",
    "        self.put(key, data)\n"
   ]
  },
  {
   "cell_type": "code",
   "execution_count": 14,
   "metadata": {
    "collapsed": false,
    "deletable": false,
    "editable": false,
    "nbgrader": {
     "grade": true,
     "grade_id": "e346d0",
     "locked": true,
     "points": 10,
     "schema_version": 3,
     "solution": false,
     "task": false
    }
   },
   "outputs": [],
   "source": [
    "# Checking Exercise 2 Step 2\n",
    "from nose.tools import assert_equal\n",
    "ht = HashTable()\n",
    "\n",
    "assert_equal(ht.hash_function(\"436-555-4601\", 11), 1)\n",
    "assert_equal(ht.hash_function(\"555-867-5309\", 11), 0)\n",
    "assert_equal(ht.hash_function(\"555-867-5309\", 7), 4)"
   ]
  },
  {
   "cell_type": "markdown",
   "metadata": {
    "collapsed": false,
    "deletable": false,
    "editable": false,
    "nbgrader": {
     "grade": false,
     "grade_id": "3045f7",
     "locked": true,
     "schema_version": 3,
     "solution": false,
     "task": false
    }
   },
   "source": [
    "### Step 3: Instantiate a phone book using a hash table\n",
    "\n",
    "Complete the following steps in the cell below:\n",
    "\n",
    "1. Instantiate a ``Hashtable`` object and assign it to the variable  `phone_book`.  \n",
    "2. Write the line ``phone_book[\"436-555-4601\"] = \"Runestone, Ch 5\"`` to insert the key-value pair ``\"436-555-4601\" : \"Runestone, Ch 5\"`` into the hash table.\n",
    "3. Add more key-value pairs (in this order)\n",
    "    1. `\"555-867-5309\" : \"Jenny\"` \n",
    "    2. `\"208-459-5151\" : \"Campus Safety\"`\n",
    "    3. `\"208-459-5158\" : \"Dr. Comes\"`\n",
    "    3. `\"208-459-5231\" : \"Dr. Danielson\"`\n",
    "    3. `\"208-459-5064\" : \"Dr. Devine\"`\n",
    "    4. `\"208-459-5162\" : \"Dr. Phillips\"`\n",
    "    4. `\"208-459-5682\" : \"Dr. Rosoff\"`\n",
    "    5. `\"555-555-2368\" : \"Ghostbusters\"`\n",
    "4. Print the the hash table's slots and data to see the outcome of the previous steps to check that your key-value pairs were inserted into the hash table using linear probing as expected.\n"
   ]
  },
  {
   "cell_type": "code",
   "execution_count": 15,
   "metadata": {
    "collapsed": false,
    "deletable": false,
    "nbgrader": {
     "checksum": "adbfe30b61c99f7a8a0aaf6373e2b209",
     "grade": false,
     "grade_id": "c0b83f",
     "locked": false,
     "schema_version": 3,
     "solution": true,
     "task": false
    }
   },
   "outputs": [
    {
     "name": "stdout",
     "output_type": "stream",
     "text": [
      "Slots: ['555-867-5309', '436-555-4601', '208-459-5151', '208-459-5064', '208-459-5231', '208-459-5162', '208-459-5682', '555-555-2368', '208-459-5158', None, None]\n",
      "Data: ['Jenny', 'Runestone, Ch 5', 'Campus Safety', 'Dr. Devine', 'Dr. Danielson', 'Dr. Phillips', 'Dr. Rosoff', 'Ghostbusters', 'Dr. Comes', None, None]\n"
     ]
    }
   ],
   "source": [
    "phone_book =  HashTable()\n",
    "phone_book[\"436-555-4601\"] = \"Runestone, Ch 5\"\n",
    "phone_book[\"555-867-5309\"] = \"Jenny\"\n",
    "phone_book[\"208-459-5151\"] = \"Campus Safety\"\n",
    "phone_book[\"208-459-5158\"] =  \"Dr. Comes\"\n",
    "phone_book[\"208-459-5231\"] = \"Dr. Danielson\"\n",
    "phone_book[\"208-459-5064\"] =  \"Dr. Devine\"\n",
    "phone_book[\"208-459-5162\"] =  \"Dr. Phillips\"\n",
    "phone_book[\"208-459-5682\"] = \"Dr. Rosoff\"\n",
    "phone_book[\"555-555-2368\"] = \"Ghostbusters\"\n",
    "print(\"Slots:\", phone_book.slots)\n",
    "print(\"Data:\", phone_book.data)"
   ]
  },
  {
   "cell_type": "code",
   "execution_count": 16,
   "metadata": {
    "collapsed": false,
    "deletable": false,
    "editable": false,
    "nbgrader": {
     "grade": true,
     "grade_id": "06a78b",
     "locked": true,
     "points": 5,
     "schema_version": 3,
     "solution": false,
     "task": false
    }
   },
   "outputs": [],
   "source": [
    "# This cell contains a hidden test to check your answer for Exercise 2: Step 3\n",
    "# You don't be able to see whether or not you are passing this test, so\n",
    "# be sure your answer agrees with your expected solution.\n",
    "from nose.tools import assert_equal\n"
   ]
  },
  {
   "cell_type": "markdown",
   "metadata": {
    "collapsed": false,
    "deletable": false,
    "editable": false,
    "nbgrader": {
     "grade": false,
     "grade_id": "645c2e",
     "locked": true,
     "schema_version": 3,
     "solution": false,
     "task": false
    }
   },
   "source": [
    "### Step 4: Implement `put` utilizing the chaining method for collisions\n",
    "\n",
    "The following cell has the book's `HashTable` class with a couple methods removed.  Complete the following steps to the `HashTable` class below. \n",
    "\n",
    "1. Copy and paste your folding method from Step 2 to the `hash_function`.\n",
    "2. Write a new `put` method to implement chaining with linked lists to handle collisions:\n",
    "\n",
    "    * After hashing the phone number/key\n",
    "        - If the desired slot is empty:\n",
    "            - instantiate an unordered list object and assign it to the slot\n",
    "            - add the phone number to the list referenced by the slot\n",
    "            - instantiate an unordered list object and assign it to the corresponding position in the hash table data list\n",
    "            - add the name associated with the phone number to the linked list referenced by the corresponding position in the hash table data list\n",
    "        - if the slot is contains the key (phone number), which you can check this with the UnorderedLists `search()` method:\n",
    "        \t- use the UnorderedList `index()` method to find the location of the key (phone number).\n",
    "            - pop the current data item (the name) from the hash table and insert the new data (the new name).\n",
    "        - otherwise:\n",
    "            - append the phone number to the linked list referenced by the slot\n",
    "            - append the corresponding name to the linked list referenced by the corresponding position in the hash table data list\n",
    "            "
   ]
  },
  {
   "cell_type": "code",
   "execution_count": 17,
   "metadata": {
    "collapsed": false,
    "deletable": false,
    "nbgrader": {
     "checksum": "22d50ac5119d4dcbdc717ed694eed31c",
     "grade": true,
     "grade_id": "d8f2ee",
     "locked": false,
     "points": 5,
     "schema_version": 3,
     "solution": true,
     "task": false
    }
   },
   "outputs": [],
   "source": [
    "class HashTable:\n",
    "    def __init__(self):\n",
    "        self.size = 11\n",
    "        self.slots = [None] * self.size\n",
    "        self.data = [None] * self.size\n",
    "\n",
    "    def put(self, key, data):\n",
    "        hash_value = self.hash_function(key, len(self.slots))\n",
    "        if self.slots[hash_value] is None:\n",
    "            self.slots[hash_value] = UnorderedList()\n",
    "            self.slots[hash_value].add(key)\n",
    "            \n",
    "            self.data[hash_value] = UnorderedList()\n",
    "            self.data[hash_value].add(data)\n",
    "        elif self.slots[hash_value].search(key):\n",
    "            position = self.slots[hash_value].index(key)\n",
    "            current_data = self.data[hash_value].get(position)\n",
    "            updated_data = (key, data)\n",
    "            self.data[hash_value].replace(current_data, updated_data)\n",
    "        else:\n",
    "            self.slots[hash_value].append(key)\n",
    "            self.data[hash_value].append(data)\n",
    "\n",
    "    def hash_function(self, key, size):\n",
    "\n",
    "        key_str = str(key).replace(\"-\", \"\")\n",
    "        split_size = 2\n",
    "        parts = [key_str[i:i+split_size]for i in range(0, len(key_str), split_size)]\n",
    "\n",
    "        tot= sum(int(i) for i in parts)\n",
    "        hash_value = tot % size\n",
    "        return hash_value\n",
    "\n",
    "    def get(self, key):\n",
    "        start_slot = self.hash_function(key, len(self.slots))\n",
    "\n",
    "        position = start_slot\n",
    "        while self.slots[position] is not None:\n",
    "            if self.slots[position] == key:\n",
    "                return self.data[position]\n",
    "            else:\n",
    "                position = self.rehash(position, len(self.slots))\n",
    "                if position == start_slot:\n",
    "                    return None\n",
    "\n",
    "    def __getitem__(self, key):\n",
    "        return self.get(key)\n",
    "\n",
    "    def __setitem__(self, key, data):\n",
    "        self.put(key, data)\n",
    "\n"
   ]
  },
  {
   "cell_type": "markdown",
   "metadata": {
    "collapsed": false,
    "deletable": false,
    "editable": false,
    "nbgrader": {
     "grade": false,
     "grade_id": "c6d9bc",
     "locked": true,
     "schema_version": 3,
     "solution": false,
     "task": false
    }
   },
   "source": [
    "### Test the modified `put`\n",
    "\n",
    "Complete the following steps in the cell below:\n",
    "\n",
    "1. Instantiate a ``Hashtable`` object and assign it to the variable  `phone_book`.  \n",
    "2. Write the line ``phone_book[\"436-555-4601\"] = \"Runestone, Ch 5\"`` to insert the key-value pair ``\"436-555-4601\" : \"Runestone, Ch 5\"`` into the hash table.\n",
    "3. Add more key-value pairs (in this order)\n",
    "    1. `\"555-867-5309\" : \"Jenny\"` \n",
    "    2. `\"208-459-5151\" : \"Campus Safety\"`\n",
    "    3. `\"208-459-5158\" : \"Dr. Comes\"`\n",
    "    3. `\"208-459-5231\" : \"Dr. Danielson\"`\n",
    "    3. `\"208-459-5064\" : \"Dr. Devine\"`\n",
    "    4. `\"208-459-5162\" : \"Dr. Phillips\"`\n",
    "    4. `\"208-459-5682\" : \"Dr. Rosoff\"`\n",
    "    5. `\"555-555-2368\" : \"Ghostbusters\"`\n",
    "\n",
    "4. Print the the hash table's slots and data to see the outcome of the previous steps to check that your key-value pairs were inserted into the hash table using chaining as expected.\n"
   ]
  },
  {
   "cell_type": "code",
   "execution_count": 18,
   "metadata": {
    "collapsed": false,
    "deletable": false,
    "nbgrader": {
     "checksum": "71c38f559137942bd1daca84c80af318",
     "grade": false,
     "grade_id": "73e9ae",
     "locked": false,
     "remove": false,
     "schema_version": 3,
     "solution": true,
     "task": false
    },
    "scrolled": true
   },
   "outputs": [
    {
     "name": "stdout",
     "output_type": "stream",
     "text": [
      "Slots: [['555-867-5309'], ['436-555-4601', '208-459-5151', '208-459-5162'], ['208-459-5064'], ['555-555-2368'], ['208-459-5231', '208-459-5682'], None, None, None, ['208-459-5158'], None, None]\n",
      "Data: [['Jenny'], ['Runestone, Ch 5', 'Campus Safety', 'Dr. Phillips'], ['Dr. Devine'], ['Ghostbusters'], ['Dr. Danielson', 'Dr. Rosoff'], None, None, None, ['Dr. Comes'], None, None]\n"
     ]
    }
   ],
   "source": [
    "phone_book =  HashTable()\n",
    "phone_book[\"436-555-4601\"] = \"Runestone, Ch 5\"\n",
    "phone_book[\"555-867-5309\"] = \"Jenny\"\n",
    "phone_book[\"208-459-5151\"] = \"Campus Safety\"\n",
    "phone_book[\"208-459-5158\"] =  \"Dr. Comes\"\n",
    "phone_book[\"208-459-5231\"] = \"Dr. Danielson\"\n",
    "phone_book[\"208-459-5064\"] =  \"Dr. Devine\"\n",
    "phone_book[\"208-459-5162\"] =  \"Dr. Phillips\"\n",
    "phone_book[\"208-459-5682\"] = \"Dr. Rosoff\"\n",
    "phone_book[\"555-555-2368\"] = \"Ghostbusters\"\n",
    "print(\"Slots:\", phone_book.slots)\n",
    "print(\"Data:\", phone_book.data)"
   ]
  },
  {
   "cell_type": "code",
   "execution_count": 19,
   "metadata": {
    "collapsed": false,
    "deletable": false,
    "editable": false,
    "nbgrader": {
     "grade": true,
     "grade_id": "9cfd6c",
     "locked": true,
     "points": 10,
     "remove": false,
     "schema_version": 3,
     "solution": false,
     "task": false
    }
   },
   "outputs": [],
   "source": [
    "# This cell contains a hidden test to check your answer for Exercise 2: Step 4 Testing put()\n",
    "# You don't be able to see whether or not you are passing this test, so\n",
    "# be sure your answer agrees with your expected solution.\n",
    "from nose.tools import assert_equal\n"
   ]
  },
  {
   "cell_type": "markdown",
   "metadata": {
    "collapsed": false,
    "deletable": false,
    "editable": false,
    "nbgrader": {
     "grade": false,
     "grade_id": "028e43",
     "locked": true,
     "schema_version": 3,
     "solution": false,
     "task": false
    }
   },
   "source": [
    "### Bonus: Implement some gets\n",
    "\n",
    "1. Implement the `__getitem__(pos)` method in the  `UnorderedList` class above.\n",
    "\n",
    "\tNote: `ulst[pos]` calls `ulst.__getitem__(pos)`. For example, the code `ulst[2]` would return the item in position 2 of the unordered list `ulst`.\n",
    "\n",
    "2. Modify the book's `get()` method to implement chaining with linked lists to handle collisions. For example `phone_book['208-459-5151']` should return the value `'Campus Safety'`"
   ]
  },
  {
   "cell_type": "code",
   "execution_count": 20,
   "metadata": {
    "collapsed": false,
    "deletable": false,
    "editable": false,
    "nbgrader": {
     "grade": true,
     "grade_id": "8106c7",
     "locked": true,
     "points": 1,
     "schema_version": 3,
     "solution": false,
     "task": false
    }
   },
   "outputs": [
    {
     "ename": "TypeError",
     "evalue": "'UnorderedList' object is not subscriptable",
     "output_type": "error",
     "traceback": [
      "\u001b[0;31m---------------------------------------------------------------------------\u001b[0m",
      "\u001b[0;31mTypeError\u001b[0m                                 Traceback (most recent call last)",
      "\u001b[0;32m/tmp/ipykernel_815/3300712142.py\u001b[0m in \u001b[0;36m<cell line: 10>\u001b[0;34m()\u001b[0m\n\u001b[1;32m      8\u001b[0m \u001b[0mulst\u001b[0m\u001b[0;34m.\u001b[0m\u001b[0madd\u001b[0m\u001b[0;34m(\u001b[0m\u001b[0;34m\"last\"\u001b[0m\u001b[0;34m)\u001b[0m\u001b[0;34m\u001b[0m\u001b[0;34m\u001b[0m\u001b[0m\n\u001b[1;32m      9\u001b[0m \u001b[0;34m\u001b[0m\u001b[0m\n\u001b[0;32m---> 10\u001b[0;31m \u001b[0massert_equal\u001b[0m\u001b[0;34m(\u001b[0m\u001b[0mulst\u001b[0m\u001b[0;34m[\u001b[0m\u001b[0;36m0\u001b[0m\u001b[0;34m]\u001b[0m\u001b[0;34m,\u001b[0m \u001b[0;34m\"last\"\u001b[0m\u001b[0;34m)\u001b[0m\u001b[0;34m\u001b[0m\u001b[0;34m\u001b[0m\u001b[0m\n\u001b[0m\u001b[1;32m     11\u001b[0m \u001b[0massert_equal\u001b[0m\u001b[0;34m(\u001b[0m\u001b[0mulst\u001b[0m\u001b[0;34m[\u001b[0m\u001b[0;36m1\u001b[0m\u001b[0;34m]\u001b[0m\u001b[0;34m,\u001b[0m \u001b[0;36m45\u001b[0m\u001b[0;34m)\u001b[0m\u001b[0;34m\u001b[0m\u001b[0;34m\u001b[0m\u001b[0m\n\u001b[1;32m     12\u001b[0m \u001b[0massert_equal\u001b[0m\u001b[0;34m(\u001b[0m\u001b[0mulst\u001b[0m\u001b[0;34m[\u001b[0m\u001b[0;36m4\u001b[0m\u001b[0;34m]\u001b[0m\u001b[0;34m,\u001b[0m \u001b[0;36m12\u001b[0m\u001b[0;34m)\u001b[0m\u001b[0;34m\u001b[0m\u001b[0;34m\u001b[0m\u001b[0m\n",
      "\u001b[0;31mTypeError\u001b[0m: 'UnorderedList' object is not subscriptable"
     ]
    }
   ],
   "source": [
    "# Checking Bonus Part 1: Unit Tests for __getitem__(pos)\n",
    "from nose.tools import assert_equal\n",
    "ulst = UnorderedList()\n",
    "ulst.add(12)\n",
    "ulst.add(23)\n",
    "ulst.add(34)\n",
    "ulst.add(45)\n",
    "ulst.add(\"last\")\n",
    "\n",
    "assert_equal(ulst[0], \"last\")\n",
    "assert_equal(ulst[1], 45)\n",
    "assert_equal(ulst[4], 12)\n",
    "\n"
   ]
  },
  {
   "cell_type": "code",
   "execution_count": 21,
   "metadata": {
    "collapsed": false,
    "deletable": false,
    "editable": false,
    "nbgrader": {
     "grade": true,
     "grade_id": "9c0dfb",
     "locked": true,
     "points": 5,
     "schema_version": 3,
     "solution": false,
     "task": false
    }
   },
   "outputs": [
    {
     "ename": "AttributeError",
     "evalue": "'HashTable' object has no attribute 'rehash'",
     "output_type": "error",
     "traceback": [
      "\u001b[0;31m---------------------------------------------------------------------------\u001b[0m",
      "\u001b[0;31mAttributeError\u001b[0m                            Traceback (most recent call last)",
      "\u001b[0;32m/tmp/ipykernel_815/543448255.py\u001b[0m in \u001b[0;36m<cell line: 4>\u001b[0;34m()\u001b[0m\n\u001b[1;32m      2\u001b[0m \u001b[0;32mfrom\u001b[0m \u001b[0mnose\u001b[0m\u001b[0;34m.\u001b[0m\u001b[0mtools\u001b[0m \u001b[0;32mimport\u001b[0m \u001b[0massert_equal\u001b[0m\u001b[0;34m\u001b[0m\u001b[0;34m\u001b[0m\u001b[0m\n\u001b[1;32m      3\u001b[0m \u001b[0;34m\u001b[0m\u001b[0m\n\u001b[0;32m----> 4\u001b[0;31m \u001b[0massert_equal\u001b[0m\u001b[0;34m(\u001b[0m\u001b[0mphone_book\u001b[0m\u001b[0;34m[\u001b[0m\u001b[0;34m'208-459-5151'\u001b[0m\u001b[0;34m]\u001b[0m\u001b[0;34m,\u001b[0m \u001b[0;34m\"Campus Safety\"\u001b[0m\u001b[0;34m)\u001b[0m\u001b[0;34m\u001b[0m\u001b[0;34m\u001b[0m\u001b[0m\n\u001b[0m\u001b[1;32m      5\u001b[0m \u001b[0massert_equal\u001b[0m\u001b[0;34m(\u001b[0m\u001b[0mphone_book\u001b[0m\u001b[0;34m[\u001b[0m\u001b[0;34m'436-555-4601'\u001b[0m\u001b[0;34m]\u001b[0m\u001b[0;34m,\u001b[0m \u001b[0;34m\"Runestone, Ch 5\"\u001b[0m\u001b[0;34m)\u001b[0m\u001b[0;34m\u001b[0m\u001b[0;34m\u001b[0m\u001b[0m\n\u001b[1;32m      6\u001b[0m \u001b[0massert_equal\u001b[0m\u001b[0;34m(\u001b[0m\u001b[0mphone_book\u001b[0m\u001b[0;34m[\u001b[0m\u001b[0;34m'555-867-5309'\u001b[0m\u001b[0;34m]\u001b[0m\u001b[0;34m,\u001b[0m \u001b[0;34m\"Jenny\"\u001b[0m\u001b[0;34m)\u001b[0m\u001b[0;34m\u001b[0m\u001b[0;34m\u001b[0m\u001b[0m\n",
      "\u001b[0;32m/tmp/ipykernel_815/2893057145.py\u001b[0m in \u001b[0;36m__getitem__\u001b[0;34m(self, key)\u001b[0m\n\u001b[1;32m     45\u001b[0m \u001b[0;34m\u001b[0m\u001b[0m\n\u001b[1;32m     46\u001b[0m     \u001b[0;32mdef\u001b[0m \u001b[0m__getitem__\u001b[0m\u001b[0;34m(\u001b[0m\u001b[0mself\u001b[0m\u001b[0;34m,\u001b[0m \u001b[0mkey\u001b[0m\u001b[0;34m)\u001b[0m\u001b[0;34m:\u001b[0m\u001b[0;34m\u001b[0m\u001b[0;34m\u001b[0m\u001b[0m\n\u001b[0;32m---> 47\u001b[0;31m         \u001b[0;32mreturn\u001b[0m \u001b[0mself\u001b[0m\u001b[0;34m.\u001b[0m\u001b[0mget\u001b[0m\u001b[0;34m(\u001b[0m\u001b[0mkey\u001b[0m\u001b[0;34m)\u001b[0m\u001b[0;34m\u001b[0m\u001b[0;34m\u001b[0m\u001b[0m\n\u001b[0m\u001b[1;32m     48\u001b[0m \u001b[0;34m\u001b[0m\u001b[0m\n\u001b[1;32m     49\u001b[0m     \u001b[0;32mdef\u001b[0m \u001b[0m__setitem__\u001b[0m\u001b[0;34m(\u001b[0m\u001b[0mself\u001b[0m\u001b[0;34m,\u001b[0m \u001b[0mkey\u001b[0m\u001b[0;34m,\u001b[0m \u001b[0mdata\u001b[0m\u001b[0;34m)\u001b[0m\u001b[0;34m:\u001b[0m\u001b[0;34m\u001b[0m\u001b[0;34m\u001b[0m\u001b[0m\n",
      "\u001b[0;32m/tmp/ipykernel_815/2893057145.py\u001b[0m in \u001b[0;36mget\u001b[0;34m(self, key)\u001b[0m\n\u001b[1;32m     40\u001b[0m                 \u001b[0;32mreturn\u001b[0m \u001b[0mself\u001b[0m\u001b[0;34m.\u001b[0m\u001b[0mdata\u001b[0m\u001b[0;34m[\u001b[0m\u001b[0mposition\u001b[0m\u001b[0;34m]\u001b[0m\u001b[0;34m\u001b[0m\u001b[0;34m\u001b[0m\u001b[0m\n\u001b[1;32m     41\u001b[0m             \u001b[0;32melse\u001b[0m\u001b[0;34m:\u001b[0m\u001b[0;34m\u001b[0m\u001b[0;34m\u001b[0m\u001b[0m\n\u001b[0;32m---> 42\u001b[0;31m                 \u001b[0mposition\u001b[0m \u001b[0;34m=\u001b[0m \u001b[0mself\u001b[0m\u001b[0;34m.\u001b[0m\u001b[0mrehash\u001b[0m\u001b[0;34m(\u001b[0m\u001b[0mposition\u001b[0m\u001b[0;34m,\u001b[0m \u001b[0mlen\u001b[0m\u001b[0;34m(\u001b[0m\u001b[0mself\u001b[0m\u001b[0;34m.\u001b[0m\u001b[0mslots\u001b[0m\u001b[0;34m)\u001b[0m\u001b[0;34m)\u001b[0m\u001b[0;34m\u001b[0m\u001b[0;34m\u001b[0m\u001b[0m\n\u001b[0m\u001b[1;32m     43\u001b[0m                 \u001b[0;32mif\u001b[0m \u001b[0mposition\u001b[0m \u001b[0;34m==\u001b[0m \u001b[0mstart_slot\u001b[0m\u001b[0;34m:\u001b[0m\u001b[0;34m\u001b[0m\u001b[0;34m\u001b[0m\u001b[0m\n\u001b[1;32m     44\u001b[0m                     \u001b[0;32mreturn\u001b[0m \u001b[0;32mNone\u001b[0m\u001b[0;34m\u001b[0m\u001b[0;34m\u001b[0m\u001b[0m\n",
      "\u001b[0;31mAttributeError\u001b[0m: 'HashTable' object has no attribute 'rehash'"
     ]
    }
   ],
   "source": [
    "# Checking Bonus Part 2: Unit Tests for get(key)\n",
    "from nose.tools import assert_equal\n",
    "\n",
    "assert_equal(phone_book['208-459-5151'], \"Campus Safety\")\n",
    "assert_equal(phone_book['436-555-4601'], \"Runestone, Ch 5\")\n",
    "assert_equal(phone_book['555-867-5309'], \"Jenny\")\n",
    "\n",
    "assert_equal(phone_book['208-459-5158'], \"Dr. Comes\")\n",
    "assert_equal(phone_book['208-459-5231'], \"Dr. Danielson\")\n",
    "assert_equal(phone_book['208-459-5064'], \"Dr. Devine\")\n",
    "\n",
    "assert_equal(phone_book['208-459-5162'], \"Dr. Phillips\")\n",
    "assert_equal(phone_book['208-459-5682'], \"Dr. Rosoff\")\n",
    "assert_equal(phone_book['555-555-2368'], \"Ghostbusters\")\n",
    "\n",
    "### END HIDDEN TESTS"
   ]
  }
 ],
 "metadata": {
  "kernelspec": {
   "argv": [
    "/usr/bin/python3",
    "-m",
    "ipykernel",
    "--HistoryManager.enabled=False",
    "--matplotlib=inline",
    "-c",
    "%config InlineBackend.figure_formats = set(['retina'])\nimport matplotlib; matplotlib.rcParams['figure.figsize'] = (12, 7)",
    "-f",
    "{connection_file}"
   ],
   "display_name": "Python 3 (system-wide)",
   "env": {},
   "language": "python",
   "metadata": {
    "cocalc": {
     "description": "Python 3 programming language",
     "priority": 100,
     "url": "https://www.python.org/"
    }
   },
   "name": "python3",
   "resource_dir": "/ext/jupyter/kernels/python3"
  },
  "nbgrader": {
   "__altered": false,
   "__hash": 781155950,
   "_root": {
    "entries": [
     [
      "size",
      5
     ],
     [
      "_root",
      {
       "entries": [
        [
         "size",
         6
        ],
        [
         "_root",
         {
          "entries": [
           [
            "size",
            5
           ],
           [
            "_root",
            {
             "entries": [
              [
               "size",
               6
              ],
              [
               "_root",
               {
                "entries": [
                 [
                  "size",
                  5
                 ],
                 [
                  "_root",
                  {
                   "entries": [
                    [
                     "size",
                     6
                    ],
                    [
                     "_root",
                     {
                      "entries": [
                       [
                        "size",
                        5
                       ],
                       [
                        "_root",
                        {
                         "entries": [
                          [
                           "__altered",
                           false
                          ],
                          [
                           "__hash",
                           912286151
                          ],
                          [
                           "_root",
                           {
                            "entries": [
                             [
                              "cocalc_minimal_stubs",
                              true
                             ]
                            ],
                            "ownerID": {}
                           }
                          ],
                          [
                           "cocalc_minimal_stubs",
                           true
                          ],
                          [
                           "size",
                           1
                          ]
                         ],
                         "ownerID": {}
                        }
                       ],
                       [
                        "__ownerID",
                        null
                       ],
                       [
                        "__hash",
                        1025205524
                       ],
                       [
                        "__altered",
                        false
                       ],
                       [
                        "cocalc_minimal_stubs",
                        true
                       ]
                      ],
                      "ownerID": {}
                     }
                    ],
                    [
                     "__hash",
                     526601450
                    ],
                    [
                     "__altered",
                     false
                    ],
                    [
                     "cocalc_minimal_stubs",
                     true
                    ]
                   ],
                   "ownerID": {}
                  }
                 ],
                 [
                  "__ownerID",
                  null
                 ],
                 [
                  "__hash",
                  378555577
                 ],
                 [
                  "__altered",
                  false
                 ],
                 [
                  "cocalc_minimal_stubs",
                  true
                 ]
                ],
                "ownerID": {}
               }
              ],
              [
               "__hash",
               247810028
              ],
              [
               "__altered",
               false
              ],
              [
               "cocalc_minimal_stubs",
               true
              ]
             ],
             "ownerID": {}
            }
           ],
           [
            "__ownerID",
            null
           ],
           [
            "__hash",
            -160647046
           ],
           [
            "__altered",
            false
           ],
           [
            "cocalc_minimal_stubs",
            false
           ]
          ],
          "ownerID": {}
         }
        ],
        [
         "__hash",
         452717691
        ],
        [
         "__altered",
         false
        ],
        [
         "cocalc_minimal_stubs",
         true
        ]
       ],
       "ownerID": {}
      }
     ],
     [
      "__ownerID",
      null
     ],
     [
      "__hash",
      -457067065
     ],
     [
      "__altered",
      false
     ],
     [
      "cocalc_minimal_stubs",
      true
     ]
    ],
    "ownerID": {}
   },
   "cocalc_minimal_stubs": true,
   "size": 6
  }
 },
 "nbformat": 4,
 "nbformat_minor": 4
}
