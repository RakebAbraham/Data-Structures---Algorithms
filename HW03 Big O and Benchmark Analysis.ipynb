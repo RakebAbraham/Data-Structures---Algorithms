{
 "cells": [
  {
   "cell_type": "markdown",
   "metadata": {
    "collapsed": false,
    "deletable": false,
    "editable": false,
    "nbgrader": {
     "grade": false,
     "grade_id": "28b49e",
     "locked": true,
     "schema_version": 3,
     "solution": false,
     "task": false
    }
   },
   "source": [
    "# Homework Assignment 3, Part 2\n",
    "\n",
    "Complete the following exercises. \n",
    "\n",
    "# When you are finished, double click on the cell below and type your full name to indicate that **you completed all exercises with academic integrity**. "
   ]
  },
  {
   "cell_type": "markdown",
   "metadata": {
    "collapsed": false,
    "deletable": false,
    "nbgrader": {
     "cell_type": "markdown",
     "checksum": "fc2cd303dbd925061a88dc44bc63870e",
     "grade": true,
     "grade_id": "1c689d",
     "locked": false,
     "points": 1,
     "schema_version": 3,
     "solution": true,
     "task": false
    }
   },
   "source": [
    "Rakeb Abraham Jebessa\n",
    "\n"
   ]
  },
  {
   "cell_type": "markdown",
   "metadata": {
    "collapsed": false,
    "deletable": false,
    "editable": false,
    "nbgrader": {
     "grade": false,
     "grade_id": "714166",
     "locked": true,
     "schema_version": 3,
     "solution": false,
     "task": false
    }
   },
   "source": [
    "## Exercise 1: More with Trial Running Times\n",
    "\n",
    "In Activity 10 you created a graph to compare the running times of the three summation functions\n",
    "\n",
    "```python\n",
    "def f1(n):\n",
    "    the_sum = 0\n",
    "    for i in range(n):\n",
    "        the_sum += 2*i + 1\n",
    "\n",
    "    return the_sum\n",
    "\n",
    "def f2(n):\n",
    "    i = 1\n",
    "    the_sum = 0\n",
    "    while i < 2*n:\n",
    "        the_sum += i\n",
    "        i += 2\n",
    "\n",
    "    return the_sum\n",
    "\n",
    "def f3(n):\n",
    "    the_sum = n**2\n",
    "    return the_sum\n",
    "\n",
    "```\n"
   ]
  },
  {
   "cell_type": "markdown",
   "metadata": {
    "collapsed": false,
    "deletable": false,
    "editable": false,
    "nbgrader": {
     "grade": false,
     "grade_id": "ffb816",
     "locked": true,
     "multiple_choice": true,
     "schema_version": 3,
     "solution": false,
     "task": false
    }
   },
   "source": [
    "### Multiple Choice Question 1\n",
    "\n",
    "What is the Big O running time of `f1`?\n",
    "\n",
    "* (A) $T(n) = 1 + n$\n",
    "* (B) $T(n) = 2 + 2n$\n",
    "* (C) $O(1)$\n",
    "* (D) $O(n)$\n",
    "* (E) None of the above\n"
   ]
  },
  {
   "cell_type": "code",
   "execution_count": 3,
   "metadata": {
    "collapsed": false,
    "deletable": false,
    "nbgrader": {
     "cell_type": "code",
     "checksum": "d5e8919e3028fc6178e12d589d6710b5",
     "grade": false,
     "grade_id": "3ccc74",
     "locked": false,
     "multiple_choice": true,
     "schema_version": 3,
     "solution": true,
     "task": false
    }
   },
   "outputs": [],
   "source": [
    "mcanswer_1= \"D\"   # enter your answer inside the string quotes: A, B, C, D, or E"
   ]
  },
  {
   "cell_type": "code",
   "execution_count": 4,
   "metadata": {
    "collapsed": false,
    "deletable": false,
    "editable": false,
    "nbgrader": {
     "grade": true,
     "grade_id": "632233",
     "locked": true,
     "multiple_choice": true,
     "points": 2,
     "schema_version": 3,
     "solution": false,
     "task": false
    }
   },
   "outputs": [],
   "source": [
    "assert mcanswer_1 in ['A', 'B', 'C', 'D', 'E']\n",
    "#This autograder has a hidden test, for obvious reasons :)"
   ]
  },
  {
   "cell_type": "markdown",
   "metadata": {
    "collapsed": false,
    "deletable": false,
    "editable": false,
    "nbgrader": {
     "grade": false,
     "grade_id": "d1f915",
     "locked": true,
     "multiple_choice": true,
     "schema_version": 3,
     "solution": false,
     "task": false
    }
   },
   "source": [
    "### Multiple Choice Question 2\n",
    "\n",
    "What is the Big O running time of `f3`?\n",
    "\n",
    "* (A) $T(n) = 1 + n$\n",
    "* (B) $T(n) = 2 + 2n$\n",
    "* (C) $O(1)$\n",
    "* (D) $O(n)$\n",
    "* (E) None of the above"
   ]
  },
  {
   "cell_type": "code",
   "execution_count": 5,
   "metadata": {
    "collapsed": false,
    "deletable": false,
    "nbgrader": {
     "cell_type": "code",
     "checksum": "d288efc2726bef15414d5776e58f21da",
     "grade": false,
     "grade_id": "aabcd9",
     "locked": false,
     "multiple_choice": true,
     "schema_version": 3,
     "solution": true,
     "task": false
    }
   },
   "outputs": [],
   "source": [
    "mcanswer_2= \"C\"   # enter your answer inside the string quotes: A, B, C, D, or E"
   ]
  },
  {
   "cell_type": "code",
   "execution_count": 6,
   "metadata": {
    "collapsed": false,
    "deletable": false,
    "editable": false,
    "nbgrader": {
     "grade": true,
     "grade_id": "fdd11e",
     "locked": true,
     "multiple_choice": true,
     "points": 2,
     "schema_version": 3,
     "solution": false,
     "task": false
    }
   },
   "outputs": [],
   "source": [
    "assert mcanswer_2 in ['A', 'B', 'C', 'D', 'E']\n",
    "#This autograder has a hidden test, for obvious reasons :)"
   ]
  },
  {
   "cell_type": "markdown",
   "metadata": {
    "collapsed": false,
    "deletable": false,
    "editable": false,
    "nbgrader": {
     "grade": false,
     "grade_id": "f95455",
     "locked": true,
     "schema_version": 3,
     "solution": false,
     "task": false
    }
   },
   "source": [
    "### Benchmarking as $n$ varies\n",
    "\n",
    "In addition to comparing the running times of the summation functions, we could consider the running times of the functions as the size of the problem, $n$, increases. In what follows we will set up an experiment to investigate the running time of `f1` as $n$ increases. \n",
    "\n",
    "First, we define a reusable test function for benchmarking a function `n_func` over a sequence of inputs ``number_list``. Here `n_func` is any function expecting an integer parameter $n$, and `number_list` is a list of $n$ values."
   ]
  },
  {
   "cell_type": "code",
   "execution_count": 7,
   "metadata": {
    "collapsed": false,
    "deletable": false,
    "editable": false,
    "nbgrader": {
     "grade": false,
     "grade_id": "cab7e9",
     "locked": true,
     "schema_version": 3,
     "solution": false,
     "task": false
    }
   },
   "outputs": [],
   "source": [
    "import random, time\n",
    "def test_n(n_func, number_list):\n",
    "    \"\"\"\n",
    "    Performs a trial of the following experiment for each n in `number_list`. \n",
    "    For each n, the output of `n_func` is printed to the screen, along with \n",
    "    the value of n, and the time the trial took.\n",
    "    A list of the trial times for each n will be returned.\n",
    "    \"\"\"\n",
    "    times = []\n",
    "    for n in number_list:\n",
    "        start = time.time()\n",
    "        result = n_func(n)\n",
    "        end = time.time()\n",
    "        microseconds = 10**6 * (end - start) # 1 sec = 10^6 microseconds\n",
    "        times.append(microseconds)\n",
    "        print(f\"For n = {n:2d}: Result is {result:4d} and required {microseconds:10.7f} microseconds\")\n",
    "    return times\n"
   ]
  },
  {
   "cell_type": "markdown",
   "metadata": {
    "collapsed": false,
    "deletable": false,
    "editable": false,
    "nbgrader": {
     "grade": false,
     "grade_id": "3c989c",
     "locked": true,
     "schema_version": 3,
     "solution": false,
     "task": false
    }
   },
   "source": [
    "The following cell applies the benchmarking test to `f1` using the given list of problem sizes. "
   ]
  },
  {
   "cell_type": "code",
   "execution_count": null,
   "metadata": {
    "collapsed": false
   },
   "outputs": [],
   "source": []
  },
  {
   "cell_type": "code",
   "execution_count": 8,
   "metadata": {
    "collapsed": false,
    "deletable": false,
    "editable": false,
    "nbgrader": {
     "grade": false,
     "grade_id": "82f696",
     "locked": true,
     "schema_version": 3,
     "solution": false,
     "task": false
    }
   },
   "outputs": [
    {
     "name": "stdout",
     "output_type": "stream",
     "text": [
      "For n =  1: Result is    1 and required  1.4305115 microseconds\n",
      "For n = 1000: Result is 1000000 and required 90.8374786 microseconds\n",
      "For n = 2000: Result is 4000000 and required 308.2752228 microseconds\n",
      "For n = 3000: Result is 9000000 and required 327.5871277 microseconds\n",
      "For n = 4000: Result is 16000000 and required 369.7872162 microseconds\n",
      "For n = 5000: Result is 25000000 and required 529.0508270 microseconds\n"
     ]
    }
   ],
   "source": [
    "input_sizes = [1, 1000, 2000, 3000, 4000, 5000]\n",
    "\n",
    "def f1(n):\n",
    "    the_sum = 0\n",
    "    for i in range(n):\n",
    "        the_sum += 2*i + 1\n",
    "\n",
    "    return the_sum\n",
    "\n",
    "f1_times = test_n(f1, input_sizes)"
   ]
  },
  {
   "cell_type": "markdown",
   "metadata": {
    "collapsed": false,
    "deletable": false,
    "editable": false,
    "nbgrader": {
     "grade": false,
     "grade_id": "668cb8",
     "locked": true,
     "schema_version": 3,
     "solution": false,
     "task": false
    }
   },
   "source": [
    "### Benchmarking  `f3`\n",
    "Mimicking the experiment for `f1` above, apply the benchmarking test to the other summing function `f3`. Use the same list of `input_sizes` as above. "
   ]
  },
  {
   "cell_type": "code",
   "execution_count": 9,
   "metadata": {
    "collapsed": false,
    "deletable": false,
    "nbgrader": {
     "cell_type": "code",
     "checksum": "72d4511c4cf319cb580d34f01a9a895e",
     "grade": false,
     "grade_id": "1f16de",
     "locked": false,
     "schema_version": 3,
     "solution": true,
     "task": false
    }
   },
   "outputs": [
    {
     "name": "stdout",
     "output_type": "stream",
     "text": [
      "For n =  1: Result is    1 and required  1.9073486 microseconds\n",
      "For n = 1000: Result is 1000000 and required  0.9536743 microseconds\n",
      "For n = 2000: Result is 4000000 and required  0.7152557 microseconds\n",
      "For n = 3000: Result is 9000000 and required  0.4768372 microseconds\n",
      "For n = 4000: Result is 16000000 and required  0.7152557 microseconds\n",
      "For n = 5000: Result is 25000000 and required  0.4768372 microseconds\n"
     ]
    }
   ],
   "source": [
    "# Benchmark f3() and storing the results in f3_times\n",
    "\n",
    "input_sizes = [1, 1000, 2000, 3000, 4000, 5000]\n",
    "\n",
    "def f3(n):\n",
    "    the_sum = n**2\n",
    "    return the_sum\n",
    "\n",
    "f3_times = test_n(f3, input_sizes)\n"
   ]
  },
  {
   "cell_type": "code",
   "execution_count": 10,
   "metadata": {
    "collapsed": false,
    "deletable": false,
    "editable": false,
    "nbgrader": {
     "grade": true,
     "grade_id": "dff5a2",
     "locked": true,
     "points": 5,
     "schema_version": 3,
     "solution": false,
     "task": false
    }
   },
   "outputs": [],
   "source": [
    "# Check that the benchmarking test was properly applied to f3\n",
    "from nose.tools import assert_equal\n",
    "assert_equal(len(f3_times), len(input_sizes))\n",
    "assert(sum(f3_times)<sum(f1_times))"
   ]
  },
  {
   "cell_type": "markdown",
   "metadata": {
    "collapsed": false,
    "deletable": false,
    "editable": false,
    "nbgrader": {
     "grade": false,
     "grade_id": "8bf1e5",
     "locked": true,
     "schema_version": 3,
     "solution": false,
     "task": false
    }
   },
   "source": [
    "### Visualizing Summation Functions\n",
    "\n",
    "Use matplotlib to graphically compare the results of the benchmarking tests for `f1` and `f3`. "
   ]
  },
  {
   "cell_type": "code",
   "execution_count": 11,
   "metadata": {
    "collapsed": false,
    "deletable": false,
    "nbgrader": {
     "cell_type": "code",
     "checksum": "cae2bc6793626269cf7e48bac12aca42",
     "grade": true,
     "grade_id": "7797d3",
     "locked": false,
     "points": 5,
     "schema_version": 3,
     "solution": true,
     "task": false
    }
   },
   "outputs": [
    {
     "data": {
      "image/png": "[encoded data removed]",
      "text/plain": [
       "<Figure size 864x504 with 1 Axes>"
      ]
     },
     "execution_count": 11,
     "metadata": {
      "image/png": {
       "height": 440,
       "width": 724
      },
      "needs_background": "light"
     },
     "output_type": "execute_result"
    }
   ],
   "source": [
    "# Produce a nice plot with a title, axes-labels and a legend comparing the benchmark times for comparing f1 and f3\n",
    "import matplotlib.pyplot as p\n",
    "\n",
    "p.plot ( f1_times , color = \"blue\" , marker = \"o\" , linestyle = \"dashed\" , label = \"f1_times\" )\n",
    "p.plot ( f3_times , color = \"red\" , marker = \"o\" , linestyle = \"dashed\" , label = \"f3_times\" )\n",
    "\n",
    "p.title ( \"Comparing benchmark times for f1 and f3\" )\n",
    "p.xlabel ( \"f1_times\" )\n",
    "p.ylabel ( \"f3_times \" )\n",
    "p.legend () # show the labels\n",
    "p.show ()"
   ]
  },
  {
   "cell_type": "markdown",
   "metadata": {
    "collapsed": false,
    "deletable": false,
    "editable": false,
    "nbgrader": {
     "grade": false,
     "grade_id": "15adf7",
     "locked": true,
     "schema_version": 3,
     "solution": false,
     "task": false
    }
   },
   "source": [
    "## Exercise 2: Visualizing Big O functions\n",
    "\n",
    "In Activity 11 you determined the Big O runtime for various algorithms. In Activity 12 you created plots of average runtimes for methods as the size of the problem, $n$ increases.  In the next cell, design and implement a program which graphically compares functions with the following Big O running times:\n",
    "\n",
    "1. A function `f_const` with constant Big O runtime\n",
    "2. A function `f_log` with logarithmic Big O runtime\n",
    "3. A function `f_lin` with linear Big O runtime\n",
    "4. A function `f_loglin` with log linear Big O runtime\n",
    "5. A function `f_quad` with quadratic Big O runtime\n",
    "\n",
    "Your graph should plot average runtimes versus various input sizes $n$. Adjust your list of `input_sizes` to yield a graph clearly depicting the nature of the relationships between the different running times.\n",
    "\n",
    "*Make sure your graph includes appropriate labels, a title, etc.*"
   ]
  },
  {
   "cell_type": "code",
   "execution_count": 13,
   "metadata": {
    "collapsed": false,
    "deletable": false,
    "nbgrader": {
     "cell_type": "code",
     "checksum": "28c5d2f6844dc415963187b7ad56c128",
     "grade": true,
     "grade_id": "8ab390",
     "locked": false,
     "points": 20,
     "remove": false,
     "schema_version": 3,
     "solution": true,
     "task": false
    }
   },
   "outputs": [
    {
     "data": {
      "image/png": "[encoded data removed]",
      "text/plain": [
       "<Figure size 720x432 with 1 Axes>"
      ]
     },
     "execution_count": 13,
     "metadata": {
      "image/png": {
       "height": 386,
       "width": 599
      },
      "needs_background": "light"
     },
     "output_type": "execute_result"
    }
   ],
   "source": [
    "# Graphically comparing functions with varying Big O running times\n",
    "import time\n",
    "import matplotlib.pyplot as plt\n",
    "\n",
    "def f_const(n):\n",
    "    start = time.time()\n",
    "    result = 1\n",
    "    end = time.time()\n",
    "    microsecond = (end - start) * 10**6\n",
    "    avg_runtime_const = microsecond\n",
    "    return avg_runtime_const\n",
    "    \n",
    "def f_log(n):\n",
    "    avglog = []\n",
    "    while n > 1:\n",
    "        start = time.time()\n",
    "        n = n // 2\n",
    "        end = time.time()\n",
    "        microsecond = (end - start) * 10**6\n",
    "        avglog.append(microsecond)\n",
    "    avg_runtime_log = sum(avglog)/ len(avglog)\n",
    "    return avg_runtime_log\n",
    "def f_lin(n):\n",
    "    avglin = []\n",
    "    k = 0\n",
    "    for i in range(n):\n",
    "        start = time.time()\n",
    "        k+= i\n",
    "        end = time.time()\n",
    "        microsecond = (end - start) * 10**6\n",
    "        avglin.append(microsecond)\n",
    "    avg_runtime_lin = sum(avglin) / len(avglin)\n",
    "    return avg_runtime_lin\n",
    "    \n",
    "def f_loglin(n):\n",
    "    avgloglin = []\n",
    "    for i in range(n):\n",
    "        start = time.time()\n",
    "        while i > 0:\n",
    "            i = i // 2\n",
    "            end = time.time()\n",
    "            microsecond = (end - start) * 10**6\n",
    "            avgloglin.append(microsecond)\n",
    "    avg_runtime_loglin = sum(avgloglin) / len(avgloglin)\n",
    "    return avg_runtime_loglin\n",
    "def f_quad(n):\n",
    "    avgquad = []\n",
    "    for i in range(n):\n",
    "        start = time.time()\n",
    "        for j in range(n):\n",
    "            k= 1+3\n",
    "            m = 2+3\n",
    "            end = time.time()\n",
    "            microsecond = (end - start) * 10**6\n",
    "            avgquad.append(microsecond)\n",
    "    avg_runtime_quad = sum(avgquad) / len(avgquad)\n",
    "    return avg_runtime_quad\n",
    "\n",
    "\n",
    "\n",
    "input_size = [10, 25, 50, 70]\n",
    "\n",
    "avg_const = []\n",
    "avg_log = []\n",
    "avg_lin = []\n",
    "avg_loglin=[]\n",
    "avg_quad= []\n",
    "\n",
    "for n in input_size:\n",
    "    avg_const.append(f_const(n))\n",
    "    avg_log.append(f_log(n))\n",
    "    avg_lin.append(f_lin(n))\n",
    "    avg_loglin.append(f_loglin(n))\n",
    "    avg_quad.append(f_quad(n))\n",
    "    \n",
    "plt.figure(figsize=(10, 6))\n",
    "\n",
    "plt.plot(input_size, avg_const, color = \"purple\", marker = \"o\", linestyle = \"dashed\", label = \"f_const\")\n",
    "plt.plot(input_size, avg_log, color = \"blue\", marker = \"o\", linestyle = \"dashed\", label = \"f_log\")\n",
    "plt.plot(input_size, avg_lin, color = \"green\", marker = \"o\", linestyle = \"dashed\", label = \"f_lin\")\n",
    "plt.plot(input_size, avg_loglin, color = \"red\", marker = \"o\", linestyle = \"dashed\", label = \"f_loglin\")\n",
    "plt.plot(input_size, avg_quad, color = \"black\", marker = \"o\", linestyle = \"dashed\", label = \"f_quad\")\n",
    "\n",
    "plt.xlabel('Input Size (n)')\n",
    "plt.ylabel('Average Runtime (microseconds)')\n",
    "plt.legend()\n",
    "plt.title('Comparing Big O Runtimes')\n",
    "plt.grid(True)\n",
    "\n",
    "plt.show()\n",
    "\n",
    "\n",
    "        \n",
    "    \n",
    "\n"
   ]
  },
  {
   "cell_type": "code",
   "execution_count": null,
   "metadata": {
    "collapsed": false
   },
   "outputs": [],
   "source": []
  },
  {
   "cell_type": "code",
   "execution_count": null,
   "metadata": {
    "collapsed": false
   },
   "outputs": [],
   "source": []
  }
 ],
 "metadata": {
  "kernelspec": {
   "argv": [
    "/usr/bin/python3",
    "-m",
    "ipykernel",
    "--HistoryManager.enabled=False",
    "--matplotlib=inline",
    "-c",
    "%config InlineBackend.figure_formats = set(['retina'])\nimport matplotlib; matplotlib.rcParams['figure.figsize'] = (12, 7)",
    "-f",
    "{connection_file}"
   ],
   "display_name": "Python 3 (system-wide)",
   "env": {},
   "language": "python",
   "metadata": {
    "cocalc": {
     "description": "Python 3 programming language",
     "priority": 100,
     "url": "https://www.python.org/"
    }
   },
   "name": "python3",
   "resource_dir": "/ext/jupyter/kernels/python3"
  },
  "language_info": {
   "codemirror_mode": {
    "name": "ipython",
    "version": 3
   },
   "file_extension": ".py",
   "mimetype": "text/x-python",
   "name": "python",
   "nbconvert_exporter": "python",
   "pygments_lexer": "ipython3",
   "version": "3.10.12"
  },
  "nbgrader": {
   "__altered": false,
   "__hash": 144548220,
   "_root": {
    "entries": [
     [
      "size",
      6
     ],
     [
      "_root",
      {
       "entries": [
        [
         "size",
         5
        ],
        [
         "_root",
         {
          "entries": [
           [
            "size",
            6
           ],
           [
            "_root",
            {
             "entries": [
              [
               "size",
               5
              ],
              [
               "_root",
               {
                "entries": [
                 [
                  "size",
                  6
                 ],
                 [
                  "_root",
                  {
                   "entries": [
                    [
                     "size",
                     5
                    ],
                    [
                     "_root",
                     {
                      "entries": [
                       [
                        "size",
                        6
                       ],
                       [
                        "_root",
                        {
                         "entries": [
                          [
                           "size",
                           6
                          ],
                          [
                           "_root",
                           {
                            "entries": [
                             [
                              "size",
                              6
                             ],
                             [
                              "_root",
                              {
                               "entries": [
                                [
                                 "size",
                                 6
                                ],
                                [
                                 "_root",
                                 {
                                  "entries": [
                                   [
                                    "size",
                                    6
                                   ],
                                   [
                                    "_root",
                                    {
                                     "entries": [
                                      [
                                       "size",
                                       5
                                      ],
                                      [
                                       "_root",
                                       {
                                        "entries": [
                                         [
                                          "__altered",
                                          false
                                         ],
                                         [
                                          "__hash",
                                          788231169
                                         ],
                                         [
                                          "_root",
                                          {
                                           "entries": [
                                            [
                                             "size",
                                             6
                                            ],
                                            [
                                             "_root",
                                             {
                                              "entries": [
                                               [
                                                "size",
                                                6
                                               ],
                                               [
                                                "_root",
                                                {
                                                 "entries": [
                                                  [
                                                   "size",
                                                   6
                                                  ],
                                                  [
                                                   "_root",
                                                   {
                                                    "entries": [
                                                     [
                                                      "size",
                                                      5
                                                     ],
                                                     [
                                                      "_root",
                                                      {
                                                       "entries": [
                                                        [
                                                         "size",
                                                         6
                                                        ],
                                                        [
                                                         "_root",
                                                         {
                                                          "entries": [
                                                           [
                                                            "size",
                                                            6
                                                           ],
                                                           [
                                                            "_root",
                                                            {
                                                             "entries": [
                                                              [
                                                               "size",
                                                               1
                                                              ],
                                                              [
                                                               "_root",
                                                               {
                                                                "entries": [
                                                                 [
                                                                  "cocalc_minimal_stubs",
                                                                  true
                                                                 ]
                                                                ],
                                                                "ownerID": {}
                                                               }
                                                              ],
                                                              [
                                                               "__ownerID",
                                                               null
                                                              ],
                                                              [
                                                               "__hash",
                                                               912286151
                                                              ],
                                                              [
                                                               "__altered",
                                                               false
                                                              ],
                                                              [
                                                               "cocalc_minimal_stubs",
                                                               true
                                                              ]
                                                             ],
                                                             "ownerID": {}
                                                            }
                                                           ],
                                                           [
                                                            "__ownerID",
                                                            null
                                                           ],
                                                           [
                                                            "__hash",
                                                            853781301
                                                           ],
                                                           [
                                                            "__altered",
                                                            false
                                                           ],
                                                           [
                                                            "cocalc_minimal_stubs",
                                                            true
                                                           ]
                                                          ],
                                                          "ownerID": {}
                                                         }
                                                        ],
                                                        [
                                                         "__hash",
                                                         615395691
                                                        ],
                                                        [
                                                         "__altered",
                                                         false
                                                        ],
                                                        [
                                                         "cocalc_minimal_stubs",
                                                         true
                                                        ]
                                                       ],
                                                       "ownerID": {}
                                                      }
                                                     ],
                                                     [
                                                      "__ownerID",
                                                      null
                                                     ],
                                                     [
                                                      "__hash",
                                                      482977771
                                                     ],
                                                     [
                                                      "__altered",
                                                      false
                                                     ],
                                                     [
                                                      "cocalc_minimal_stubs",
                                                      true
                                                     ]
                                                    ],
                                                    "ownerID": {}
                                                   }
                                                  ],
                                                  [
                                                   "__ownerID",
                                                   null
                                                  ],
                                                  [
                                                   "__hash",
                                                   -523421519
                                                  ],
                                                  [
                                                   "__altered",
                                                   false
                                                  ],
                                                  [
                                                   "cocalc_minimal_stubs",
                                                   true
                                                  ]
                                                 ],
                                                 "ownerID": {}
                                                }
                                               ],
                                               [
                                                "__ownerID",
                                                null
                                               ],
                                               [
                                                "__hash",
                                                28963905
                                               ],
                                               [
                                                "__altered",
                                                false
                                               ],
                                               [
                                                "cocalc_minimal_stubs",
                                                true
                                               ]
                                              ],
                                              "ownerID": {}
                                             }
                                            ],
                                            [
                                             "__hash",
                                             -1008119928
                                            ],
                                            [
                                             "__altered",
                                             false
                                            ],
                                            [
                                             "cocalc_minimal_stubs",
                                             true
                                            ]
                                           ],
                                           "ownerID": {}
                                          }
                                         ],
                                         [
                                          "cocalc_minimal_stubs",
                                          true
                                         ],
                                         [
                                          "size",
                                          5
                                         ]
                                        ],
                                        "ownerID": {}
                                       }
                                      ],
                                      [
                                       "__ownerID",
                                       null
                                      ],
                                      [
                                       "__hash",
                                       -1072830672
                                      ],
                                      [
                                       "__altered",
                                       false
                                      ],
                                      [
                                       "cocalc_minimal_stubs",
                                       true
                                      ]
                                     ],
                                     "ownerID": {}
                                    }
                                   ],
                                   [
                                    "__ownerID",
                                    null
                                   ],
                                   [
                                    "__hash",
                                    -244033432
                                   ],
                                   [
                                    "__altered",
                                    false
                                   ],
                                   [
                                    "cocalc_minimal_stubs",
                                    true
                                   ]
                                  ],
                                  "ownerID": {}
                                 }
                                ],
                                [
                                 "__ownerID",
                                 null
                                ],
                                [
                                 "__hash",
                                 411744732
                                ],
                                [
                                 "__altered",
                                 false
                                ],
                                [
                                 "cocalc_minimal_stubs",
                                 true
                                ]
                               ],
                               "ownerID": {}
                              }
                             ],
                             [
                              "__ownerID",
                              null
                             ],
                             [
                              "__hash",
                              23921595
                             ],
                             [
                              "__altered",
                              false
                             ],
                             [
                              "cocalc_minimal_stubs",
                              true
                             ]
                            ],
                            "ownerID": {}
                           }
                          ],
                          [
                           "__ownerID",
                           null
                          ],
                          [
                           "__hash",
                           581759794
                          ],
                          [
                           "__altered",
                           false
                          ],
                          [
                           "cocalc_minimal_stubs",
                           true
                          ]
                         ],
                         "ownerID": {}
                        }
                       ],
                       [
                        "__hash",
                        -811548108
                       ],
                       [
                        "__altered",
                        false
                       ],
                       [
                        "cocalc_minimal_stubs",
                        true
                       ]
                      ],
                      "ownerID": {}
                     }
                    ],
                    [
                     "__ownerID",
                     null
                    ],
                    [
                     "__hash",
                     -13172709
                    ],
                    [
                     "__altered",
                     false
                    ],
                    [
                     "cocalc_minimal_stubs",
                     true
                    ]
                   ],
                   "ownerID": {}
                  }
                 ],
                 [
                  "__hash",
                  -29790208
                 ],
                 [
                  "__altered",
                  false
                 ],
                 [
                  "cocalc_minimal_stubs",
                  true
                 ]
                ],
                "ownerID": {}
               }
              ],
              [
               "__ownerID",
               null
              ],
              [
               "__hash",
               -989835681
              ],
              [
               "__altered",
               false
              ],
              [
               "cocalc_minimal_stubs",
               true
              ]
             ],
             "ownerID": {}
            }
           ],
           [
            "__hash",
            774881509
           ],
           [
            "__altered",
            false
           ],
           [
            "cocalc_minimal_stubs",
            true
           ]
          ],
          "ownerID": {}
         }
        ],
        [
         "__ownerID",
         null
        ],
        [
         "__hash",
         -984548934
        ],
        [
         "__altered",
         false
        ],
        [
         "cocalc_minimal_stubs",
         true
        ]
       ],
       "ownerID": {}
      }
     ],
     [
      "__hash",
      -625870717
     ],
     [
      "__altered",
      false
     ],
     [
      "cocalc_minimal_stubs",
      true
     ]
    ],
    "ownerID": {}
   },
   "cocalc_minimal_stubs": true,
   "size": 5
  }
 },
 "nbformat": 4,
 "nbformat_minor": 4
}
